{
 "cells": [
  {
   "cell_type": "markdown",
   "metadata": {},
   "source": [
    "# Coverage Biases\n",
    "All calculations related to differences in coverage between male and female politicians on Reddit."
   ]
  },
  {
   "cell_type": "code",
   "execution_count": 1,
   "metadata": {},
   "outputs": [],
   "source": [
    "import pandas as pd\n",
    "from ast import literal_eval\n",
    "import glob\n",
    "import numpy as np\n",
    "from scipy.stats import ttest_ind\n",
    "from scipy.stats import norm\n",
    "import matplotlib.patches as mpatches\n",
    "import matplotlib.pyplot as plt"
   ]
  },
  {
   "cell_type": "code",
   "execution_count": null,
   "metadata": {},
   "outputs": [],
   "source": [
    "def cohend(d1, d2):\n",
    "        # calculate the size of samples\n",
    "        n1, n2 = len(d1), len(d2)\n",
    "        # calculate the variance of the samples\n",
    "        s1, s2 = np.var(d1, ddof=1), np.var(d2, ddof=1)\n",
    "        # calculate the pooled standard deviation\n",
    "        s = np.sqrt(((n1 - 1) * s1 + (n2 - 1) * s2) / (n1 + n2 - 2))\n",
    "        # calculate the means of the samples\n",
    "        u1, u2 = np.mean(d1), np.mean(d2)\n",
    "        # calculate the effect size\n",
    "        return (u1 - u2) / s"
   ]
  },
  {
   "cell_type": "code",
   "execution_count": null,
   "metadata": {},
   "outputs": [],
   "source": [
    "# Colours\n",
    "WOMEN = \"#ff876d\"\n",
    "WOMEN_POS = \"#ffcea8\"\n",
    "WOMEN_NEG = \"#cb4d36\"\n",
    "MEN = \"#009ce4\"\n",
    "MEN_POS = \"#76efff\"#\"#b8e1ff\"\n",
    "MEN_NEG = \"#056497\"\n",
    "ACCENT = \"#d2518f\"\n",
    "ACCENT2 = \"#987ad3\""
   ]
  },
  {
   "cell_type": "code",
   "execution_count": null,
   "metadata": {},
   "outputs": [],
   "source": [
    "# df = pd.read_csv(\"C:/Users/vanki/partisan.csv\")\n",
    "dfs = []\n",
    "for file in glob.glob(\"C:/Users/vanki/201*.csv\"): ## Collect dataset\n",
    "    dfs.append(pd.read_csv(file))\n",
    "    \n",
    "# # Remove any corruptions in dataset\n",
    "# df = pd.concat(dfs).drop(columns=[\"Unnamed: 0\"])\n",
    "# df.dropna(subset=['Adjectives'], inplace=True) # somekind of mistake\n",
    "\n",
    "df = df[df['sex'].isin(['male','female'])]\n",
    "df.drop_duplicates('id', keep=False, inplace=True) # only look at comments that talk about ONE politician"
   ]
  },
  {
   "cell_type": "code",
   "execution_count": null,
   "metadata": {},
   "outputs": [],
   "source": [
    "# # To look at cross-partisan subsets only\n",
    "# left = ['Liberal', 'SocialDemocracy', 'socialism', 'alltheleft', 'neoliberal', 'democrats']\n",
    "# right = ['Libertarian', 'Conservative', 'Republican']\n",
    "# alt_right = ['The_Donald']\n",
    "\n",
    "# full_df = df\n",
    "# maps = {}\n",
    "# for sr in left:\n",
    "#     maps[sr] = 'left'\n",
    "# for sr in right:\n",
    "#     maps[sr] = 'right'\n",
    "# maps['The_Donald'] = 'alt_right'\n",
    "# df['group'] = df['subreddit'].map(maps)\n",
    "# df.dropna(subset=['group'], inplace=True)"
   ]
  },
  {
   "cell_type": "markdown",
   "metadata": {},
   "source": [
    "## Number of comments\n",
    "Significance calculated in RStudio"
   ]
  },
  {
   "cell_type": "code",
   "execution_count": null,
   "metadata": {},
   "outputs": [],
   "source": [
    "## First check wikidata for bias\n",
    "import json\n",
    "with open('politician_data_final.json') as f: ## Wikidata collection of politicians\n",
    "    wikidata = json.load(f)\n",
    "\n",
    "all_females = []\n",
    "all_males = []\n",
    "for entry in wikidata:\n",
    "    if entry['sex_or_gender'] == 'female':\n",
    "        all_females.append(entry['id'])\n",
    "    elif entry['sex_or_gender'] == 'male':\n",
    "        all_males.append(entry['id'])\n",
    "print(len(all_females), len(all_males))"
   ]
  },
  {
   "cell_type": "code",
   "execution_count": null,
   "metadata": {},
   "outputs": [],
   "source": [
    "print(df[df['sex'] == 'female'].shape[0])\n",
    "print(df[df['sex'] == 'male'].shape[0])"
   ]
  },
  {
   "cell_type": "markdown",
   "metadata": {},
   "source": [
    "### Cross-partisan"
   ]
  },
  {
   "cell_type": "code",
   "execution_count": null,
   "metadata": {},
   "outputs": [],
   "source": [
    "print(\"Left\", df[(df['group'] == 'left') & (df['sex'] == 'female')].shape[0] / df[(df['group'] == 'left')].shape[0])\n",
    "print(\"Right\", df[(df['group'] == 'right') & (df['sex'] == 'female')].shape[0] / df[(df['group'] == 'right')].shape[0])\n",
    "print(\"Alt-right\", df[(df['group'] == 'alt_right') & (df['sex'] == 'female')].shape[0] / df[(df['group'] == 'alt_right')].shape[0])"
   ]
  },
  {
   "cell_type": "markdown",
   "metadata": {},
   "source": [
    "## Number of comments per entity"
   ]
  },
  {
   "cell_type": "code",
   "execution_count": null,
   "metadata": {},
   "outputs": [],
   "source": [
    "#  Get counts per entitty\n",
    "men_ct = df[df.sex == 'male'].groupby('NEL').count()['body']\n",
    "fem_ct = df[df.sex == 'female'].groupby('NEL').count()['body']"
   ]
  },
  {
   "cell_type": "code",
   "execution_count": null,
   "metadata": {},
   "outputs": [],
   "source": [
    "# Parametric test\n",
    "from scipy.stats import mannwhitneyu\n",
    "\n",
    "mannwhitneyu(men_ct, fem_ct, alternative='two-sided')"
   ]
  },
  {
   "cell_type": "code",
   "execution_count": null,
   "metadata": {},
   "outputs": [],
   "source": [
    "# Non-parametric test\n",
    "\n",
    "from scipy.stats import ks_2samp\n",
    "ks_2samp(men_ct, fem_ct)"
   ]
  },
  {
   "cell_type": "code",
   "execution_count": null,
   "metadata": {},
   "outputs": [],
   "source": [
    "## Visualization\n",
    "values, base = np.histogram(men_ct, bins=50000)\n",
    "cumulative = np.cumsum(values)/values.sum()\n",
    "### plot the cumulative function\n",
    "plt.plot(base[:-1], 1-cumulative, c=MEN, label=\"Men\")\n",
    "values, base = np.histogram(fem_ct, bins=50000)\n",
    "cumulative = np.cumsum(values)/values.sum()\n",
    "## plot the cumulative function\n",
    "plt.plot(base[:-1], 1-cumulative, c=WOMEN, label= \"Women\")\n",
    "plt.xlabel(\"In-degree (D)\")\n",
    "plt.title(\"Cumulative CDFs of Entity In-degree\")\n",
    "plt.ylabel(\"P(d > D)\")\n",
    "plt.xscale(\"log\")\n",
    "plt.yscale(\"log\")\n",
    "plt.legend()\n",
    "plt.savefig(\"CDFs.png\")\n",
    "plt.show()"
   ]
  },
  {
   "cell_type": "code",
   "execution_count": null,
   "metadata": {},
   "outputs": [],
   "source": [
    "# # look at only those under 50000?\n",
    "# THRESHOLD = 5000\n",
    "# l_mens = mens.groupby('NEL').filter(lambda group: len(group) < THRESHOLD)\n",
    "# l_fems = fems.groupby('NEL').filter(lambda group: len(group) < THRESHOLD)\n",
    "# values, base = np.histogram(l_mens.groupby('NEL').count()['body'], bins=150)\n",
    "# cumulative = np.cumsum(values)/values.sum()\n",
    "# ### plot the cumulative function\n",
    "# plt.plot(base[:-1], 1-cumulative, c='blue', label=\"Men\")\n",
    "# values, base = np.histogram(l_fems.groupby('NEL').count()['body'], bins=150)\n",
    "# cumulative = np.cumsum(values)/values.sum()\n",
    "# ## plot the cumulative function\n",
    "# plt.plot(base[:-1], 1-cumulative, c='red', label= \"Women\")\n",
    "# plt.xlabel(\"In-degree\")\n",
    "# plt.xscale(\"log\")\n",
    "# plt.ylabel(\"P(d > D)\")\n",
    "# plt.yscale(\"log\")\n",
    "# plt.legend()\n",
    "# plt.show()"
   ]
  },
  {
   "cell_type": "markdown",
   "metadata": {},
   "source": [
    "### Cross-partisan"
   ]
  },
  {
   "cell_type": "code",
   "execution_count": null,
   "metadata": {},
   "outputs": [],
   "source": [
    "# Cross-partisan\n",
    "cts = []\n",
    "for group in ['left', 'right', 'alt_right']:\n",
    "    for gender in ['male', 'female']:\n",
    "        cts.append(df[(df['sex'] == gender) & (df['group'] == group)].groupby('NEL').count()['body'])"
   ]
  },
  {
   "cell_type": "code",
   "execution_count": null,
   "metadata": {},
   "outputs": [],
   "source": [
    "# in-degree of politician\n",
    "#import matplotlib.pyplot as plt\n",
    "\n",
    "groups = [\"Left\", \"Right\", \"Alt-Right\"]\n",
    "fig, ax = plt.subplots(1, 3, figsize=(15,5), sharey=True, sharex=True)\n",
    "fig.suptitle('Cumulative CDFs of Entity In-degree Across Partisanship', size=16)\n",
    "c = 0\n",
    "for i in range(3):\n",
    "    for j in range(2):\n",
    "        values, base = np.histogram(cts[c], bins=50000)\n",
    "        cumulative = np.cumsum(values)/values.sum()\n",
    "        color = MEN if j == 0 else WOMEN\n",
    "        l = \"Men\" if j == 0 else \"Women\"\n",
    "        ax[i].plot(base[:-1], 1-cumulative, c=color, label=l)\n",
    "        c += 1\n",
    "    ax[i].set_title(groups[i])\n",
    "    ax[i].set_xlabel(\"In-degree (D)\")\n",
    "#     ax[i].set_ylabel(\"P(d > D)\")\n",
    "    ax[i].set_yscale(\"log\")\n",
    "    ax[i].set_xscale(\"log\")\n",
    "    ax[i].grid(alpha=0.3)\n",
    "\n",
    "ax[0].set_ylabel(\"P(d > D)\")\n",
    "ax[2].legend()\n",
    "plt.savefig(\"CDFs_cross.png\")\n",
    "plt.show()\n",
    "# plt.show()"
   ]
  },
  {
   "cell_type": "markdown",
   "metadata": {},
   "source": [
    "## Comment length\n",
    "Partisan significance calculated in RStudio"
   ]
  },
  {
   "cell_type": "code",
   "execution_count": null,
   "metadata": {},
   "outputs": [],
   "source": [
    "df['len'] = df.body.map(lambda x: len(x.split(' '))) #Split at spaces\n",
    "# singles[['group','sex','len']].to_csv(\"lens.csv\", index=False)"
   ]
  },
  {
   "cell_type": "code",
   "execution_count": null,
   "metadata": {},
   "outputs": [],
   "source": [
    "# Mean and standard devation for reporting\n",
    "print(df[(df['sex'] == 'female') &(df['group'] == group)]['len'].mean(),df[(df['sex'] == 'female') &( df['group'] == group)]['len'].std())\n",
    "print(df[(df['sex'] == 'male') &(df['group'] == group)]['len'].mean(),df[(df['sex'] == 'male') &( df['group'] == group)]['len'].std())"
   ]
  },
  {
   "cell_type": "code",
   "execution_count": null,
   "metadata": {},
   "outputs": [],
   "source": [
    "df['length'] = df.body.map(lambda x: len(x.split()))\n",
    "print('COVERAGE BIASES')\n",
    "print(\"Female\", df[df.sex == 'female'].length.mean(), \"Male\", df[df.sex == 'male'].length.mean(), \"+-\", df[df.sex == 'male'].length.std())\n",
    "print(ttest_ind(df[df.sex == 'female'].length.dropna(), df[df.sex == 'male'].length.dropna()), cohend(df[df.sex == 'female'].length.dropna(), df[df.sex == 'male'].length.dropna()))\n",
    "##### CALCULATE FOR SUBSET IN R TO DO 2-WAY ANOVAS\n",
    "df.dropna(subset=['group'])[['length','sex','group']].to_csv(\"partisan_lengths.csv\")"
   ]
  },
  {
   "cell_type": "code",
   "execution_count": null,
   "metadata": {},
   "outputs": [],
   "source": [
    "import matplotlib.patches as mpatches\n",
    "\n",
    "vecs = []\n",
    "colors=[]\n",
    "for g in ['left','right','alt_right']:\n",
    "    for s in ['male', 'female']:\n",
    "        vecs.append(test[(test.sex==s) &(test.group==g)]['len'])\n",
    "        if s == 'male':\n",
    "            colors.append(MEN)\n",
    "        else:\n",
    "            colors.append(WOMEN)\n",
    "        \n",
    "plt.figure(figsize=(12,7))\n",
    "loc = 1\n",
    "switch = False\n",
    "for i in range(len(vecs)):\n",
    "    plt.boxplot(vecs[i], positions=[loc], widths=[0.5], showfliers=False, patch_artist=True,\n",
    "             boxprops=dict(color=colors[i],alpha=0.8, facecolor=colors[i]), medianprops=dict(color=ACCENT),\n",
    "                whiskerprops=dict(color=colors[i]), capprops=dict(color=colors[i]))\n",
    "    loc += 1\n",
    "    if switch:\n",
    "        loc += 1\n",
    "    switch = not switch\n",
    "plt.xticks([1.5,4.5,7.5], ['Left','Right','Alt right'],size=16)\n",
    "\n",
    "mn_patch = mpatches.Patch(color=MEN, label='Men')\n",
    "wmn_patch = mpatches.Patch(color=WOMEN, label='Women')\n",
    "l = plt.legend(handles=[mn_patch,wmn_patch],loc=\"upper right\",borderpad=0.6)\n",
    "i = 0\n",
    "for text in l.get_texts():\n",
    "    text.set_color(colors[i])\n",
    "    text.set_size(16)\n",
    "    i+= 1\n",
    "plt.margins(y=0.2)\n",
    "# plt.yticks([0.,0.2,0.4,0.6,0.8,1.0])\n",
    "plt.ylim(0)\n",
    "plt.ylabel(\"Comment length\", size=14)\n",
    "plt.title(\"Length of comment across the partisan/gender divides\", size=16)\n",
    "plt.savefig(\"figures/comment_length.tiff\",dpi=300)\n",
    "plt.show()\n",
    "\n",
    "for vec in vecs:\n",
    "    print(vec.mean(), vec.shape[0])"
   ]
  },
  {
   "cell_type": "markdown",
   "metadata": {},
   "source": [
    "### Cross-partisan"
   ]
  },
  {
   "cell_type": "code",
   "execution_count": null,
   "metadata": {},
   "outputs": [],
   "source": [
    "## Mean and Standard Deviations\n",
    "for group in ['left', 'right', 'alt_right']:\n",
    "    print(group)\n",
    "    print(df[(df['sex'] == 'female') &( df['group'] == group)]['len'].mean(),df[(df['sex'] == 'female') &( df['group'] == group)]['len'].std())\n",
    "    print(df[(df['sex'] == 'male') &( df['group'] == group)]['len'].mean(),df[(df['sex'] == 'male') &( df['group'] == group)]['len'].std())"
   ]
  },
  {
   "cell_type": "code",
   "execution_count": null,
   "metadata": {},
   "outputs": [],
   "source": [
    "## Significance test\n",
    "for group in ['left', 'right', 'alt_right']:\n",
    "    print(ttest_ind(df[(df['sex'] == 'female') &( df['group'] == group)]['len'], df[(df['sex'] == 'male') & (df['group'] == group)]['len']))"
   ]
  },
  {
   "cell_type": "code",
   "execution_count": null,
   "metadata": {},
   "outputs": [],
   "source": [
    "# Visualize\n",
    "\n",
    "lens = []\n",
    "plt.figure(figsize=(10,5))\n",
    "for group in ['left', 'right', 'alt_right']:\n",
    "    lens.append(df[(df['sex'] == 'male') &( df['group'] == group)]['len'])\n",
    "    lens.append(df[(df['sex'] == 'female') &( df['group'] == group)]['len'])\n",
    "loc = 1\n",
    "switch = False\n",
    "for i in range(len(lens)):\n",
    "    plt.boxplot(lens[i], positions=[loc], widths=[0.5], patch_artist=True,\n",
    "             boxprops=dict(color=colors[i],alpha=0.8, facecolor=colors[i]), medianprops=dict(color=ACCENT),\n",
    "                whiskerprops=dict(color=colors[i]), capprops=dict(color=colors[i]), showfliers=False)\n",
    "    loc += 1\n",
    "    if switch:\n",
    "        loc += 1\n",
    "    switch = not switch\n",
    "plt.xticks([1.5,4.5,7.5], ['Left','Right','Alt right'],size=14)\n",
    "\n",
    "mn_patch = mpatches.Patch(color=MEN, label='Men')\n",
    "wmn_patch = mpatches.Patch(color=WOMEN, label='Women')\n",
    "l = plt.legend(handles=[mn_patch,wmn_patch],loc=\"upper right\",borderpad=0.6, edgecolor='white')\n",
    "i = 0\n",
    "for text in l.get_texts():\n",
    "    text.set_color(colors[i])\n",
    "    text.set_size(16)\n",
    "    i+= 1\n",
    "    \n",
    "plt.title(\"Length of comments across partisan/gender divide\", size=16)\n",
    "plt.savefig(\"Lengths.png\")\n",
    "plt.show()"
   ]
  }
 ],
 "metadata": {
  "kernelspec": {
   "display_name": "Python 3",
   "language": "python",
   "name": "python3"
  },
  "language_info": {
   "codemirror_mode": {
    "name": "ipython",
    "version": 3
   },
   "file_extension": ".py",
   "mimetype": "text/x-python",
   "name": "python",
   "nbconvert_exporter": "python",
   "pygments_lexer": "ipython3",
   "version": "3.8.5"
  }
 },
 "nbformat": 4,
 "nbformat_minor": 4
}
