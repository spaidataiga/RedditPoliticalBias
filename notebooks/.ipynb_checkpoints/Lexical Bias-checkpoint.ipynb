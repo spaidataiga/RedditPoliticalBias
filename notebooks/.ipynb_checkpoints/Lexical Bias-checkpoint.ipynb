{
 "cells": [
  {
   "cell_type": "code",
   "execution_count": 2,
   "metadata": {},
   "outputs": [],
   "source": [
    "import pandas as pd\n",
    "from ast import literal_eval\n",
    "import glob\n",
    "import numpy as np\n",
    "import matplotlib.pyplot as plt\n",
    "import random"
   ]
  },
  {
   "cell_type": "code",
   "execution_count": 3,
   "metadata": {},
   "outputs": [],
   "source": [
    "### colors from https://learnui.design/tools/data-color-picker.html#palette\n",
    "\n",
    "WOMEN = \"#ff876d\"\n",
    "WOMEN_POS = \"#ffcea8\"\n",
    "WOMEN_NEG = \"#cb4d36\"\n",
    "MEN = \"#009ce4\"\n",
    "MEN_POS = \"#76efff\"#\"#b8e1ff\"\n",
    "MEN_NEG = \"#056497\"\n",
    "ACCENT = \"#d2518f\"\n",
    "ACCENT2 = \"#987ad3\""
   ]
  },
  {
   "cell_type": "code",
   "execution_count": 4,
   "metadata": {},
   "outputs": [],
   "source": [
    "DELTA = 0.7 ## RECOMMENDED\n",
    "DELTA2 = 0.7 ## STARTING ATTEMPT\n",
    "#S = 20*W ## RECOMMENDED"
   ]
  },
  {
   "cell_type": "code",
   "execution_count": 5,
   "metadata": {},
   "outputs": [],
   "source": [
    "def return_PMI(row):\n",
    "    fem_PMI = np.log( (row.female) / (P_fem * ((row.female + row.male)/N)))\n",
    "    mal_PMI = np.log( (row.male) / (P_mal * ((row.female + row.male)/N)))\n",
    "    return fem_PMI, mal_PMI"
   ]
  },
  {
   "cell_type": "code",
   "execution_count": 6,
   "metadata": {},
   "outputs": [],
   "source": [
    "def return_cPMI(row): # should P_fem/N and word/W??? Look at more usecases of this in a context.\n",
    "    fem_cPMI = np.log( row.female/N / (P_fem/N * ((row.female + row.male)/W_adj) + np.sqrt(P_fem) * np.sqrt(np.log(DELTA)/-2)))\n",
    "    mal_cPMI = np.log( row.male/N / (P_mal/N * ((row.female + row.male)/W_adj) + np.sqrt(P_mal) * np.sqrt(np.log(DELTA)/-2)))\n",
    "    return fem_cPMI, mal_cPMI"
   ]
  },
  {
   "cell_type": "code",
   "execution_count": 7,
   "metadata": {},
   "outputs": [],
   "source": [
    "def return_cPMId(row):\n",
    "    fem_cPMId = np.log( row.female / (Pd_fem * ((row.female + row.male)/D) + np.sqrt(Pd_fem) * np.sqrt(np.log(DELTA)/-2)))\n",
    "    mal_cPMId = np.log( row.male / (Pd_mal * ((row.female + row.male)/D) + np.sqrt(Pd_mal) * np.sqrt(np.log(DELTA)/-2)))\n",
    "    return fem_cPMId, mal_cPMId"
   ]
  },
  {
   "cell_type": "code",
   "execution_count": 7,
   "metadata": {},
   "outputs": [],
   "source": [
    "# dfs = []\n",
    "# for file in glob.glob(\"201*.csv\"):\n",
    "#     dfs.append(pd.read_csv(file))\n",
    "# df = pd.concat(dfs)\n",
    "# # df.to_csv(\"all_comments.csv\", index=False)"
   ]
  },
  {
   "cell_type": "code",
   "execution_count": null,
   "metadata": {},
   "outputs": [
    {
     "name": "stderr",
     "output_type": "stream",
     "text": [
      "C:\\Users\\vanki\\anaconda3\\lib\\site-packages\\IPython\\core\\interactiveshell.py:3146: DtypeWarning: Columns (15,16,17,18) have mixed types.Specify dtype option on import or set low_memory=False.\n",
      "  has_raised = await self.run_ast_nodes(code_ast.body, cell_name,\n"
     ]
    }
   ],
   "source": [
    "# Load precompiled dataset (big)\n",
    "import pandas as pd\n",
    "# df = pd.read_csv(\"all_comments.csv\")\n",
    "df = pd.read_csv(\"singles.csv\")\n",
    "\n",
    "# # Remove corruptions in file\n",
    "# df.dropna(subset=['Descriptors_parsed'], inplace=True) # somekind of mistake\n",
    "# df = df[~(df.subreddit.str.startswith(\"Q\")) | ~(df.subreddit.str.startswith(\"[\"))]\n",
    "\n",
    "# Get parsed descriptors to be read\n",
    "df['Descriptors_parsed'] = df['Descriptors_parsed'].str.replace(\"set()\", \"\")\n",
    "df['Descriptors_parsed'] = df['Descriptors_parsed'].map(literal_eval)\n"
   ]
  },
  {
   "cell_type": "code",
   "execution_count": null,
   "metadata": {},
   "outputs": [],
   "source": [
    "# ### if you would like to isolate to just a subset of the data\n",
    "#full_sg = singles\n",
    "left = ['Liberal', 'SocialDemocracy', 'socialism', 'alltheleft', 'neoliberal', 'democrats']\n",
    "right = ['Libertarian', 'Conservative', 'Republican']\n",
    "alt_right = ['The_Donald']\n",
    "# maps = {}\n",
    "# for sr in left:\n",
    "#     maps[sr] = 'left'\n",
    "# for sr in right:\n",
    "#     maps[sr] = 'right'\n",
    "# maps['The_Donald'] = 'alt_right'\n",
    "# df['group'] = df['subreddit'].map(maps)\n",
    "# df.dropna(subset=['group'], inplace=True)"
   ]
  },
  {
   "cell_type": "markdown",
   "metadata": {},
   "source": [
    "## Test out PMI code"
   ]
  },
  {
   "cell_type": "code",
   "execution_count": null,
   "metadata": {},
   "outputs": [],
   "source": [
    "fem_freq = {}\n",
    "mal_freq = {}\n",
    "for doc in df[df['sex'] == 'female'].Descriptors_parsed:\n",
    "    for adj in doc: #ensure the same word isn't counted twice\n",
    "        if adj.lower() in fem_freq.keys():\n",
    "            fem_freq[adj.lower()] += 1\n",
    "        else:\n",
    "            fem_freq[adj.lower()] = 1\n",
    "            mal_freq[adj.lower()] = 0\n",
    "\n",
    "for doc in df[df['sex'] == 'male'].Descriptors_parsed:\n",
    "    for adj in doc: #ensure the same word isn't counted twice\n",
    "        if adj.lower() in mal_freq.keys():\n",
    "            mal_freq[adj.lower() ] += 1\n",
    "        else:\n",
    "            mal_freq[adj.lower() ] = 1\n",
    "            fem_freq[adj.lower() ] = 0\n",
    "            \n",
    "array = pd.DataFrame.from_dict([fem_freq,mal_freq])\n",
    "array.index = ['female', 'male']"
   ]
  },
  {
   "cell_type": "code",
   "execution_count": null,
   "metadata": {},
   "outputs": [],
   "source": [
    "array_T = array.transpose()\n",
    "array_T = array_T[(array_T.female > 2) & (array_T.male > 2)] # only look at words that appear at least 3 times in both sample sets.\n",
    "\n",
    "W_adj = sum(df.Descriptors_parsed.map(len))\n",
    "\n",
    "N =  df.shape[0]\n",
    "P_fem = df[df['sex'] == 'female'].shape[0]\n",
    "P_mal = df[df['sex'] == 'male'].shape[0]"
   ]
  },
  {
   "cell_type": "markdown",
   "metadata": {},
   "source": [
    "### Print top words in each category"
   ]
  },
  {
   "cell_type": "code",
   "execution_count": null,
   "metadata": {},
   "outputs": [],
   "source": [
    "array_T['PMI_female'], array_T['PMI_male'] = zip(*array_T.apply(lambda row: return_PMI(row), axis=1))"
   ]
  },
  {
   "cell_type": "code",
   "execution_count": null,
   "metadata": {},
   "outputs": [],
   "source": [
    "array_T['cPMI_female'], array_T['cPMI_male'] = zip(*array_T.apply(lambda row: return_cPMI(row), axis=1))"
   ]
  },
  {
   "cell_type": "code",
   "execution_count": null,
   "metadata": {},
   "outputs": [],
   "source": [
    "array_T.sort_values(by=['PMI_female'], axis=0, ascending=False).iloc[:300]"
   ]
  },
  {
   "cell_type": "code",
   "execution_count": null,
   "metadata": {},
   "outputs": [],
   "source": [
    "array_T.sort_values(by=['PMI_male'], axis=0, ascending=False).iloc[:300]"
   ]
  },
  {
   "cell_type": "code",
   "execution_count": null,
   "metadata": {},
   "outputs": [],
   "source": [
    "array_T.sort_values(by=['cPMI_male'], axis=0, ascending=False).iloc[:200]\n",
    "(array_T['cPMI_female'] - array_T['cPMI_male']).sort_values(ascending=False).iloc[:200]"
   ]
  },
  {
   "cell_type": "markdown",
   "metadata": {},
   "source": [
    "## Entity-based method"
   ]
  },
  {
   "cell_type": "code",
   "execution_count": 36,
   "metadata": {},
   "outputs": [],
   "source": [
    "df['Descriptors_parsed'] = df['Descriptors_parsed'].map(list)\n",
    "\n",
    "entity_level = df.groupby('NEL').agg({'Descriptors_parsed': list})\n",
    "entity_level['Descriptors_parsed'] = entity_level['Descriptors_parsed'].apply(lambda x: [item for sublist in x for item in sublist])\n",
    "entity_level['Descriptors_parsed'] = entity_level['Descriptors_parsed'].map(set)\n",
    "\n",
    "mapper = df[['NEL','sex']].drop_duplicates('NEL').set_index('NEL').to_dict()['sex']\n",
    "entity_level['sex'] = entity_level.index.map(mapper)"
   ]
  },
  {
   "cell_type": "code",
   "execution_count": 37,
   "metadata": {},
   "outputs": [],
   "source": [
    "# Clean up\n",
    "\n",
    "import re, string\n",
    "punct = string.punctuation\n",
    "punct = punct.replace('-','')\n",
    "punct = punct + \"\\n\\t\"\n",
    "pattern = re.compile(\"\\w*[\" + re.escape(punct) + \"]+\\w*\")"
   ]
  },
  {
   "cell_type": "code",
   "execution_count": null,
   "metadata": {},
   "outputs": [],
   "source": [
    "d_fem_freq = {}\n",
    "d_mal_freq = {}\n",
    "for ent in entity_level[entity_level['sex'] == 'female'].Descriptors_parsed:\n",
    "    for adj in ent: #ensure the same word isn't counted twice\n",
    "        if adj.lower() in d_fem_freq.keys():\n",
    "            d_fem_freq[adj.lower()] += 1\n",
    "        else:\n",
    "            if not pattern.match(adj):\n",
    "                d_fem_freq[adj.lower()] = 1\n",
    "                d_mal_freq[adj.lower()] = 0\n",
    "\n",
    "for ent in entity_level[entity_level['sex'] == 'male'].Descriptors_parsed:\n",
    "    for adj in ent: #ensure the same word isn't counted twice\n",
    "        if adj.lower() in d_mal_freq.keys():\n",
    "            d_mal_freq[adj.lower() ] += 1\n",
    "        else:\n",
    "            if not pattern.match(adj):\n",
    "                d_fem_freq[adj.lower()] = 1\n",
    "                d_mal_freq[adj.lower()] = 0"
   ]
  },
  {
   "cell_type": "code",
   "execution_count": null,
   "metadata": {},
   "outputs": [],
   "source": [
    "D = entity_level.shape[0]\n",
    "Pd_fem = entity_level[entity_level['sex'] == 'female'].shape[0]\n",
    "Pd_mal = entity_level[entity_level['sex'] == 'male'].shape[0]"
   ]
  },
  {
   "cell_type": "code",
   "execution_count": null,
   "metadata": {},
   "outputs": [],
   "source": [
    "d_array = pd.DataFrame.from_dict([d_fem_freq,d_mal_freq])\n",
    "d_array.index = ['female', 'male']\n",
    "d_array_T = d_array.transpose()\n",
    "d_array_T = d_array_T[(d_array_T.female > 2) & (d_array_T.male > 2)] # only look at words that appear at least 3 times in both sample sets."
   ]
  },
  {
   "cell_type": "code",
   "execution_count": null,
   "metadata": {},
   "outputs": [],
   "source": [
    "d_array_T['PMI_female'], d_array_T['PMI_male'] = zip(*d_array_T.apply(lambda row: return_PMI(row), axis=1))"
   ]
  },
  {
   "cell_type": "code",
   "execution_count": null,
   "metadata": {},
   "outputs": [],
   "source": [
    "d_array_T.sort_values(by=['PMI_female'], axis=0, ascending=False).iloc[:100]"
   ]
  },
  {
   "cell_type": "code",
   "execution_count": null,
   "metadata": {},
   "outputs": [],
   "source": [
    "d_array_T.sort_values(by=['PMI_male'], axis=0, ascending=False).iloc[:300]"
   ]
  },
  {
   "cell_type": "code",
   "execution_count": null,
   "metadata": {},
   "outputs": [],
   "source": [
    "most_fem_c = d_array_T.sort_values(by=['PMI_female'], axis=0, ascending=False).iloc[:100]\n",
    "least_fem_c = d_array_T.sort_values(by=['PMI_male'], axis=0, ascending=False).iloc[:100]\n",
    "\n",
    "most_fem_c.to_excel(\"most_female_gen.xlsx\")\n",
    "least_fem_c.to_excel(\"most_male_gen.xlsx\")\n",
    "\n",
    "# Save the entity-based values"
   ]
  },
  {
   "cell_type": "code",
   "execution_count": null,
   "metadata": {},
   "outputs": [],
   "source": [
    "most_female = array_T.sort_values(by=['PMI_female'], axis=0, ascending=False).iloc[:100]\n",
    "least_female = array_T.sort_values(by=['PMI_male'], axis=0, ascending=False).iloc[:100]"
   ]
  },
  {
   "cell_type": "markdown",
   "metadata": {},
   "source": [
    "## Compare Results"
   ]
  },
  {
   "cell_type": "code",
   "execution_count": null,
   "metadata": {},
   "outputs": [],
   "source": [
    "for word in most_female.index:\n",
    "    print(word)"
   ]
  },
  {
   "cell_type": "code",
   "execution_count": null,
   "metadata": {},
   "outputs": [],
   "source": [
    "for word in most_fem_c.index:\n",
    "    print(word)"
   ]
  },
  {
   "cell_type": "code",
   "execution_count": 52,
   "metadata": {
    "scrolled": false
   },
   "outputs": [
    {
     "name": "stdout",
     "output_type": "stream",
     "text": [
      "bloke\n",
      "wanker\n",
      "prince\n",
      "lawful\n",
      "turkish\n",
      "madman\n",
      "unchecked\n",
      "punchable\n",
      "truck\n",
      "dickhead\n",
      "jock\n",
      "informant\n",
      "inflation\n",
      "businessman\n",
      "sovereign\n",
      "chode\n",
      "prick\n",
      "cure\n",
      "envoy\n",
      "testicle\n",
      "ruler\n",
      "worm\n",
      "republic\n",
      "discovery\n",
      "douchebag\n",
      "constitutionalist\n",
      "urgent\n",
      "lad\n",
      "hereby\n",
      "imperialism\n",
      "bluster\n",
      "mafia\n",
      "can\\'t\n",
      "gatekeeper\n",
      "kisser\n",
      "kiddie\n",
      "sleazeball\n",
      "errand\n",
      "undisclosed\n",
      "chairman\n",
      "longstanding\n",
      "shitbird\n",
      "douche\n",
      "fanboy\n",
      "congressman\n",
      "diddler\n",
      "excess\n",
      "utopia\n",
      "manifestation\n",
      "federalist\n",
      "meddling\n",
      "lowlife\n",
      "alley\n",
      "ukraine\n",
      "chancellor\n",
      "affect\n",
      "offshore\n",
      "wimp\n",
      "grim\n",
      "philosophical\n",
      "henchman\n",
      "rain\n",
      "palace\n",
      "overhaul\n",
      "crypto\n",
      "erection\n",
      "nationalistic\n",
      "locker\n",
      "pronouncement\n",
      "clickbait\n",
      "domain\n",
      "sleaze\n",
      "subway\n",
      "fella\n",
      "plausibly\n",
      "clique\n",
      "slimeball\n",
      "fuckhead\n",
      "secular\n",
      "criminality\n",
      "goof\n",
      "christ\n",
      "stunned\n",
      "behest\n",
      "horde\n",
      "onwards\n",
      "priest\n",
      "jazz\n",
      "mogul\n",
      "expendable\n",
      "monarch\n",
      "founder\n",
      "biblical\n",
      "obedient\n",
      "usd\n",
      "soy\n",
      "passage\n",
      "metal\n",
      "ping\n",
      "asswipe\n",
      "wingnut\n",
      "culprit\n",
      "tightly\n",
      "cuff\n",
      "remnant\n",
      "tycoon\n",
      "sweating\n",
      "erect\n",
      "informative\n",
      "engine\n",
      "lieutenant\n",
      "interior\n",
      "a.\n",
      "upstanding\n",
      "vehicle\n",
      "arrangement\n",
      "retreat\n",
      "toady\n",
      "monument\n",
      "visitor\n",
      "negligence\n",
      "treachery\n",
      "modus\n",
      "stranglehold\n",
      "stud\n",
      "jersey\n",
      "unheard\n",
      "tobacco\n",
      "repair\n",
      "broadcaster\n",
      "feeding\n",
      "blush\n",
      "demonstrable\n",
      "p.\n",
      "cleansing\n",
      "summarily\n",
      "sterling\n",
      "dastardly\n",
      "punk\n",
      "communism\n",
      "ordinary\n",
      "log\n",
      "strongman\n",
      "apolitical\n",
      "putz\n",
      "sergeant\n",
      "dealer\n",
      "navy\n",
      "machination\n",
      "hapless\n",
      "frickin\n",
      "closeted\n",
      "shareholder\n",
      "zeal\n",
      "throw\n",
      "shitheel\n",
      "weaselly\n",
      "bribery\n",
      "ruble\n",
      "testament\n",
      "generously\n",
      "momentarily\n",
      "dictatorial\n",
      "avoidance\n",
      "impending\n",
      "caste\n",
      "roadmap\n",
      "colon\n",
      "prostate\n",
      "unconventional\n",
      "untouched\n",
      "liver\n",
      "jihadist\n",
      "dismantling\n",
      "bond\n",
      "hemorrhoid\n",
      "tracking\n",
      "ukrainian\n",
      "gradually\n",
      "dictator\n",
      "sheriff\n",
      "pretentious\n",
      "ratio\n",
      "ray\n",
      "sanctimonious\n",
      "recovery\n",
      "handy\n",
      "finding\n",
      "cuban\n",
      "gambit\n",
      "telephone\n",
      "scout\n",
      "bastard\n",
      "ol'\n",
      "intel\n",
      "incarceration\n",
      "innovation\n",
      "erosion\n",
      "impartiality\n",
      "trivial\n",
      "tfw\n",
      "leniency\n",
      "militarily\n",
      "pepper\n",
      "decrease\n",
      "craft\n",
      "ol’\n",
      "wingman\n",
      "cartoon\n",
      "expansive\n",
      "austrian\n",
      "papa\n",
      "comically\n",
      "culpability\n",
      "campus\n",
      "patch\n",
      "illiberal\n",
      "farming\n",
      "hick\n",
      "shitbag\n",
      "blowhard\n",
      "recession\n",
      "billionaire\n",
      "socialism\n",
      "cleverly\n",
      "greek\n",
      "baron\n",
      "speechwriter\n",
      "experiment\n",
      "schmuck\n",
      "surplus\n",
      "coup\n",
      "mountain\n",
      "thug\n",
      "sir\n",
      "separatist\n",
      "tension\n",
      "esteemed\n",
      "plank\n",
      "cornered\n",
      "philosopher\n",
      "cartel\n",
      "resign\n",
      "superpower\n",
      "destiny\n",
      "rip\n",
      "distrust\n",
      "imperial\n",
      "mega\n",
      "wool\n",
      "diversion\n",
      "museum\n",
      "dweller\n",
      "swift\n",
      "grocery\n",
      "feasibly\n",
      "pollution\n",
      "showman\n",
      "smelly\n",
      "unconstitutionally\n",
      "pigeon\n",
      "hop\n",
      "crackdown\n",
      "tentative\n",
      "pretend\n",
      "rehabilitation\n",
      "methodically\n",
      "depressing\n",
      "monumental\n",
      "conciliatory\n",
      "fluffer\n",
      "embarassment\n",
      "flunky\n",
      "bicycle\n",
      "theocratic\n",
      "copious\n",
      "incest\n",
      "retribution\n",
      "irreparably\n",
      "toddler\n",
      "renowned\n",
      "bulk\n",
      "ergo\n",
      "greasy\n",
      "king\n",
      "faggot\n",
      "underground\n",
      "rebel\n",
      "irrespective\n",
      "pioneer\n",
      "mobster\n",
      "tire\n",
      "casualty\n",
      "litany\n",
      "flagrant\n",
      "sidekick\n",
      "venezuelan\n",
      "hungarian\n",
      "century\n",
      "means\n"
     ]
    }
   ],
   "source": [
    "for word in least_fem_c.index:\n",
    "    print(word)"
   ]
  },
  {
   "cell_type": "markdown",
   "metadata": {},
   "source": [
    "### Can we figure out a way to find significant words?"
   ]
  },
  {
   "cell_type": "code",
   "execution_count": 53,
   "metadata": {},
   "outputs": [],
   "source": [
    "# # NOW LOOK FOR WORDS SIGNIFICANT IN AN ENTITY'S CORPUS\n",
    "\n",
    "# ent_level = df.groupby('NEL').agg({'Descriptors_parsed': [list,'count']})\n",
    "# ent_level.columns = [ str(col[-1]) for col in ent_level.columns]\n",
    "# ent_level.reset_index(inplace=True)\n",
    "# ent_level['list'] = ent_level['list'].apply(lambda x: [item for sublist in x for item in sublist])\n",
    "# ent_level['sex'] = ent_level.index.map(mapper)\n",
    "# ent_level.set_index('NEL', inplace=True)\n",
    "# ent_level['sex'] = ent_level.index.map(mapper)"
   ]
  },
  {
   "cell_type": "code",
   "execution_count": 54,
   "metadata": {},
   "outputs": [],
   "source": [
    "# DELTA2 = 0.1\n",
    "# ent_level['t'] = np.sqrt(np.log(DELTA2)/(-2*ent_level['count']))"
   ]
  },
  {
   "cell_type": "code",
   "execution_count": 55,
   "metadata": {},
   "outputs": [],
   "source": [
    "# ent_level[ent_level['t'] > 0]"
   ]
  },
  {
   "cell_type": "code",
   "execution_count": 56,
   "metadata": {},
   "outputs": [
    {
     "ename": "NameError",
     "evalue": "name 'ent_level' is not defined",
     "output_type": "error",
     "traceback": [
      "\u001b[1;31m---------------------------------------------------------------------------\u001b[0m",
      "\u001b[1;31mNameError\u001b[0m                                 Traceback (most recent call last)",
      "\u001b[1;32m<ipython-input-56-d1643307ec86>\u001b[0m in \u001b[0;36m<module>\u001b[1;34m\u001b[0m\n\u001b[0;32m      1\u001b[0m \u001b[0md_fem_freq\u001b[0m \u001b[1;33m=\u001b[0m \u001b[1;33m{\u001b[0m\u001b[1;33m}\u001b[0m\u001b[1;33m\u001b[0m\u001b[1;33m\u001b[0m\u001b[0m\n\u001b[0;32m      2\u001b[0m \u001b[0md_mal_freq\u001b[0m \u001b[1;33m=\u001b[0m \u001b[1;33m{\u001b[0m\u001b[1;33m}\u001b[0m\u001b[1;33m\u001b[0m\u001b[1;33m\u001b[0m\u001b[0m\n\u001b[1;32m----> 3\u001b[1;33m \u001b[1;32mfor\u001b[0m \u001b[0ment\u001b[0m \u001b[1;32min\u001b[0m \u001b[0ment_level\u001b[0m\u001b[1;33m[\u001b[0m\u001b[0ment_level\u001b[0m\u001b[1;33m[\u001b[0m\u001b[1;34m'sex'\u001b[0m\u001b[1;33m]\u001b[0m \u001b[1;33m==\u001b[0m \u001b[1;34m'female'\u001b[0m\u001b[1;33m]\u001b[0m\u001b[1;33m.\u001b[0m\u001b[0mDescriptors_parsed\u001b[0m\u001b[1;33m:\u001b[0m\u001b[1;33m\u001b[0m\u001b[1;33m\u001b[0m\u001b[0m\n\u001b[0m\u001b[0;32m      4\u001b[0m     \u001b[1;32mfor\u001b[0m \u001b[0madj\u001b[0m \u001b[1;32min\u001b[0m \u001b[0ment\u001b[0m\u001b[1;33m:\u001b[0m \u001b[1;31m#ensure the same word isn't counted twice\u001b[0m\u001b[1;33m\u001b[0m\u001b[1;33m\u001b[0m\u001b[0m\n\u001b[0;32m      5\u001b[0m         \u001b[1;32mif\u001b[0m \u001b[0madj\u001b[0m\u001b[1;33m.\u001b[0m\u001b[0mlower\u001b[0m\u001b[1;33m(\u001b[0m\u001b[1;33m)\u001b[0m \u001b[1;32min\u001b[0m \u001b[0md_fem_freq\u001b[0m\u001b[1;33m.\u001b[0m\u001b[0mkeys\u001b[0m\u001b[1;33m(\u001b[0m\u001b[1;33m)\u001b[0m\u001b[1;33m:\u001b[0m\u001b[1;33m\u001b[0m\u001b[1;33m\u001b[0m\u001b[0m\n",
      "\u001b[1;31mNameError\u001b[0m: name 'ent_level' is not defined"
     ]
    }
   ],
   "source": [
    "# d_fem_freq = {}\n",
    "# d_mal_freq = {}\n",
    "# for ent in ent_level[ent_level['sex'] == 'female'].Descriptors_parsed:\n",
    "#     for adj in ent: #ensure the same word isn't counted twice\n",
    "#         if adj.lower() in d_fem_freq.keys():\n",
    "#             d_fem_freq[adj.lower()] += 1\n",
    "#         else:\n",
    "#             d_fem_freq[adj.lower()] = 1\n",
    "#             d_mal_freq[adj.lower()] = 0\n",
    "\n",
    "# for ent in entity_level[entity_level['sex'] == 'male'].Descriptors_parsed:\n",
    "#     for adj in ent: #ensure the same word isn't counted twice\n",
    "#         if adj.lower() in d_mal_freq.keys():\n",
    "#             d_mal_freq[adj.lower() ] += 1\n",
    "#         else:\n",
    "#             d_mal_freq[adj.lower() ] = 1\n",
    "#             d_fem_freq[adj.lower() ] = 0"
   ]
  },
  {
   "cell_type": "markdown",
   "metadata": {},
   "source": [
    "# Mapping of externally annotated datasets to our selected list of words\n",
    "Can we use precompiled lexica to make sense of what kinds of words we are extracting with our PMI technique?"
   ]
  },
  {
   "cell_type": "markdown",
   "metadata": {},
   "source": [
    "## Super senses"
   ]
  },
  {
   "cell_type": "code",
   "execution_count": 95,
   "metadata": {},
   "outputs": [],
   "source": [
    "dics = []\n",
    "for file in glob.glob(\"adj-supersenses/manual_annotations/*.txt\"):\n",
    "    tag = file[44:-4]\n",
    "    with open(file) as f:\n",
    "        l = f.readlines()\n",
    "        l = [word[:-1] for word in l]\n",
    "        dics.append(pd.Series({word: tag for word in l}))\n",
    "supersenses = pd.concat(dics)\n",
    "supersenses.name = 'Senses'"
   ]
  },
  {
   "cell_type": "code",
   "execution_count": 96,
   "metadata": {},
   "outputs": [],
   "source": [
    "n_supersenses = pd.concat([pd.DataFrame(supersenses[~supersenses.index.duplicated(False)]),supersenses[supersenses.index.duplicated(False)].reset_index().groupby('index').agg({'Senses':list})])"
   ]
  },
  {
   "cell_type": "code",
   "execution_count": 60,
   "metadata": {
    "scrolled": true
   },
   "outputs": [
    {
     "data": {
      "text/plain": [
       "body             3\n",
       "behavior         2\n",
       "miscellaneous    1\n",
       "perception       1\n",
       "feeling          1\n",
       "Name: Senses, dtype: int64"
      ]
     },
     "execution_count": 60,
     "metadata": {},
     "output_type": "execute_result"
    }
   ],
   "source": [
    "most_fem_c.merge(supersenses, left_index=True, right_index=True)['Senses'].value_counts()"
   ]
  },
  {
   "cell_type": "code",
   "execution_count": 61,
   "metadata": {},
   "outputs": [
    {
     "data": {
      "text/plain": [
       "temporal      2\n",
       "body          1\n",
       "substance     1\n",
       "perception    1\n",
       "Name: Senses, dtype: int64"
      ]
     },
     "execution_count": 61,
     "metadata": {},
     "output_type": "execute_result"
    }
   ],
   "source": [
    "least_fem_c.merge(supersenses, left_index=True, right_index=True)['Senses'].value_counts()"
   ]
  },
  {
   "cell_type": "markdown",
   "metadata": {},
   "source": [
    "## NRC Lexica"
   ]
  },
  {
   "cell_type": "code",
   "execution_count": 98,
   "metadata": {},
   "outputs": [],
   "source": [
    "emotions = pd.read_csv(\"nrc_lexica/NRC-Emotion-Lexicon-Wordlevel-v0.92.txt\",names=[\"word\", \"emotion\", \"association\"], sep=\"\\t\")"
   ]
  },
  {
   "cell_type": "code",
   "execution_count": 64,
   "metadata": {
    "scrolled": true
   },
   "outputs": [
    {
     "data": {
      "image/png": "[encoded data removed]",
      "text/plain": [
       "<Figure size 432x288 with 1 Axes>"
      ]
     },
     "metadata": {
      "needs_background": "light"
     },
     "output_type": "display_data"
    }
   ],
   "source": [
    "fem_emotions = {}\n",
    "for word in emotions.emotion.unique():\n",
    "    fem_emotions[word] = 0\n",
    "mal_emotions = {}\n",
    "for word in emotions.emotion.unique():\n",
    "    mal_emotions[word] = 0\n",
    "    \n",
    "for word in most_fem_c.index:\n",
    "    for emotion in emotions[(emotions['word'] == word) & (emotions['association'] == 1)]['emotion'].tolist():\n",
    "        fem_emotions[emotion] += 1\n",
    "for word in least_fem_c.index:\n",
    "    for emotion in emotions[(emotions['word'] == word) & (emotions['association'] == 1)]['emotion'].tolist():\n",
    "        mal_emotions[emotion] += 1\n",
    "\n",
    "male_sum = sum(list(mal_emotions.values()))\n",
    "fem_sum = sum(list(fem_emotions.values()))\n",
    "\n",
    "plt.bar(fem_emotions.keys(), np.array(list(fem_emotions.values()))/fem_sum, color='pink')\n",
    "plt.bar(mal_emotions.keys(), np.array(list(mal_emotions.values()))/male_sum, alpha=0.5)\n",
    "plt.xticks(rotation=90)\n",
    "plt.show()"
   ]
  },
  {
   "cell_type": "code",
   "execution_count": 65,
   "metadata": {},
   "outputs": [
    {
     "data": {
      "text/plain": [
       "Power_divergenceResult(statistic=97.04950704919649, pvalue=6.208561063534093e-17)"
      ]
     },
     "execution_count": 65,
     "metadata": {},
     "output_type": "execute_result"
    }
   ],
   "source": [
    "from scipy.stats import chisquare\n",
    "chisquare(pd.Series(fem_emotions),pd.Series(mal_emotions))"
   ]
  },
  {
   "cell_type": "code",
   "execution_count": 66,
   "metadata": {},
   "outputs": [
    {
     "data": {
      "image/png": "[encoded data removed]",
      "text/plain": [
       "<Figure size 432x288 with 1 Axes>"
      ]
     },
     "metadata": {
      "needs_background": "light"
     },
     "output_type": "display_data"
    }
   ],
   "source": [
    "fem_emotions = {}\n",
    "for word in emotions.emotion.unique():\n",
    "    fem_emotions[word] = 0\n",
    "mal_emotions = {}\n",
    "for word in emotions.emotion.unique():\n",
    "    mal_emotions[word] = 0\n",
    "    \n",
    "for word in most_female.index:\n",
    "    for emotion in emotions[(emotions['word'] == word) & (emotions['association'] == 1)]['emotion'].tolist():\n",
    "        fem_emotions[emotion] += 1\n",
    "for word in least_female.index:\n",
    "    for emotion in emotions[(emotions['word'] == word) & (emotions['association'] == 1)]['emotion'].tolist():\n",
    "        mal_emotions[emotion] += 1\n",
    "\n",
    "male_sum = sum(list(mal_emotions.values()))\n",
    "fem_sum = sum(list(fem_emotions.values()))\n",
    "\n",
    "plt.bar(fem_emotions.keys(), np.array(list(fem_emotions.values()))/fem_sum, color='pink')\n",
    "plt.bar(mal_emotions.keys(), np.array(list(mal_emotions.values()))/male_sum, alpha=0.5)\n",
    "plt.xticks(rotation=90)\n",
    "plt.show()"
   ]
  },
  {
   "cell_type": "code",
   "execution_count": 99,
   "metadata": {},
   "outputs": [],
   "source": [
    "senses = {}\n",
    "for word in emotions.word.unique():\n",
    "    senses[word] = emotions[(emotions['word'] == word) & (emotions['association'] == 1)]['emotion'].tolist()"
   ]
  },
  {
   "cell_type": "markdown",
   "metadata": {},
   "source": [
    "## Profanity and Slang"
   ]
  },
  {
   "cell_type": "code",
   "execution_count": 100,
   "metadata": {},
   "outputs": [],
   "source": [
    "# from here https://github.com/snguyenthanh/better_profanity\n",
    "\n",
    "with open(\"profanity_list.txt\") as f:\n",
    "    swears_raw = f.readlines()\n",
    "    \n",
    "swears = []\n",
    "for swear in swears_raw:\n",
    "    swears.append(swear.strip())\n",
    "    \n"
   ]
  },
  {
   "cell_type": "code",
   "execution_count": 101,
   "metadata": {},
   "outputs": [],
   "source": [
    "slang = pd.read_csv(\"slangSD.txt\",index_col=0,names=[\"Slang_Score\"], sep=\"\\t\")\n",
    "# most_fem_c['Slang'] = most_fem_c.index.map(slang.to_dict()['Slang_Score'])\n",
    "# least_fem_c['Slang'] = least_fem_c.index.map(slang.to_dict()['Slang_Score'])"
   ]
  },
  {
   "cell_type": "code",
   "execution_count": 127,
   "metadata": {},
   "outputs": [],
   "source": [
    "most_fem_c['NRC_senses'] = most_fem_c.index.map(senses)\n",
    "most_fem_c['Supersenses'] = most_fem_c.index.map(n_supersenses['Senses'].to_dict())\n",
    "most_fem_c['Profanity'] = most_fem_c.index.map(lambda x: 1 if x in swears else 0)"
   ]
  },
  {
   "cell_type": "code",
   "execution_count": 128,
   "metadata": {},
   "outputs": [
    {
     "data": {
      "text/html": [
       "<div>\n",
       "<style scoped>\n",
       "    .dataframe tbody tr th:only-of-type {\n",
       "        vertical-align: middle;\n",
       "    }\n",
       "\n",
       "    .dataframe tbody tr th {\n",
       "        vertical-align: top;\n",
       "    }\n",
       "\n",
       "    .dataframe thead th {\n",
       "        text-align: right;\n",
       "    }\n",
       "</style>\n",
       "<table border=\"1\" class=\"dataframe\">\n",
       "  <thead>\n",
       "    <tr style=\"text-align: right;\">\n",
       "      <th></th>\n",
       "      <th>female</th>\n",
       "      <th>male</th>\n",
       "      <th>PMI_female</th>\n",
       "      <th>PMI_male</th>\n",
       "      <th>NRC_senses</th>\n",
       "      <th>Supersenses</th>\n",
       "      <th>Profanity</th>\n",
       "      <th>Slang</th>\n",
       "    </tr>\n",
       "  </thead>\n",
       "  <tbody>\n",
       "    <tr>\n",
       "      <th>bloke</th>\n",
       "      <td>3</td>\n",
       "      <td>79</td>\n",
       "      <td>-1.265809</td>\n",
       "      <td>0.101733</td>\n",
       "      <td>NaN</td>\n",
       "      <td>NaN</td>\n",
       "      <td>0</td>\n",
       "      <td>NaN</td>\n",
       "    </tr>\n",
       "    <tr>\n",
       "      <th>wanker</th>\n",
       "      <td>3</td>\n",
       "      <td>69</td>\n",
       "      <td>-1.135756</td>\n",
       "      <td>0.096444</td>\n",
       "      <td>NaN</td>\n",
       "      <td>NaN</td>\n",
       "      <td>1</td>\n",
       "      <td>-1.0</td>\n",
       "    </tr>\n",
       "    <tr>\n",
       "      <th>prince</th>\n",
       "      <td>4</td>\n",
       "      <td>82</td>\n",
       "      <td>-1.025755</td>\n",
       "      <td>0.091376</td>\n",
       "      <td>[positive]</td>\n",
       "      <td>NaN</td>\n",
       "      <td>0</td>\n",
       "      <td>NaN</td>\n",
       "    </tr>\n",
       "    <tr>\n",
       "      <th>lawful</th>\n",
       "      <td>3</td>\n",
       "      <td>60</td>\n",
       "      <td>-1.002225</td>\n",
       "      <td>0.090214</td>\n",
       "      <td>[positive, trust]</td>\n",
       "      <td>NaN</td>\n",
       "      <td>0</td>\n",
       "      <td>NaN</td>\n",
       "    </tr>\n",
       "    <tr>\n",
       "      <th>turkish</th>\n",
       "      <td>3</td>\n",
       "      <td>51</td>\n",
       "      <td>-0.848074</td>\n",
       "      <td>0.081846</td>\n",
       "      <td>NaN</td>\n",
       "      <td>NaN</td>\n",
       "      <td>0</td>\n",
       "      <td>NaN</td>\n",
       "    </tr>\n",
       "    <tr>\n",
       "      <th>...</th>\n",
       "      <td>...</td>\n",
       "      <td>...</td>\n",
       "      <td>...</td>\n",
       "      <td>...</td>\n",
       "      <td>...</td>\n",
       "      <td>...</td>\n",
       "      <td>...</td>\n",
       "      <td>...</td>\n",
       "    </tr>\n",
       "    <tr>\n",
       "      <th>sidekick</th>\n",
       "      <td>5</td>\n",
       "      <td>39</td>\n",
       "      <td>-0.132454</td>\n",
       "      <td>0.018376</td>\n",
       "      <td>NaN</td>\n",
       "      <td>NaN</td>\n",
       "      <td>0</td>\n",
       "      <td>NaN</td>\n",
       "    </tr>\n",
       "    <tr>\n",
       "      <th>venezuelan</th>\n",
       "      <td>5</td>\n",
       "      <td>39</td>\n",
       "      <td>-0.132454</td>\n",
       "      <td>0.018376</td>\n",
       "      <td>NaN</td>\n",
       "      <td>NaN</td>\n",
       "      <td>0</td>\n",
       "      <td>NaN</td>\n",
       "    </tr>\n",
       "    <tr>\n",
       "      <th>hungarian</th>\n",
       "      <td>4</td>\n",
       "      <td>31</td>\n",
       "      <td>-0.126756</td>\n",
       "      <td>0.017643</td>\n",
       "      <td>NaN</td>\n",
       "      <td>NaN</td>\n",
       "      <td>0</td>\n",
       "      <td>NaN</td>\n",
       "    </tr>\n",
       "    <tr>\n",
       "      <th>century</th>\n",
       "      <td>12</td>\n",
       "      <td>93</td>\n",
       "      <td>-0.126756</td>\n",
       "      <td>0.017643</td>\n",
       "      <td>[]</td>\n",
       "      <td>NaN</td>\n",
       "      <td>0</td>\n",
       "      <td>NaN</td>\n",
       "    </tr>\n",
       "    <tr>\n",
       "      <th>means</th>\n",
       "      <td>4</td>\n",
       "      <td>31</td>\n",
       "      <td>-0.126756</td>\n",
       "      <td>0.017643</td>\n",
       "      <td>[]</td>\n",
       "      <td>NaN</td>\n",
       "      <td>0</td>\n",
       "      <td>NaN</td>\n",
       "    </tr>\n",
       "  </tbody>\n",
       "</table>\n",
       "<p>300 rows × 8 columns</p>\n",
       "</div>"
      ],
      "text/plain": [
       "            female  male  PMI_female  PMI_male         NRC_senses Supersenses  \\\n",
       "bloke            3    79   -1.265809  0.101733                NaN         NaN   \n",
       "wanker           3    69   -1.135756  0.096444                NaN         NaN   \n",
       "prince           4    82   -1.025755  0.091376         [positive]         NaN   \n",
       "lawful           3    60   -1.002225  0.090214  [positive, trust]         NaN   \n",
       "turkish          3    51   -0.848074  0.081846                NaN         NaN   \n",
       "...            ...   ...         ...       ...                ...         ...   \n",
       "sidekick         5    39   -0.132454  0.018376                NaN         NaN   \n",
       "venezuelan       5    39   -0.132454  0.018376                NaN         NaN   \n",
       "hungarian        4    31   -0.126756  0.017643                NaN         NaN   \n",
       "century         12    93   -0.126756  0.017643                 []         NaN   \n",
       "means            4    31   -0.126756  0.017643                 []         NaN   \n",
       "\n",
       "            Profanity  Slang  \n",
       "bloke               0    NaN  \n",
       "wanker              1   -1.0  \n",
       "prince              0    NaN  \n",
       "lawful              0    NaN  \n",
       "turkish             0    NaN  \n",
       "...               ...    ...  \n",
       "sidekick            0    NaN  \n",
       "venezuelan          0    NaN  \n",
       "hungarian           0    NaN  \n",
       "century             0    NaN  \n",
       "means               0    NaN  \n",
       "\n",
       "[300 rows x 8 columns]"
      ]
     },
     "execution_count": 128,
     "metadata": {},
     "output_type": "execute_result"
    }
   ],
   "source": [
    "least_fem_c['NRC_senses'] = least_fem_c.index.map(senses)\n",
    "least_fem_c['Supersenses'] = least_fem_c.index.map(n_supersenses['Senses'].to_dict())\n",
    "# least_fem_c['Profanity'] = least_fem_c.index.map(lambda x: 1 if x in swears else 0)"
   ]
  },
  {
   "cell_type": "markdown",
   "metadata": {},
   "source": [
    "## Test of all lexica together"
   ]
  },
  {
   "cell_type": "code",
   "execution_count": 16,
   "metadata": {},
   "outputs": [],
   "source": [
    "most_fem = pd.read_csv(\"../data/interim_results/PMI/most_female_d.csv\", index_col=0)\n",
    "most_mal = pd.read_csv(\"../data/interim_results/PMI/most_male_d.csv\",index_col=0)\n",
    "most_fem_2 = pd.read_csv(\"../data/interim_results/PMI/female_PMI.csv\", index_col=0)\n",
    "most_mal_2 = pd.read_csv(\"../data/interim_results/PMI/male_PMI.csv\",index_col=0)"
   ]
  },
  {
   "cell_type": "code",
   "execution_count": 143,
   "metadata": {},
   "outputs": [
    {
     "data": {
      "text/plain": [
       "29"
      ]
     },
     "execution_count": 143,
     "metadata": {},
     "output_type": "execute_result"
    }
   ],
   "source": [
    "def remap_nan(value):\n",
    "    if type(value) == float:\n",
    "        return value\n",
    "    if len(value) > 0:\n",
    "        return value\n",
    "    else:\n",
    "        return np.nan\n",
    "most_mal_2['NRC_senses'].apply(remap_nan).notna().sum()\n",
    "most_fem_2['NRC_senses'].notna().sum()\n",
    "(most_fem_2['Slang'].notna() | most_fem_2['NRC_senses'].apply(remap_nan).notna() | most_fem_2['Supersenses'].notna()).sum()\n",
    "(most_mal_2['Slang'].notna() | most_mal_2['NRC_senses'].apply(remap_nan).notna() |most_mal_2['Supersenses'].notna()).sum()"
   ]
  },
  {
   "cell_type": "code",
   "execution_count": 113,
   "metadata": {},
   "outputs": [
    {
     "name": "stdout",
     "output_type": "stream",
     "text": [
      "Slang 23\n",
      "NRC 84\n",
      "Supersenses 6\n"
     ]
    }
   ],
   "source": [
    "print(\"Slang\", most_fem_2['Slang'].notna().sum() + most_mal_2['Slang'].notna().sum())\n",
    "print(\"NRC\", most_fem_2['NRC_senses'].notna().sum() +  most_mal_2['NRC_senses'].notna().sum())\n",
    "print(\"Supersenses\", most_fem_2['Supersenses'].notna().sum() + most_mal_2['Supersenses'].notna().sum())"
   ]
  },
  {
   "cell_type": "code",
   "execution_count": 102,
   "metadata": {},
   "outputs": [],
   "source": [
    "most_fem_2['Slang'] = most_fem_2.index.map(slang.to_dict()['Slang_Score'])\n",
    "most_fem_2['NRC_senses'] = most_fem_2.index.map(senses)\n",
    "most_fem_2['Supersenses'] = most_fem_2.index.map(n_supersenses['Senses'].to_dict())\n",
    "most_fem_2['Profanity'] = most_fem_2.index.map(lambda x: 1 if x in swears else 0)\n",
    "\n",
    "most_mal_2['Slang'] = most_mal_2.index.map(slang.to_dict()['Slang_Score'])\n",
    "most_mal_2['NRC_senses'] = most_mal_2.index.map(senses)\n",
    "most_mal_2['Supersenses'] = most_mal_2.index.map(n_supersenses['Senses'].to_dict())\n",
    "most_mal_2['Profanity'] = most_mal_2.index.map(lambda x: 1 if x in swears else 0)"
   ]
  },
  {
   "cell_type": "markdown",
   "metadata": {},
   "source": [
    "# Handcoded Annotation\n",
    "We see little coverage of the obtained words in our precompiled lexica. Therefore, we are getting annotators to mark senses to each word."
   ]
  },
  {
   "cell_type": "code",
   "execution_count": null,
   "metadata": {},
   "outputs": [],
   "source": [
    "# Handcoded_Sentiment: An integer referring to the general positivity/negativity of the descriptor.\n",
    "#     -1 : Negative (e.g. asshole, annoying)\n",
    "#     0 : Neutral (e.g. watch, person)\n",
    "#     1 : Positive (e.g. king, genius)\n",
    "\n",
    "# Handcoded_Senses: Will fit into one of the 8 following themes. Write down one sense for each word on the same row.\n",
    "\n",
    "# Euphemism - \"name calling\" or a general metaphor/term applied to someone that cannot neatly fit in the below categories (e.g. bitch, angel)\n",
    "# Profession - A term related to someone's profession or work activities (e.g. congressman, speaker)\n",
    "# Ideal - Word relating to a politician's ideals (e.g. republican, antifa)\n",
    "# Body - Word related to their body (either body part or general attractiveness/sexuality) (e.g. nose, beautiful, sexy)\n",
    "# Clothing - Word relating to clothing/fashion/attire (e.g. fashionable, suit)\n",
    "# Attribute - Word related to a politician's supraphysical attributes (descriptors) (e.g. intelligent, thoughtful)\n",
    "# Family - Word related to a politician's family (e.g. mother) or relations with others (e.g. lover) or (in)capacity for that. (e.g. childless, child-bearing) \n",
    "# Other - A word that doesn't fit into any of the above categories (e.g. phone, song)"
   ]
  },
  {
   "cell_type": "code",
   "execution_count": 11,
   "metadata": {},
   "outputs": [],
   "source": [
    "annot1 = pd.read_excel(\"LINETO1STANNOTATOR\", index_col=0)\n",
    "annot1['Handcoded_Senses'] = annot1['Handcoded_Senses'].str.replace(\"Euphemism\",\"Label\")\n",
    "annot2 = pd.read_excel(\"LINETO2NDANNOTATOR\", index_col=0)\n",
    "annot3 = pd.read_excel(\"LINETO3RDANNOTATOR\", index_col=0)"
   ]
  },
  {
   "cell_type": "code",
   "execution_count": 12,
   "metadata": {},
   "outputs": [],
   "source": [
    "annot1['Handcoded_Senses'] = annot1['Handcoded_Senses'].str.replace(\"Euphemism\",\"Label\")\n",
    "annot1['Handcoded_Senses'] = annot1['Handcoded_Senses'].str.replace(\"Ideal\",\"Belief\")\n",
    "annot2['Handcoded_Senses'] = annot2['Handcoded_Senses'].str.replace(\"/Position\",\"\")\n",
    "annot2['Handcoded_Senses'] = annot2['Handcoded_Senses'].str.replace(\"/Adverb\",\"\")"
   ]
  },
  {
   "cell_type": "code",
   "execution_count": 13,
   "metadata": {},
   "outputs": [
    {
     "data": {
      "text/plain": [
       "0.6183868169991327"
      ]
     },
     "execution_count": 13,
     "metadata": {},
     "output_type": "execute_result"
    }
   ],
   "source": [
    "from sklearn.metrics import cohen_kappa_score\n",
    "np.mean([cohen_kappa_score(annot1['Handcoded_Sentiment'],annot2['Handcoded_Sentiment']),\n",
    "cohen_kappa_score(annot1['Handcoded_Sentiment'],annot3['Handcoded_Sentiment']),\n",
    "cohen_kappa_score(annot3['Handcoded_Sentiment'],annot2['Handcoded_Sentiment'])]"
   ]
  },
  {
   "cell_type": "code",
   "execution_count": null,
   "metadata": {},
   "outputs": [],
   "source": [
    "# Randomly assign a value\n",
    "\n",
    "anno_senses[1] = annot1['Handcoded_Senses'].to_dict()\n",
    "anno_senses[2] = annot2['Handcoded_Senses'].to_dict()\n",
    "anno_senses[3] = annot3['Handcoded_Senses'].to_dict()\n",
    "senses = {}\n",
    "for key in anno_senses[1].keys():\n",
    "    annotator = random.randint(1,3)\n",
    "    senses[key] = anno_senses[annotator][key]\n",
    "    \n",
    "anno_senti[1] = annot1['Handcoded_Sentiment'].to_dict()\n",
    "anno_senti[2] = annot2['Handcoded_Sentiment'].to_dict()\n",
    "anno_senti[3] = annot3['Handcoded_Sentiment'].to_dict()\n",
    "senti = {}\n",
    "for key in anno_senses[1].keys():\n",
    "    annotator = random.randint(1,3)\n",
    "    senti[key] = anno_senti[annotator][key]"
   ]
  },
  {
   "cell_type": "code",
   "execution_count": null,
   "metadata": {},
   "outputs": [],
   "source": [
    "# Save for later\n",
    "pd.DataFrame({'Handcoded_Senti':pd.Series(senti),'Handcoded_Senses':pd.Series(senses)}).to_csv(\"final.csv\")\n",
    "\n",
    "# Read\n",
    "annos = pd.read_csv(\"final.csv\")\n",
    "senses = annos['Handcoded_Senses']\n",
    "senti = annos['Handcoded_Senti']\n"
   ]
  },
  {
   "cell_type": "code",
   "execution_count": 81,
   "metadata": {},
   "outputs": [],
   "source": [
    "most_fem['Senses'] = most_fem.index.map(senses)\n",
    "most_mal['Senses'] = most_mal.index.map(senses)\n",
    "most_fem['Sentiment'] = most_fem.index.map(senti)\n",
    "most_mal['Sentiment'] = most_mal.index.map(senti)\n",
    "\n",
    "most_fem_2['Senses'] = most_fem.index.map(senses)\n",
    "most_mal_2['Senses'] = most_mal.index.map(senses)\n",
    "most_fem_2['Sentiment'] = most_fem.index.map(senti)\n",
    "most_mal_2['Sentiment'] = most_mal.index.map(senti)"
   ]
  },
  {
   "cell_type": "code",
   "execution_count": 86,
   "metadata": {},
   "outputs": [
    {
     "name": "stdout",
     "output_type": "stream",
     "text": [
      "Women\n",
      "-1.0    45\n",
      " 0.0    38\n",
      " 1.0     4\n",
      "Name: Sentiment, dtype: int64\n",
      "Men\n",
      " 0.0    52\n",
      "-1.0    41\n",
      " 1.0     6\n",
      "Name: Sentiment, dtype: int64\n"
     ]
    }
   ],
   "source": [
    "print(\"Women\")\n",
    "print(most_fem_2.Sentiment.value_counts())\n",
    "print(\"Men\")\n",
    "print(most_mal_2.Sentiment.value_counts())"
   ]
  },
  {
   "cell_type": "code",
   "execution_count": 88,
   "metadata": {},
   "outputs": [
    {
     "data": {
      "text/plain": [
       "Body          19\n",
       "Attribute     18\n",
       "Label         17\n",
       "Other         13\n",
       "Clothing       7\n",
       "Family         6\n",
       "Profession     4\n",
       "Belief         3\n",
       "Name: Senses, dtype: int64"
      ]
     },
     "execution_count": 88,
     "metadata": {},
     "output_type": "execute_result"
    }
   ],
   "source": [
    "most_fem_2.Senses.value_counts()"
   ]
  },
  {
   "cell_type": "code",
   "execution_count": 89,
   "metadata": {},
   "outputs": [
    {
     "data": {
      "text/plain": [
       "Other         41\n",
       "Label         22\n",
       "Attribute     13\n",
       "Profession    12\n",
       "Belief         8\n",
       "Body           3\n",
       "Name: Senses, dtype: int64"
      ]
     },
     "execution_count": 89,
     "metadata": {},
     "output_type": "execute_result"
    }
   ],
   "source": [
    "most_mal_2.Senses.value_counts()"
   ]
  },
  {
   "cell_type": "code",
   "execution_count": 192,
   "metadata": {},
   "outputs": [],
   "source": [
    "# Save counts for graphs in future\n",
    "pd.concat([most_mal_2.Senses.value_counts(), most_fem_2.Senses.value_counts()], axis=1, keys=['male','female']).fillna(0).to_csv(\"senses.csv\")\n",
    "pd.concat([most_mal_2.Sentiment.value_counts(), most_fem_2.Sentiment.value_counts()], axis=1, keys=['male','female']).fillna(0).to_csv(\"senti.csv\")"
   ]
  },
  {
   "cell_type": "code",
   "execution_count": 93,
   "metadata": {},
   "outputs": [
    {
     "name": "stderr",
     "output_type": "stream",
     "text": [
      "<ipython-input-93-348287759e33>:9: UserWarning: FixedFormatter should only be used together with FixedLocator\n",
      "  ax[0].set_xticklabels(cats, rotation=90)\n",
      "<ipython-input-93-348287759e33>:21: UserWarning: FixedFormatter should only be used together with FixedLocator\n",
      "  ax[1].set_xticklabels(cats,rotation=90)\n"
     ]
    },
    {
     "data": {
      "image/png": "[encoded data removed]",
      "text/plain": [
       "<Figure size 936x360 with 2 Axes>"
      ]
     },
     "metadata": {
      "needs_background": "light"
     },
     "output_type": "display_data"
    }
   ],
   "source": [
    "fig, ax = plt.subplots(1, 2, figsize=(13,5), sharey=True)\n",
    "fig.suptitle(\"Distribution of Handcoded Senses and Sentiments\", size=16)\n",
    "cats = ['Label','Profession','Belief','Attribute','Body','Family','Clothing']\n",
    "pos = most_fem_2[most_fem_2['Sentiment'] == 1]['Senses'].value_counts().reindex(cats, fill_value=0)\n",
    "negs = most_fem_2[most_fem_2['Sentiment'] == -1]['Senses'].value_counts().reindex(cats, fill_value=0)\n",
    "ax[0].bar(cats, most_fem_2.Senses.value_counts().reindex(cats), color=WOMEN)\n",
    "ax[0].bar(pos.index,pos, color=WOMEN_POS, label=\"Positive\")\n",
    "ax[0].bar(negs.index,negs,bottom=pos, color=WOMEN_NEG, label=\"Negative\")\n",
    "ax[0].set_xticklabels(cats, rotation=90)\n",
    "ax[0].legend()\n",
    "ax[0].set_yticks(np.arange(0,27,5))\n",
    "ax[0].minorticks_on()\n",
    "ax[0].set_title(\"Top 100 Female PMI words\")\n",
    "\n",
    "\n",
    "pos_m = most_mal_2[most_mal_2['Sentiment'] == 1]['Senses'].value_counts().reindex(cats, fill_value=0)\n",
    "negs_m = most_mal_2[most_mal_2['Sentiment'] == -1]['Senses'].value_counts().reindex(cats, fill_value=0)\n",
    "ax[1].bar(cats, most_mal_2.Senses.value_counts().reindex(cats), color=MEN)\n",
    "ax[1].bar(pos_m.index,pos_m, color=MEN_POS, label=\"Positive\")\n",
    "ax[1].bar(negs_m.index,negs_m,bottom=pos_m, color=MEN_NEG, label=\"Negative\")\n",
    "ax[1].set_xticklabels(cats,rotation=90)\n",
    "ax[1].legend()\n",
    "ax[1].set_title(\"Top 100 Male PMI words\")\n",
    "\n",
    "plt.show()"
   ]
  },
  {
   "cell_type": "code",
   "execution_count": 201,
   "metadata": {},
   "outputs": [],
   "source": [
    "fms = pd.concat(fm_cts, keys=[\"left\", \"right\", \"alt_right\"], axis=1)\n",
    "mls = pd.concat(ml_cts, keys=[\"left\", \"right\", \"alt_right\"], axis=1)"
   ]
  },
  {
   "cell_type": "code",
   "execution_count": 203,
   "metadata": {},
   "outputs": [],
   "source": [
    "pd.concat([fms,mls], keys=['female','male'], axis=1).fillna(0).to_csv(\"senses_cross.csv\")"
   ]
  },
  {
   "cell_type": "code",
   "execution_count": 27,
   "metadata": {},
   "outputs": [
    {
     "name": "stdout",
     "output_type": "stream",
     "text": [
      "left\n",
      "\n",
      "right\n",
      "\n",
      "alt_right\n",
      "\n"
     ]
    },
    {
     "data": {
      "image/png": "[encoded data removed]",
      "text/plain": [
       "<Figure size 1080x360 with 3 Axes>"
      ]
     },
     "metadata": {
      "needs_background": "light"
     },
     "output_type": "display_data"
    }
   ],
   "source": [
    "\n",
    "path = \"../data/interim_results/PMI/cross/\"\n",
    "groups = [\"Left\", \"Right\", \"Alt right\"]\n",
    "width = 0.25\n",
    "distance= 0.33\n",
    "a=0.8\n",
    "new_cats  = ['Label','Profession','Beliefs','Attributes','Body','Family','Clothing']\n",
    "\n",
    "fig,ax = plt.subplots(1,3,figsize=(15,5), sharey=True)\n",
    "fig.suptitle(\"Distribution of Handcoded Senses and Sentiments\", size=16)\n",
    "for i,group in enumerate(['left', 'right', 'alt_right']):\n",
    "    most_fem = pd.read_csv(path + f\"most_female_{group}.csv\", index_col=0)\n",
    "    most_mal = pd.read_csv(path + f\"most_male_{group}.csv\", index_col=0)\n",
    "#     most_fem['Profanity'] = most_fem.index.map(lambda x: 1 if x in swears else 0)\n",
    "#     most_mal['Profanity'] = most_mal.index.map(lambda x: 1 if x in swears else 0)\n",
    "    print(group)\n",
    "#     print(\"Male\", most_mal[['Profanity','Senses']].value_counts())\n",
    "#     print(\"Female\", most_fem[['Profanity','Senses']].value_counts())\n",
    "    print(\"\")\n",
    "    pos = most_fem[most_fem['Sentiment'] == 1]['Senses'].value_counts().reindex(cats, fill_value=0)\n",
    "    negs = most_fem[most_fem['Sentiment'] == -1]['Senses'].value_counts().reindex(cats, fill_value=0)\n",
    "    pos_m = most_mal[most_mal['Sentiment'] == 1]['Senses'].value_counts().reindex(cats, fill_value=0)\n",
    "    negs_m = most_mal[most_mal['Sentiment'] == -1]['Senses'].value_counts().reindex(cats, fill_value=0)\n",
    "    ax[i].set_title(groups[i],size=14)\n",
    "\n",
    "    #Base\n",
    "    ax[i].bar(np.arange(len(cats)), most_fem.Senses.value_counts().reindex(cats), width=width, color=WOMEN, label=\"Top 100\\nFemale PMI Words\")\n",
    "    ax[i].bar(np.arange(len(cats))+distance, most_mal.Senses.value_counts().reindex(cats), width=width, color=MEN, label=\"Top 100\\nMale PMI Words\")\n",
    "\n",
    "    # Women\n",
    "    ax[i].bar(np.arange(len(cats)),pos, width=width,color=WOMEN_POS, alpha=a, label=\"Positive\")\n",
    "    ax[i].bar(np.arange(len(cats)),negs,bottom=pos, width=width,color=WOMEN_NEG, alpha=a, label=\"Negative\")\n",
    "\n",
    "    # Men\n",
    "    ax[i].bar(np.arange(len(cats))+distance,pos_m, width=width,alpha=a, color=MEN_POS)\n",
    "    ax[i].bar(np.arange(len(cats))+distance,negs_m,bottom=pos_m, alpha=a, width=width,color=MEN_NEG)\n",
    "    #legend=plt.legend(facecolor='lightgrey', borderpad=0.5)\n",
    "    ax[i].set_xticks(np.arange(len(cats))+(distance/2))\n",
    "    ax[i].set_xticklabels(labels=new_cats,rotation=90)\n",
    "\n",
    "ax[0].set_ylabel(\"Percentage of Top-100 Words\")\n",
    "plt.savefig(\"figures/PMI_cross_results.tiff\",dpi=300,bbox_inches='tight')\n",
    "plt.show()"
   ]
  },
  {
   "cell_type": "code",
   "execution_count": 22,
   "metadata": {
    "scrolled": true
   },
   "outputs": [
    {
     "data": {
      "image/png": "[encoded data removed]",
      "text/plain": [
       "<Figure size 720x360 with 1 Axes>"
      ]
     },
     "metadata": {
      "needs_background": "light"
     },
     "output_type": "display_data"
    }
   ],
   "source": [
    "plt.figure(figsize=(10,5))\n",
    "cats = ['Label','Profession','Belief','Attribute','Body','Family','Clothing']\n",
    "plt.title(\"Distribution of Handcoded Senses and Sentiments\", size=16)\n",
    "pos = most_fem_2[most_fem_2['Sentis'] == 1]['Senses'].value_counts().reindex(cats, fill_value=0)\n",
    "negs = most_fem_2[most_fem_2['Sentis'] == -1]['Senses'].value_counts().reindex(cats, fill_value=0)\n",
    "pos_m = most_mal_2[most_mal_2['Sentis'] == 1]['Senses'].value_counts().reindex(cats, fill_value=0)\n",
    "negs_m = most_mal_2[most_mal_2['Sentis'] == -1]['Senses'].value_counts().reindex(cats, fill_value=0)\n",
    "\n",
    "width = 0.25\n",
    "distance= 0.33\n",
    "a=0.8\n",
    "\n",
    "#Base\n",
    "plt.bar(np.arange(len(cats)), most_fem_2.Senses.value_counts().reindex(cats), width=width, color=WOMEN, label=\"Top 100\\nFemale PMI Words\")\n",
    "plt.bar(np.arange(len(cats))+distance, most_mal_2.Senses.value_counts().reindex(cats), width=width, color=MEN, label=\"Top 100\\nMale PMI Words\")\n",
    "\n",
    "# Women\n",
    "plt.bar(np.arange(len(cats)),pos, width=width,color=WOMEN_POS, alpha=a, label=\"Positive\")\n",
    "plt.bar(np.arange(len(cats)),negs,bottom=pos, width=width,color=WOMEN_NEG, alpha=a, label=\"Negative\")\n",
    "\n",
    "# Men\n",
    "plt.bar(np.arange(len(cats))+distance,pos_m, width=width,alpha=a, color=MEN_POS)\n",
    "plt.bar(np.arange(len(cats))+distance,negs_m,bottom=pos_m, alpha=a, width=width,color=MEN_NEG)\n",
    "new_cats  = ['Label','Profession','Beliefs','Attributes','Body','Family','Clothing']\n",
    "#legend=plt.legend(facecolor='lightgrey', borderpad=0.5)\n",
    "plt.xticks(ticks=np.arange(len(cats))+(distance/2), labels=new_cats,rotation=90)\n",
    "plt.yticks(np.arange(0,27,5))\n",
    "plt.ylabel(\"Percentage of Top-100 Words\")\n",
    "plt.savefig(\"figures/PMI_results.tiff\",dpi=300, bbox_inches='tight')\n",
    "plt.show()"
   ]
  },
  {
   "cell_type": "code",
   "execution_count": 128,
   "metadata": {},
   "outputs": [
    {
     "data": {
      "text/plain": [
       "<matplotlib.image.AxesImage at 0x23afc32c490>"
      ]
     },
     "execution_count": 128,
     "metadata": {},
     "output_type": "execute_result"
    },
    {
     "data": {
      "image/png": "[encoded data removed]",
      "text/plain": [
       "<Figure size 432x288 with 1 Axes>"
      ]
     },
     "metadata": {},
     "output_type": "display_data"
    }
   ],
   "source": [
    "# Create legend\n",
    "import matplotlib as mpl\n",
    "A = np.arange(6)\n",
    "B = np.reshape(A, (2, -1))\n",
    "cmap = mpl.colors.ListedColormap([WOMEN_POS, WOMEN, WOMEN_NEG, MEN_POS, MEN, MEN_NEG], name='colors', N=None)\n",
    "plt.xticks([])\n",
    "plt.yticks([])\n",
    "plt.imshow(B, cmap=cmap)\n"
   ]
  },
  {
   "cell_type": "markdown",
   "metadata": {},
   "source": [
    "## Old graphs"
   ]
  },
  {
   "cell_type": "code",
   "execution_count": 192,
   "metadata": {},
   "outputs": [
    {
     "data": {
      "image/png": "[encoded data removed]",
      "text/plain": [
       "<Figure size 432x288 with 1 Axes>"
      ]
     },
     "metadata": {
      "needs_background": "light"
     },
     "output_type": "display_data"
    }
   ],
   "source": [
    "cats = ['Euphemism','Profession','Ideal','Attribute','Body','Family','Clothing']\n",
    "pos_m = most_mal_HC[most_mal_HC['Handcoded_Sentiment'] == 1]['Handcoded_Sense'].value_counts().reindex(cats, fill_value=0)\n",
    "negs_m = most_mal_HC[most_mal_HC['Handcoded_Sentiment'] == -1]['Handcoded_Sense'].value_counts().reindex(cats, fill_value=0)\n",
    "plt.bar(cats, most_mal_HC.Handcoded_Sense.value_counts().reindex(cats), color='lightgrey', edgecolor='C0')\n",
    "plt.bar(pos_m.index,pos_m, color='lightblue', label=\"Positive\")\n",
    "plt.bar(negs_m.index,negs_m,bottom=pos_m, color='darkblue', label=\"Negative\")\n",
    "plt.xticks(rotation=90)\n",
    "plt.legend()\n",
    "plt.yticks(np.arange(0,most_mal_HC.Handcoded_Sense.value_counts().max()+1,2))\n",
    "plt.title(\"Senses of Most-Male Words with Hand-coded Sentiment\")\n",
    "plt.show()"
   ]
  }
 ],
 "metadata": {
  "kernelspec": {
   "display_name": "Python 3",
   "language": "python",
   "name": "python3"
  },
  "language_info": {
   "codemirror_mode": {
    "name": "ipython",
    "version": 3
   },
   "file_extension": ".py",
   "mimetype": "text/x-python",
   "name": "python",
   "nbconvert_exporter": "python",
   "pygments_lexer": "ipython3",
   "version": "3.8.5"
  }
 },
 "nbformat": 4,
 "nbformat_minor": 4
}
