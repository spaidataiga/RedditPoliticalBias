{
 "cells": [
  {
   "cell_type": "markdown",
   "metadata": {},
   "source": [
    "# Nominal Biases\n",
    "Calculations and Figures related to nomination between male and female politicians on Reddit. Significance testing done using these obtained numbers in RStudio."
   ]
  },
  {
   "cell_type": "code",
   "execution_count": null,
   "metadata": {},
   "outputs": [],
   "source": [
    "import pandas as pd\n",
    "from ast import literal_eval\n",
    "import glob\n",
    "import numpy as np\n",
    "from scipy.stats import ttest_ind\n",
    "from scipy.stats import norm"
   ]
  },
  {
   "cell_type": "code",
   "execution_count": null,
   "metadata": {},
   "outputs": [],
   "source": [
    "# Colours\n",
    "WOMEN = \"#ff876d\"\n",
    "WOMEN_POS = \"#ffcea8\"\n",
    "WOMEN_NEG = \"#cb4d36\"\n",
    "MEN = \"#009ce4\"\n",
    "MEN_POS = \"#76efff\"#\"#b8e1ff\"\n",
    "MEN_NEG = \"#056497\"\n",
    "ACCENT = \"#d2518f\"\n",
    "ACCENT2 = \"#987ad3\""
   ]
  },
  {
   "cell_type": "code",
   "execution_count": null,
   "metadata": {},
   "outputs": [],
   "source": [
    "# df = pd.read_csv(\"C:/Users/vanki/partisan.csv\")\n",
    "dfs = []\n",
    "for file in glob.glob(\"C:/Users/vanki/201*.csv\"): ## Collect dataset\n",
    "    dfs.append(pd.read_csv(file))\n",
    "    \n",
    "# # Remove any corruptions in dataset\n",
    "# df = pd.concat(dfs).drop(columns=[\"Unnamed: 0\"])\n",
    "# df.dropna(subset=['Adjectives'], inplace=True) # somekind of mistake\n",
    "\n",
    "df = df[df['sex'].isin(['male','female'])]"
   ]
  },
  {
   "cell_type": "code",
   "execution_count": null,
   "metadata": {},
   "outputs": [],
   "source": [
    "# # To look at cross-partisan subsets only\n",
    "# left = ['Liberal', 'SocialDemocracy', 'socialism', 'alltheleft', 'neoliberal', 'democrats']\n",
    "# right = ['Libertarian', 'Conservative', 'Republican']\n",
    "# alt_right = ['The_Donald']\n",
    "\n",
    "# full_df = df\n",
    "# maps = {}\n",
    "# for sr in left:\n",
    "#     maps[sr] = 'left'\n",
    "# for sr in right:\n",
    "#     maps[sr] = 'right'\n",
    "# maps['The_Donald'] = 'alt_right'\n",
    "# df['group'] = df['subreddit'].map(maps)\n",
    "# df.dropna(subset=['group'], inplace=True)"
   ]
  },
  {
   "cell_type": "code",
   "execution_count": null,
   "metadata": {},
   "outputs": [],
   "source": [
    "# family_name_used vs full_name_used are determined based off the used name and the entity's recorded name on Wikidata\n",
    "# These were determined in the data processing stage\n",
    "\n",
    "def to_bool(value):\n",
    "    try:\n",
    "        return literal_eval(value)\n",
    "    except ValueError:\n",
    "        return value\n",
    "\n",
    "df['family_name_used'] = df['family_name_used'].map(to_bool)\n",
    "df['nickname_used'] = df['nickname_used'].map(to_bool)\n",
    "df['full_name_used'] = df['full_name_used'].map(to_bool)"
   ]
  },
  {
   "cell_type": "code",
   "execution_count": null,
   "metadata": {},
   "outputs": [],
   "source": [
    "# Calculate sums for each gender\n",
    "\n",
    "fem = df[df['sex'] == 'female']\n",
    "mal = df[df['sex'] == 'male']\n",
    "\n",
    "fg = fem['given_name_used'].sum()\n",
    "mg = mal['given_name_used'].sum()\n",
    "fs = fem['family_name_used'].sum()\n",
    "ms = mal['family_name_used'].sum()\n",
    "ff = fem['full_name_used'].sum()\n",
    "mf = mal['full_name_used'].sum()\n",
    "fn = fem['nickname_used'].sum()\n",
    "mn = mal['nickname_used'].sum()"
   ]
  },
  {
   "cell_type": "code",
   "execution_count": null,
   "metadata": {},
   "outputs": [],
   "source": [
    "# Print out percentages\n",
    "print('Female average use of first name', df[df['sex'] == 'female']['given_name_used'].mean())\n",
    "print('Male average use of first name', df[df['sex'] == 'male']['given_name_used'].mean())\n",
    "print(ttest_ind(df[df['sex'] == 'female']['given_name_used'].map(int), df[df['sex'] == 'male']['given_name_used'].map(int)))\n",
    "print()\n",
    "print('Female average use of family name', df[df['sex'] == 'female']['family_name_used'].mean())\n",
    "print('Male average use of family name', df[df['sex'] == 'male']['family_name_used'].mean())\n",
    "print(ttest_ind(df[df['sex'] == 'female']['family_name_used'].map(int), df[df['sex'] == 'male']['family_name_used'].map(int)))\n",
    "print()\n",
    "print('Female average use of nickname', df[df['sex'] == 'female']['nickname_used'].mean())\n",
    "print('Male average use of nickname', df[df['sex'] == 'male']['nickname_used'].mean())\n",
    "print(ttest_ind(df[df['sex'] == 'female']['nickname_used'].map(int), df[df['sex'] == 'male']['nickname_used'].map(int)))\n",
    "print()\n",
    "print('Female average use of full name', df[df['sex'] == 'female']['full_name_used'].mean())\n",
    "print('Male average use of full name', df[df['sex'] == 'male']['full_name_used'].mean())\n",
    "print(ttest_ind(df[df['sex'] == 'female']['full_name_used'].map(int), df[df['sex'] == 'male']['full_name_used'].map(int)))"
   ]
  },
  {
   "cell_type": "code",
   "execution_count": null,
   "metadata": {},
   "outputs": [],
   "source": [
    "## Visualize Results\n",
    "N = 4\n",
    "ind = np.arange(N)  # the x locations for the groups\n",
    "width = 0.35       # the width of the bars\n",
    "\n",
    "fig = plt.figure(figsize=(8,5))\n",
    "ax = fig.add_subplot(111)\n",
    "rects1 = ax.bar(ind, ms, width, color=MEN, label='Men', alpha=0.8)\n",
    "rects2 = ax.bar(ind+width, fs, width, color=WOMEN, label='Women')\n",
    "\n",
    "distance = 0.25\n",
    "dub_w = 0.16\n",
    "\n",
    "# for i in range(N):\n",
    "#     plt.axhline(y=E_avgs[0][i], xmin=i*distance+0.045, xmax=(i*distance+0.045)+dub_w, color='red')\n",
    "\n",
    "# plt.axhline(y=0, xmin=0, xmax=0, color='red', label=\"Expected\")\n",
    "# add some\n",
    "ax.set_ylabel('Percentage of use')\n",
    "ax.set_title('Name used in reference to politician')\n",
    "ax.set_xticks(ind + width / 2)\n",
    "ax.set_xticklabels( ('Surname', 'Given name', 'Full name', 'Other') )\n",
    "\n",
    "ax.legend()\n",
    "plt.savefig(\"name_use.tiff\",dpi=300, bbox_inches='tight')\n",
    "# plt.show()"
   ]
  },
  {
   "cell_type": "code",
   "execution_count": null,
   "metadata": {},
   "outputs": [],
   "source": [
    "subset = df[['given_name_used', 'family_name_used', 'full_name_used','nickname_used']].isin([True, 'True'])\n",
    "df['name'] = subset.where(subset==True).apply(pd.Series.first_valid_index, axis=1)\n",
    "\n",
    "df[['sex','name']].to_csv(\"general_nominal.csv\")\n",
    "df.dropna(subset=['group'])[['sex','name', 'group']].to_csv(\"partisan_nominal_nt.csv\") # Save for input into RStudio to calculate significance"
   ]
  },
  {
   "cell_type": "markdown",
   "metadata": {},
   "source": [
    "## Cross-partisan"
   ]
  },
  {
   "cell_type": "code",
   "execution_count": null,
   "metadata": {},
   "outputs": [],
   "source": [
    "values = []\n",
    "for group in ['left', 'right', 'alt_right']:\n",
    "    for query in ['family_name_used', 'given_name_used', 'full_name_used', 'nickname_used']:\n",
    "        for gender in ['male', 'female']:\n",
    "            values.append(df[(df['sex'] == gender) & (df['group'] == group)][query].mean())"
   ]
  },
  {
   "cell_type": "code",
   "execution_count": null,
   "metadata": {},
   "outputs": [],
   "source": [
    "#%matplotlib inline\n",
    "from mpl_toolkits.mplot3d import Axes3D\n",
    "import matplotlib.pyplot as plt\n",
    "import numpy as np\n",
    "\n",
    "fig = plt.figure(figsize=(10,15))\n",
    "ax = fig.add_subplot(111, projection = \"3d\")\n",
    "\n",
    "N = 4\n",
    "ind = np.arange(N)  # the x locations for the groups\n",
    "widthx = 0.35       # the width of the bars\n",
    "widthy = 0.5\n",
    "\n",
    "#ax.set_xlabel(\"x\")\n",
    "ax.set_ylabel(\"Partisanship\", size=14, labelpad=3) \n",
    "ax.set_xlabel(\"Name Used\", size=14)\n",
    "ax.set_zlabel(\"Percentage of Use\", size=14, labelpad=5)\n",
    "ax.set_xlim3d(-1,4)\n",
    "ax.set_ylim3d(0,widthy*3) \n",
    "ax.set_zlim3d(0,1)\n",
    "# ax.set_title('Name used in reference to politician', size=16)\n",
    "ax.set_xticks(ind + widthx/ 2)\n",
    "ax.set_xticklabels( ('Surname', 'Given name', 'Full name', 'Other') )\n",
    "\n",
    "ax.set_yticks([widthy/2,widthy*3/2,widthy*2.5])\n",
    "ax.set_yticklabels( ('Left', 'Right', 'Alt right'), rotation=90)\n",
    "\n",
    "xpos = [0,0+widthx, 1,1+widthx, 2.,2+widthx,3.,3+widthx]*3\n",
    "ypos = [0]*8 + [0 + widthy]*8 + [2*widthy]*8 \n",
    "zpos = [0]*8*3\n",
    "\n",
    "colors = [MEN,WOMEN,MEN,WOMEN,MEN,WOMEN,MEN,WOMEN]*3\n",
    "ax.legend(handles=legend_elements, bbox_to_anchor=(0.4,0.8), loc=\"upper center\")\n",
    "ax.bar3d(xpos, ypos, zos, widthx, widthy, values, color=colors, edgecolor='black')\n",
    "ax.view_init(elev=25, azim=-85)\n",
    "plt.savefig(\"Name_partisan.tif\",dpi=300, bbox_inches='tight')\n",
    "plt.show()"
   ]
  },
  {
   "cell_type": "code",
   "execution_count": null,
   "metadata": {},
   "outputs": [],
   "source": []
  }
 ],
 "metadata": {
  "kernelspec": {
   "display_name": "Python 3",
   "language": "python",
   "name": "python3"
  },
  "language_info": {
   "codemirror_mode": {
    "name": "ipython",
    "version": 3
   },
   "file_extension": ".py",
   "mimetype": "text/x-python",
   "name": "python",
   "nbconvert_exporter": "python",
   "pygments_lexer": "ipython3",
   "version": "3.8.5"
  }
 },
 "nbformat": 4,
 "nbformat_minor": 4
}
