{
 "cells": [
  {
   "cell_type": "code",
   "execution_count": 2,
   "metadata": {},
   "outputs": [],
   "source": [
    "import pandas as pd\n",
    "from ast import literal_eval\n",
    "import glob\n",
    "import numpy as np\n",
    "import matplotlib.pyplot as plt"
   ]
  },
  {
   "cell_type": "code",
   "execution_count": 1,
   "metadata": {},
   "outputs": [],
   "source": [
    "### colors from https://learnui.design/tools/data-color-picker.html#palette\n",
    "\n",
    "WOMEN = \"#ff876d\"\n",
    "WOMEN_POS = \"#ffcea8\"\n",
    "WOMEN_NEG = \"#cb4d36\"\n",
    "MEN = \"#009ce4\"\n",
    "MEN_POS = \"#76efff\"#\"#b8e1ff\"\n",
    "MEN_NEG = \"#056497\"\n",
    "ACCENT = \"#d2518f\"\n",
    "ACCENT2 = \"#987ad3\""
   ]
  },
  {
   "cell_type": "code",
   "execution_count": 3,
   "metadata": {},
   "outputs": [],
   "source": [
    "DELTA = 0.7 ## RECOMMENDED\n",
    "DELTA2 = 0.7 ## STARTING ATTEMPT\n",
    "#S = 20*W ## RECOMMENDED"
   ]
  },
  {
   "cell_type": "code",
   "execution_count": 4,
   "metadata": {},
   "outputs": [],
   "source": [
    "def return_PMI(row):\n",
    "    fem_PMI = np.log( (row.female) / (P_fem * ((row.female + row.male)/N)))\n",
    "    mal_PMI = np.log( (row.male) / (P_mal * ((row.female + row.male)/N)))\n",
    "    return fem_PMI, mal_PMI"
   ]
  },
  {
   "cell_type": "code",
   "execution_count": 5,
   "metadata": {},
   "outputs": [],
   "source": [
    "def return_cPMI(row): # should P_fem/N and word/W??? Look at more usecases of this in a context.\n",
    "    fem_cPMI = np.log( row.female/N / (P_fem/N * ((row.female + row.male)/W_adj) + np.sqrt(P_fem) * np.sqrt(np.log(DELTA)/-2)))\n",
    "    mal_cPMI = np.log( row.male/N / (P_mal/N * ((row.female + row.male)/W_adj) + np.sqrt(P_mal) * np.sqrt(np.log(DELTA)/-2)))\n",
    "    return fem_cPMI, mal_cPMI"
   ]
  },
  {
   "cell_type": "code",
   "execution_count": 6,
   "metadata": {},
   "outputs": [],
   "source": [
    "def return_cPMId(row):\n",
    "    fem_cPMId = np.log( row.female / (Pd_fem * ((row.female + row.male)/D) + np.sqrt(Pd_fem) * np.sqrt(np.log(DELTA)/-2)))\n",
    "    mal_cPMId = np.log( row.male / (Pd_mal * ((row.female + row.male)/D) + np.sqrt(Pd_mal) * np.sqrt(np.log(DELTA)/-2)))\n",
    "    return fem_cPMId, mal_cPMId"
   ]
  },
  {
   "cell_type": "code",
   "execution_count": 7,
   "metadata": {},
   "outputs": [],
   "source": [
    "# dfs = []\n",
    "# for file in glob.glob(\"201*.csv\"):\n",
    "#     dfs.append(pd.read_csv(file))\n",
    "# df = pd.concat(dfs)\n",
    "# # df.to_csv(\"all_comments.csv\", index=False)"
   ]
  },
  {
   "cell_type": "code",
   "execution_count": null,
   "metadata": {},
   "outputs": [
    {
     "name": "stderr",
     "output_type": "stream",
     "text": [
      "C:\\Users\\vanki\\anaconda3\\lib\\site-packages\\IPython\\core\\interactiveshell.py:3146: DtypeWarning: Columns (15,16,17,18) have mixed types.Specify dtype option on import or set low_memory=False.\n",
      "  has_raised = await self.run_ast_nodes(code_ast.body, cell_name,\n"
     ]
    }
   ],
   "source": [
    "# Load precompiled dataset (big)\n",
    "import pandas as pd\n",
    "df = pd.read_csv(\"all_comments.csv\")"
   ]
  },
  {
   "cell_type": "code",
   "execution_count": 23,
   "metadata": {},
   "outputs": [
    {
     "name": "stderr",
     "output_type": "stream",
     "text": [
      "C:\\Users\\vanki\\anaconda3\\lib\\site-packages\\IPython\\core\\interactiveshell.py:3146: DtypeWarning: Columns (15,16,17,18) have mixed types.Specify dtype option on import or set low_memory=False.\n",
      "  has_raised = await self.run_ast_nodes(code_ast.body, cell_name,\n"
     ]
    }
   ],
   "source": [
    "df = pd.read_csv(\"singles.csv\")"
   ]
  },
  {
   "cell_type": "code",
   "execution_count": 28,
   "metadata": {},
   "outputs": [],
   "source": [
    "df.dropna(subset=['Descriptors_parsed'], inplace=True) # somekind of mistake\n",
    "df = df[~(df.subreddit.str.startswith(\"Q\")) | ~(df.subreddit.str.startswith(\"[\"))]"
   ]
  },
  {
   "cell_type": "code",
   "execution_count": 31,
   "metadata": {},
   "outputs": [
    {
     "name": "stderr",
     "output_type": "stream",
     "text": [
      "<ipython-input-31-9dbdb7623004>:1: FutureWarning: The default value of regex will change from True to False in a future version.\n",
      "  df['Descriptors_parsed'] = df['Descriptors_parsed'].str.replace(\"set()\", \"\")\n"
     ]
    }
   ],
   "source": [
    "df['Descriptors_parsed'] = df['Descriptors_parsed'].str.replace(\"set()\", \"\")"
   ]
  },
  {
   "cell_type": "code",
   "execution_count": 32,
   "metadata": {},
   "outputs": [],
   "source": [
    "df['Descriptors_parsed'] = df['Descriptors_parsed'].map(literal_eval)\n",
    "# # df['Verbs_parsed'] = df['Verbs_parsed'].map(literal_eval)\n",
    "# df['Descriptors_parsed'] = df['Descriptors_parsed'].map(set)\n",
    "# df['Verbs_parsed'] = df['Verbs_parsed'].map(set)"
   ]
  },
  {
   "cell_type": "code",
   "execution_count": 13,
   "metadata": {},
   "outputs": [],
   "source": [
    "#df['single_mention'] = df.groupby('id').transform(lambda group: len(group) == 1) # Figure out how to do this"
   ]
  },
  {
   "cell_type": "code",
   "execution_count": 14,
   "metadata": {},
   "outputs": [],
   "source": [
    "# singles = df.groupby('id').filter(lambda group: len(group) == 1) # look only at comments that comment on ONE politician -- easier?\n",
    "# singles.to_csv(\"singles.csv\", index=False)\n",
    "# df = singles"
   ]
  },
  {
   "cell_type": "code",
   "execution_count": 15,
   "metadata": {},
   "outputs": [],
   "source": [
    "# df = pd.read_csv(\"singles.csv\")"
   ]
  },
  {
   "cell_type": "code",
   "execution_count": null,
   "metadata": {},
   "outputs": [],
   "source": [
    "# ### if you would like to isolate to just a subset of the data\n",
    "#full_sg = singles\n",
    "left = ['Liberal', 'SocialDemocracy', 'socialism', 'alltheleft', 'neoliberal', 'democrats']\n",
    "right = ['Libertarian', 'Conservative', 'Republican']\n",
    "alt_right = ['The_Donald']\n",
    "euro = ['ireland', 'unitedkingdom', 'europe']\n",
    "non_euro = ['canada', 'uspolitics', 'newzealand', 'australia', 'india']\n",
    "eng = ['canada', 'uspolitics', 'newzealand', 'australia', 'india', 'ireland', 'unitedkingdom']\n",
    "non_eng = ['europe']\n",
    "# df = full_sg[full_sg['subreddit'].isin(non_eng)]\n",
    "# df.shape"
   ]
  },
  {
   "cell_type": "code",
   "execution_count": 17,
   "metadata": {},
   "outputs": [
    {
     "ename": "NameError",
     "evalue": "name 'full_sg' is not defined",
     "output_type": "error",
     "traceback": [
      "\u001b[1;31m---------------------------------------------------------------------------\u001b[0m",
      "\u001b[1;31mNameError\u001b[0m                                 Traceback (most recent call last)",
      "\u001b[1;32m<ipython-input-17-915529ea6b31>\u001b[0m in \u001b[0;36m<module>\u001b[1;34m\u001b[0m\n\u001b[1;32m----> 1\u001b[1;33m \u001b[0mdf\u001b[0m\u001b[1;33m=\u001b[0m\u001b[0mfull_sg\u001b[0m\u001b[1;33m\u001b[0m\u001b[1;33m\u001b[0m\u001b[0m\n\u001b[0m",
      "\u001b[1;31mNameError\u001b[0m: name 'full_sg' is not defined"
     ]
    }
   ],
   "source": [
    "# df=full_sg"
   ]
  },
  {
   "cell_type": "code",
   "execution_count": null,
   "metadata": {},
   "outputs": [],
   "source": [
    "fem_freq = {}\n",
    "mal_freq = {}\n",
    "for doc in df[df['sex'] == 'female'].Descriptors_parsed:\n",
    "    for adj in doc: #ensure the same word isn't counted twice\n",
    "        if adj.lower() in fem_freq.keys():\n",
    "            fem_freq[adj.lower()] += 1\n",
    "        else:\n",
    "            fem_freq[adj.lower()] = 1\n",
    "            mal_freq[adj.lower()] = 0\n",
    "\n",
    "for doc in df[df['sex'] == 'male'].Descriptors_parsed:\n",
    "    for adj in doc: #ensure the same word isn't counted twice\n",
    "        if adj.lower() in mal_freq.keys():\n",
    "            mal_freq[adj.lower() ] += 1\n",
    "        else:\n",
    "            mal_freq[adj.lower() ] = 1\n",
    "            fem_freq[adj.lower() ] = 0"
   ]
  },
  {
   "cell_type": "code",
   "execution_count": null,
   "metadata": {},
   "outputs": [],
   "source": [
    "array = pd.DataFrame.from_dict([fem_freq,mal_freq])\n",
    "array.index = ['female', 'male']"
   ]
  },
  {
   "cell_type": "code",
   "execution_count": null,
   "metadata": {},
   "outputs": [],
   "source": [
    "array_T = array.transpose()\n",
    "array_T = array_T[(array_T.female > 2) & (array_T.male > 2)] # only look at words that appear at least 3 times in both sample sets."
   ]
  },
  {
   "cell_type": "code",
   "execution_count": null,
   "metadata": {},
   "outputs": [],
   "source": [
    "W_adj = sum(df.Descriptors_parsed.map(len))"
   ]
  },
  {
   "cell_type": "code",
   "execution_count": null,
   "metadata": {},
   "outputs": [],
   "source": [
    "N =  df.shape[0]\n",
    "P_fem = df[df['sex'] == 'female'].shape[0]\n",
    "P_mal = df[df['sex'] == 'male'].shape[0]"
   ]
  },
  {
   "cell_type": "code",
   "execution_count": null,
   "metadata": {},
   "outputs": [],
   "source": [
    "array_T['PMI_female'], array_T['PMI_male'] = zip(*array_T.apply(lambda row: return_PMI(row), axis=1))"
   ]
  },
  {
   "cell_type": "code",
   "execution_count": null,
   "metadata": {},
   "outputs": [],
   "source": [
    "array_T['cPMI_female'], array_T['cPMI_male'] = zip(*array_T.apply(lambda row: return_cPMI(row), axis=1))"
   ]
  },
  {
   "cell_type": "code",
   "execution_count": null,
   "metadata": {},
   "outputs": [],
   "source": [
    "array_T.sort_values(by=['PMI_female'], axis=0, ascending=False).iloc[:300]"
   ]
  },
  {
   "cell_type": "code",
   "execution_count": null,
   "metadata": {},
   "outputs": [],
   "source": [
    "array_T.sort_values(by=['PMI_male'], axis=0, ascending=False).iloc[:300]"
   ]
  },
  {
   "cell_type": "code",
   "execution_count": null,
   "metadata": {},
   "outputs": [],
   "source": [
    "#array_T.sort_values(by=['cPMI_male'], axis=0, ascending=False).iloc[:200]\n",
    "#(array_T['cPMI_female'] - array_T['cPMI_male']).sort_values(ascending=False).iloc[:200]"
   ]
  },
  {
   "cell_type": "code",
   "execution_count": 33,
   "metadata": {},
   "outputs": [
    {
     "data": {
      "text/html": [
       "<div>\n",
       "<style scoped>\n",
       "    .dataframe tbody tr th:only-of-type {\n",
       "        vertical-align: middle;\n",
       "    }\n",
       "\n",
       "    .dataframe tbody tr th {\n",
       "        vertical-align: top;\n",
       "    }\n",
       "\n",
       "    .dataframe thead th {\n",
       "        text-align: right;\n",
       "    }\n",
       "</style>\n",
       "<table border=\"1\" class=\"dataframe\">\n",
       "  <thead>\n",
       "    <tr style=\"text-align: right;\">\n",
       "      <th></th>\n",
       "      <th>id</th>\n",
       "      <th>body</th>\n",
       "      <th>subreddit</th>\n",
       "      <th>to_type</th>\n",
       "      <th>NEL</th>\n",
       "      <th>Names</th>\n",
       "      <th>created_utc</th>\n",
       "      <th>sex</th>\n",
       "      <th>ethnicity</th>\n",
       "      <th>origin</th>\n",
       "      <th>...</th>\n",
       "      <th>nickname_used</th>\n",
       "      <th>Adjectives</th>\n",
       "      <th>Verbs</th>\n",
       "      <th>Nouns</th>\n",
       "      <th>Descriptors_parsed</th>\n",
       "      <th>Verbs_parsed</th>\n",
       "      <th>Relation</th>\n",
       "      <th>Valence</th>\n",
       "      <th>Arousal</th>\n",
       "      <th>Dominance</th>\n",
       "    </tr>\n",
       "  </thead>\n",
       "  <tbody>\n",
       "    <tr>\n",
       "      <th>0</th>\n",
       "      <td>e2r5k8m</td>\n",
       "      <td>This is the FAKEST news! [NAME] is real Americ...</td>\n",
       "      <td>politics</td>\n",
       "      <td>t1</td>\n",
       "      <td>Q22686</td>\n",
       "      <td>['Trump']</td>\n",
       "      <td>NaN</td>\n",
       "      <td>male</td>\n",
       "      <td>NaN</td>\n",
       "      <td>United States of America</td>\n",
       "      <td>...</td>\n",
       "      <td>False</td>\n",
       "      <td>['real', 'american']</td>\n",
       "      <td>['do']</td>\n",
       "      <td>['news', 'name', 'hero', 'name']</td>\n",
       "      <td>{hero, real, american, never}</td>\n",
       "      <td>{'be', 'do'}</td>\n",
       "      <td>['nsubj', 'dep']</td>\n",
       "      <td>0.657286</td>\n",
       "      <td>0.493714</td>\n",
       "      <td>0.571571</td>\n",
       "    </tr>\n",
       "    <tr>\n",
       "      <th>1</th>\n",
       "      <td>e2r5kpy</td>\n",
       "      <td>Makes me wonder why Cohen was secretly recordi...</td>\n",
       "      <td>politics</td>\n",
       "      <td>t3</td>\n",
       "      <td>Q22686</td>\n",
       "      <td>['Trump']</td>\n",
       "      <td>NaN</td>\n",
       "      <td>male</td>\n",
       "      <td>NaN</td>\n",
       "      <td>United States of America</td>\n",
       "      <td>...</td>\n",
       "      <td>False</td>\n",
       "      <td>['own', 'many', 'many', 'other', 'many', 'many']</td>\n",
       "      <td>['make', 'wonder', 'record', 'plan', 'gather',...</td>\n",
       "      <td>['conversation', 'blackmail', 'leverage', 'rec...</td>\n",
       "      <td>()</td>\n",
       "      <td>{'involve'}</td>\n",
       "      <td>['nsubjpass']</td>\n",
       "      <td>0.661333</td>\n",
       "      <td>0.468905</td>\n",
       "      <td>0.559714</td>\n",
       "    </tr>\n",
       "    <tr>\n",
       "      <th>2</th>\n",
       "      <td>e2r5kwn</td>\n",
       "      <td>That's a pretty big gamble to make. I tend to ...</td>\n",
       "      <td>politics</td>\n",
       "      <td>t1</td>\n",
       "      <td>Q7747</td>\n",
       "      <td>['Putin']</td>\n",
       "      <td>NaN</td>\n",
       "      <td>male</td>\n",
       "      <td>Russians</td>\n",
       "      <td>Russia</td>\n",
       "      <td>...</td>\n",
       "      <td>False</td>\n",
       "      <td>['big', 'international', 'dangerous', 'hard', ...</td>\n",
       "      <td>['make', 'tend', 'agree', 'be', 'do', 'be', 'm...</td>\n",
       "      <td>['gamble', 'thing', 'scale', 'precedent', 'nam...</td>\n",
       "      <td>{other}</td>\n",
       "      <td>set()</td>\n",
       "      <td>['pobj']</td>\n",
       "      <td>0.615391</td>\n",
       "      <td>0.488696</td>\n",
       "      <td>0.557217</td>\n",
       "    </tr>\n",
       "    <tr>\n",
       "      <th>3</th>\n",
       "      <td>e2r5l1f</td>\n",
       "      <td>Considering [NAME] asked the Democrats to do i...</td>\n",
       "      <td>news</td>\n",
       "      <td>t1</td>\n",
       "      <td>Q22686</td>\n",
       "      <td>['Trump']</td>\n",
       "      <td>NaN</td>\n",
       "      <td>male</td>\n",
       "      <td>NaN</td>\n",
       "      <td>United States of America</td>\n",
       "      <td>...</td>\n",
       "      <td>False</td>\n",
       "      <td>['much', 'further', 'russian']</td>\n",
       "      <td>['consider', 'ask', 'do', 'consider', 'go']</td>\n",
       "      <td>['name', 'meddling', 'hacking']</td>\n",
       "      <td>()</td>\n",
       "      <td>{'consider'}</td>\n",
       "      <td>['pobj']</td>\n",
       "      <td>0.496000</td>\n",
       "      <td>0.482667</td>\n",
       "      <td>0.470667</td>\n",
       "    </tr>\n",
       "    <tr>\n",
       "      <th>4</th>\n",
       "      <td>e2r5lpv</td>\n",
       "      <td>we have tape of [NAME] admitting to sexual ass...</td>\n",
       "      <td>news</td>\n",
       "      <td>t1</td>\n",
       "      <td>Q22686</td>\n",
       "      <td>['Trump']</td>\n",
       "      <td>NaN</td>\n",
       "      <td>male</td>\n",
       "      <td>NaN</td>\n",
       "      <td>United States of America</td>\n",
       "      <td>...</td>\n",
       "      <td>False</td>\n",
       "      <td>['sexual', 'bad', 'fucking', 'more']</td>\n",
       "      <td>['have', 'admit', 'have', 'rape', 'be', 'be', ...</td>\n",
       "      <td>['tape', 'name', 'assault', 'court', 'record',...</td>\n",
       "      <td>{only, -, defense, ex}</td>\n",
       "      <td>{'rape'}</td>\n",
       "      <td>['pobj', 'dep', 'nmod', 'conj']</td>\n",
       "      <td>0.557370</td>\n",
       "      <td>0.529037</td>\n",
       "      <td>0.526185</td>\n",
       "    </tr>\n",
       "  </tbody>\n",
       "</table>\n",
       "<p>5 rows × 28 columns</p>\n",
       "</div>"
      ],
      "text/plain": [
       "        id                                               body subreddit  \\\n",
       "0  e2r5k8m  This is the FAKEST news! [NAME] is real Americ...  politics   \n",
       "1  e2r5kpy  Makes me wonder why Cohen was secretly recordi...  politics   \n",
       "2  e2r5kwn  That's a pretty big gamble to make. I tend to ...  politics   \n",
       "3  e2r5l1f  Considering [NAME] asked the Democrats to do i...      news   \n",
       "4  e2r5lpv  we have tape of [NAME] admitting to sexual ass...      news   \n",
       "\n",
       "  to_type     NEL      Names  created_utc   sex ethnicity  \\\n",
       "0      t1  Q22686  ['Trump']          NaN  male       NaN   \n",
       "1      t3  Q22686  ['Trump']          NaN  male       NaN   \n",
       "2      t1   Q7747  ['Putin']          NaN  male  Russians   \n",
       "3      t1  Q22686  ['Trump']          NaN  male       NaN   \n",
       "4      t1  Q22686  ['Trump']          NaN  male       NaN   \n",
       "\n",
       "                     origin  ... nickname_used  \\\n",
       "0  United States of America  ...         False   \n",
       "1  United States of America  ...         False   \n",
       "2                    Russia  ...         False   \n",
       "3  United States of America  ...         False   \n",
       "4  United States of America  ...         False   \n",
       "\n",
       "                                          Adjectives  \\\n",
       "0                               ['real', 'american']   \n",
       "1   ['own', 'many', 'many', 'other', 'many', 'many']   \n",
       "2  ['big', 'international', 'dangerous', 'hard', ...   \n",
       "3                     ['much', 'further', 'russian']   \n",
       "4               ['sexual', 'bad', 'fucking', 'more']   \n",
       "\n",
       "                                               Verbs  \\\n",
       "0                                             ['do']   \n",
       "1  ['make', 'wonder', 'record', 'plan', 'gather',...   \n",
       "2  ['make', 'tend', 'agree', 'be', 'do', 'be', 'm...   \n",
       "3        ['consider', 'ask', 'do', 'consider', 'go']   \n",
       "4  ['have', 'admit', 'have', 'rape', 'be', 'be', ...   \n",
       "\n",
       "                                               Nouns  \\\n",
       "0                   ['news', 'name', 'hero', 'name']   \n",
       "1  ['conversation', 'blackmail', 'leverage', 'rec...   \n",
       "2  ['gamble', 'thing', 'scale', 'precedent', 'nam...   \n",
       "3                    ['name', 'meddling', 'hacking']   \n",
       "4  ['tape', 'name', 'assault', 'court', 'record',...   \n",
       "\n",
       "              Descriptors_parsed  Verbs_parsed  \\\n",
       "0  {hero, real, american, never}  {'be', 'do'}   \n",
       "1                             ()   {'involve'}   \n",
       "2                        {other}         set()   \n",
       "3                             ()  {'consider'}   \n",
       "4         {only, -, defense, ex}      {'rape'}   \n",
       "\n",
       "                          Relation   Valence   Arousal Dominance  \n",
       "0                 ['nsubj', 'dep']  0.657286  0.493714  0.571571  \n",
       "1                    ['nsubjpass']  0.661333  0.468905  0.559714  \n",
       "2                         ['pobj']  0.615391  0.488696  0.557217  \n",
       "3                         ['pobj']  0.496000  0.482667  0.470667  \n",
       "4  ['pobj', 'dep', 'nmod', 'conj']  0.557370  0.529037  0.526185  \n",
       "\n",
       "[5 rows x 28 columns]"
      ]
     },
     "execution_count": 33,
     "metadata": {},
     "output_type": "execute_result"
    }
   ],
   "source": [
    "df.head()"
   ]
  },
  {
   "cell_type": "code",
   "execution_count": 34,
   "metadata": {},
   "outputs": [
    {
     "ename": "TypeError",
     "evalue": "unhashable type: 'dict'",
     "output_type": "error",
     "traceback": [
      "\u001b[1;31m---------------------------------------------------------------------------\u001b[0m",
      "\u001b[1;31mTypeError\u001b[0m                                 Traceback (most recent call last)",
      "\u001b[1;32m<ipython-input-34-cfd57ae359b1>\u001b[0m in \u001b[0;36m<module>\u001b[1;34m\u001b[0m\n\u001b[1;32m----> 1\u001b[1;33m \u001b[0mentity_level\u001b[0m \u001b[1;33m=\u001b[0m \u001b[0mdf\u001b[0m\u001b[1;33m.\u001b[0m\u001b[0mgroupby\u001b[0m\u001b[1;33m(\u001b[0m\u001b[1;34m'NEL'\u001b[0m\u001b[1;33m)\u001b[0m\u001b[1;33m.\u001b[0m\u001b[0magg\u001b[0m\u001b[1;33m(\u001b[0m\u001b[1;33m[\u001b[0m\u001b[1;33m{\u001b[0m\u001b[1;34m'Descriptors_parsed'\u001b[0m\u001b[1;33m:\u001b[0m \u001b[0mlist\u001b[0m\u001b[1;33m}\u001b[0m\u001b[1;33m,\u001b[0m \u001b[1;34m'count'\u001b[0m\u001b[1;33m]\u001b[0m\u001b[1;33m)\u001b[0m\u001b[1;33m\u001b[0m\u001b[1;33m\u001b[0m\u001b[0m\n\u001b[0m\u001b[0;32m      2\u001b[0m \u001b[0mentity_level\u001b[0m\u001b[1;33m[\u001b[0m\u001b[1;34m'Descriptors_parsed'\u001b[0m\u001b[1;33m]\u001b[0m \u001b[1;33m=\u001b[0m \u001b[0mentity_level\u001b[0m\u001b[1;33m[\u001b[0m\u001b[1;34m'Descriptors_parsed'\u001b[0m\u001b[1;33m]\u001b[0m\u001b[1;33m.\u001b[0m\u001b[0mapply\u001b[0m\u001b[1;33m(\u001b[0m\u001b[1;32mlambda\u001b[0m \u001b[0mx\u001b[0m\u001b[1;33m:\u001b[0m \u001b[1;33m[\u001b[0m\u001b[0mitem\u001b[0m \u001b[1;32mfor\u001b[0m \u001b[0msublist\u001b[0m \u001b[1;32min\u001b[0m \u001b[0mx\u001b[0m \u001b[1;32mfor\u001b[0m \u001b[0mitem\u001b[0m \u001b[1;32min\u001b[0m \u001b[0msublist\u001b[0m\u001b[1;33m]\u001b[0m\u001b[1;33m)\u001b[0m\u001b[1;33m\u001b[0m\u001b[1;33m\u001b[0m\u001b[0m\n\u001b[0;32m      3\u001b[0m \u001b[0mentity_level\u001b[0m\u001b[1;33m[\u001b[0m\u001b[1;34m'doc_count'\u001b[0m\u001b[1;33m]\u001b[0m \u001b[1;33m=\u001b[0m \u001b[0mdf\u001b[0m\u001b[1;33m.\u001b[0m\u001b[0mgroupby\u001b[0m\u001b[1;33m(\u001b[0m\u001b[1;34m'NEL'\u001b[0m\u001b[1;33m)\u001b[0m\u001b[1;33m\u001b[0m\u001b[1;33m\u001b[0m\u001b[0m\n",
      "\u001b[1;32m~\\AppData\\Roaming\\Python\\Python38\\site-packages\\pandas\\core\\groupby\\generic.py\u001b[0m in \u001b[0;36maggregate\u001b[1;34m(self, func, engine, engine_kwargs, *args, **kwargs)\u001b[0m\n\u001b[0;32m    940\u001b[0m             \u001b[1;32mreturn\u001b[0m \u001b[0mself\u001b[0m\u001b[1;33m.\u001b[0m\u001b[0mobj\u001b[0m\u001b[1;33m.\u001b[0m\u001b[0m_constructor\u001b[0m\u001b[1;33m(\u001b[0m\u001b[0mresult\u001b[0m\u001b[1;33m,\u001b[0m \u001b[0mindex\u001b[0m\u001b[1;33m=\u001b[0m\u001b[0mindex\u001b[0m\u001b[1;33m,\u001b[0m \u001b[0mcolumns\u001b[0m\u001b[1;33m=\u001b[0m\u001b[0mdata\u001b[0m\u001b[1;33m.\u001b[0m\u001b[0mcolumns\u001b[0m\u001b[1;33m)\u001b[0m\u001b[1;33m\u001b[0m\u001b[1;33m\u001b[0m\u001b[0m\n\u001b[0;32m    941\u001b[0m \u001b[1;33m\u001b[0m\u001b[0m\n\u001b[1;32m--> 942\u001b[1;33m         \u001b[0mrelabeling\u001b[0m\u001b[1;33m,\u001b[0m \u001b[0mfunc\u001b[0m\u001b[1;33m,\u001b[0m \u001b[0mcolumns\u001b[0m\u001b[1;33m,\u001b[0m \u001b[0morder\u001b[0m \u001b[1;33m=\u001b[0m \u001b[0mreconstruct_func\u001b[0m\u001b[1;33m(\u001b[0m\u001b[0mfunc\u001b[0m\u001b[1;33m,\u001b[0m \u001b[1;33m**\u001b[0m\u001b[0mkwargs\u001b[0m\u001b[1;33m)\u001b[0m\u001b[1;33m\u001b[0m\u001b[1;33m\u001b[0m\u001b[0m\n\u001b[0m\u001b[0;32m    943\u001b[0m         \u001b[0mfunc\u001b[0m \u001b[1;33m=\u001b[0m \u001b[0mmaybe_mangle_lambdas\u001b[0m\u001b[1;33m(\u001b[0m\u001b[0mfunc\u001b[0m\u001b[1;33m)\u001b[0m\u001b[1;33m\u001b[0m\u001b[1;33m\u001b[0m\u001b[0m\n\u001b[0;32m    944\u001b[0m \u001b[1;33m\u001b[0m\u001b[0m\n",
      "\u001b[1;32m~\\AppData\\Roaming\\Python\\Python38\\site-packages\\pandas\\core\\aggregation.py\u001b[0m in \u001b[0;36mreconstruct_func\u001b[1;34m(func, **kwargs)\u001b[0m\n\u001b[0;32m     88\u001b[0m \u001b[1;33m\u001b[0m\u001b[0m\n\u001b[0;32m     89\u001b[0m     \u001b[1;32mif\u001b[0m \u001b[1;32mnot\u001b[0m \u001b[0mrelabeling\u001b[0m\u001b[1;33m:\u001b[0m\u001b[1;33m\u001b[0m\u001b[1;33m\u001b[0m\u001b[0m\n\u001b[1;32m---> 90\u001b[1;33m         \u001b[1;32mif\u001b[0m \u001b[0misinstance\u001b[0m\u001b[1;33m(\u001b[0m\u001b[0mfunc\u001b[0m\u001b[1;33m,\u001b[0m \u001b[0mlist\u001b[0m\u001b[1;33m)\u001b[0m \u001b[1;32mand\u001b[0m \u001b[0mlen\u001b[0m\u001b[1;33m(\u001b[0m\u001b[0mfunc\u001b[0m\u001b[1;33m)\u001b[0m \u001b[1;33m>\u001b[0m \u001b[0mlen\u001b[0m\u001b[1;33m(\u001b[0m\u001b[0mset\u001b[0m\u001b[1;33m(\u001b[0m\u001b[0mfunc\u001b[0m\u001b[1;33m)\u001b[0m\u001b[1;33m)\u001b[0m\u001b[1;33m:\u001b[0m\u001b[1;33m\u001b[0m\u001b[1;33m\u001b[0m\u001b[0m\n\u001b[0m\u001b[0;32m     91\u001b[0m \u001b[1;33m\u001b[0m\u001b[0m\n\u001b[0;32m     92\u001b[0m             \u001b[1;31m# GH 28426 will raise error if duplicated function names are used and\u001b[0m\u001b[1;33m\u001b[0m\u001b[1;33m\u001b[0m\u001b[1;33m\u001b[0m\u001b[0m\n",
      "\u001b[1;31mTypeError\u001b[0m: unhashable type: 'dict'"
     ]
    }
   ],
   "source": [
    "# entity_level = df.groupby('NEL').agg([{'Descriptors_parsed': list}, 'count'])\n",
    "# entity_level['Descriptors_parsed'] = entity_level['Descriptors_parsed'].apply(lambda x: [item for sublist in x for item in sublist])\n",
    "# entity_level['doc_count'] = df.groupby('NEL')"
   ]
  },
  {
   "cell_type": "code",
   "execution_count": 35,
   "metadata": {},
   "outputs": [],
   "source": [
    "df['Descriptors_parsed'] = df['Descriptors_parsed'].map(list)"
   ]
  },
  {
   "cell_type": "code",
   "execution_count": 36,
   "metadata": {},
   "outputs": [],
   "source": [
    "entity_level = df.groupby('NEL').agg({'Descriptors_parsed': list})\n",
    "entity_level['Descriptors_parsed'] = entity_level['Descriptors_parsed'].apply(lambda x: [item for sublist in x for item in sublist])\n",
    "entity_level['Descriptors_parsed'] = entity_level['Descriptors_parsed'].map(set)"
   ]
  },
  {
   "cell_type": "code",
   "execution_count": null,
   "metadata": {},
   "outputs": [],
   "source": [
    "mapper = df[['NEL','sex']].drop_duplicates('NEL').set_index('NEL').to_dict()['sex']\n",
    "entity_level['sex'] = entity_level.index.map(mapper)"
   ]
  },
  {
   "cell_type": "code",
   "execution_count": 37,
   "metadata": {},
   "outputs": [],
   "source": [
    "import re, string\n",
    "punct = string.punctuation\n",
    "punct = punct.replace('-','')\n",
    "punct = punct + \"\\n\\t\"\n",
    "pattern = re.compile(\"\\w*[\" + re.escape(punct) + \"]+\\w*\")"
   ]
  },
  {
   "cell_type": "code",
   "execution_count": null,
   "metadata": {},
   "outputs": [],
   "source": [
    "d_fem_freq = {}\n",
    "d_mal_freq = {}\n",
    "for ent in entity_level[entity_level['sex'] == 'female'].Descriptors_parsed:\n",
    "    for adj in ent: #ensure the same word isn't counted twice\n",
    "        if adj.lower() in d_fem_freq.keys():\n",
    "            d_fem_freq[adj.lower()] += 1\n",
    "        else:\n",
    "            if not pattern.match(adj):\n",
    "                d_fem_freq[adj.lower()] = 1\n",
    "                d_mal_freq[adj.lower()] = 0\n",
    "\n",
    "for ent in entity_level[entity_level['sex'] == 'male'].Descriptors_parsed:\n",
    "    for adj in ent: #ensure the same word isn't counted twice\n",
    "        if adj.lower() in d_mal_freq.keys():\n",
    "            d_mal_freq[adj.lower() ] += 1\n",
    "        else:\n",
    "            if not pattern.match(adj):\n",
    "                d_fem_freq[adj.lower()] = 1\n",
    "                d_mal_freq[adj.lower()] = 0"
   ]
  },
  {
   "cell_type": "code",
   "execution_count": null,
   "metadata": {},
   "outputs": [],
   "source": [
    "D = entity_level.shape[0]\n",
    "Pd_fem = entity_level[entity_level['sex'] == 'female'].shape[0]\n",
    "Pd_mal = entity_level[entity_level['sex'] == 'male'].shape[0]"
   ]
  },
  {
   "cell_type": "code",
   "execution_count": null,
   "metadata": {},
   "outputs": [],
   "source": [
    "d_array = pd.DataFrame.from_dict([d_fem_freq,d_mal_freq])\n",
    "d_array.index = ['female', 'male']\n",
    "d_array_T = d_array.transpose()\n",
    "d_array_T = d_array_T[(d_array_T.female > 2) & (d_array_T.male > 2)] # only look at words that appear at least 3 times in both sample sets."
   ]
  },
  {
   "cell_type": "code",
   "execution_count": null,
   "metadata": {},
   "outputs": [],
   "source": [
    "d_array_T['PMI_female'], d_array_T['PMI_male'] = zip(*d_array_T.apply(lambda row: return_PMI(row), axis=1))"
   ]
  },
  {
   "cell_type": "code",
   "execution_count": null,
   "metadata": {},
   "outputs": [],
   "source": [
    "d_array_T.sort_values(by=['PMI_female'], axis=0, ascending=False).iloc[:100]"
   ]
  },
  {
   "cell_type": "code",
   "execution_count": null,
   "metadata": {},
   "outputs": [],
   "source": [
    "d_array_T.sort_values(by=['PMI_male'], axis=0, ascending=False).iloc[:300]"
   ]
  },
  {
   "cell_type": "code",
   "execution_count": null,
   "metadata": {},
   "outputs": [],
   "source": [
    "most_fem_c = d_array_T.sort_values(by=['PMI_female'], axis=0, ascending=False).iloc[:100]\n",
    "least_fem_c = d_array_T.sort_values(by=['PMI_male'], axis=0, ascending=False).iloc[:100]"
   ]
  },
  {
   "cell_type": "code",
   "execution_count": null,
   "metadata": {},
   "outputs": [],
   "source": [
    "most_fem_c.to_excel(\"most_female_gen.xlsx\")\n",
    "least_fem_c.to_excel(\"most_male_gen.xlsx\")"
   ]
  },
  {
   "cell_type": "code",
   "execution_count": null,
   "metadata": {},
   "outputs": [],
   "source": [
    "most_female = array_T.sort_values(by=['PMI_female'], axis=0, ascending=False).iloc[:100]\n",
    "least_female = array_T.sort_values(by=['PMI_male'], axis=0, ascending=False).iloc[:100]"
   ]
  },
  {
   "cell_type": "code",
   "execution_count": null,
   "metadata": {},
   "outputs": [],
   "source": [
    "for word in most_female.index:\n",
    "    print(word)"
   ]
  },
  {
   "cell_type": "code",
   "execution_count": null,
   "metadata": {},
   "outputs": [],
   "source": [
    "for word in most_fem_c.index:\n",
    "    print(word)"
   ]
  },
  {
   "cell_type": "code",
   "execution_count": 52,
   "metadata": {
    "scrolled": false
   },
   "outputs": [
    {
     "name": "stdout",
     "output_type": "stream",
     "text": [
      "bloke\n",
      "wanker\n",
      "prince\n",
      "lawful\n",
      "turkish\n",
      "madman\n",
      "unchecked\n",
      "punchable\n",
      "truck\n",
      "dickhead\n",
      "jock\n",
      "informant\n",
      "inflation\n",
      "businessman\n",
      "sovereign\n",
      "chode\n",
      "prick\n",
      "cure\n",
      "envoy\n",
      "testicle\n",
      "ruler\n",
      "worm\n",
      "republic\n",
      "discovery\n",
      "douchebag\n",
      "constitutionalist\n",
      "urgent\n",
      "lad\n",
      "hereby\n",
      "imperialism\n",
      "bluster\n",
      "mafia\n",
      "can\\'t\n",
      "gatekeeper\n",
      "kisser\n",
      "kiddie\n",
      "sleazeball\n",
      "errand\n",
      "undisclosed\n",
      "chairman\n",
      "longstanding\n",
      "shitbird\n",
      "douche\n",
      "fanboy\n",
      "congressman\n",
      "diddler\n",
      "excess\n",
      "utopia\n",
      "manifestation\n",
      "federalist\n",
      "meddling\n",
      "lowlife\n",
      "alley\n",
      "ukraine\n",
      "chancellor\n",
      "affect\n",
      "offshore\n",
      "wimp\n",
      "grim\n",
      "philosophical\n",
      "henchman\n",
      "rain\n",
      "palace\n",
      "overhaul\n",
      "crypto\n",
      "erection\n",
      "nationalistic\n",
      "locker\n",
      "pronouncement\n",
      "clickbait\n",
      "domain\n",
      "sleaze\n",
      "subway\n",
      "fella\n",
      "plausibly\n",
      "clique\n",
      "slimeball\n",
      "fuckhead\n",
      "secular\n",
      "criminality\n",
      "goof\n",
      "christ\n",
      "stunned\n",
      "behest\n",
      "horde\n",
      "onwards\n",
      "priest\n",
      "jazz\n",
      "mogul\n",
      "expendable\n",
      "monarch\n",
      "founder\n",
      "biblical\n",
      "obedient\n",
      "usd\n",
      "soy\n",
      "passage\n",
      "metal\n",
      "ping\n",
      "asswipe\n",
      "wingnut\n",
      "culprit\n",
      "tightly\n",
      "cuff\n",
      "remnant\n",
      "tycoon\n",
      "sweating\n",
      "erect\n",
      "informative\n",
      "engine\n",
      "lieutenant\n",
      "interior\n",
      "a.\n",
      "upstanding\n",
      "vehicle\n",
      "arrangement\n",
      "retreat\n",
      "toady\n",
      "monument\n",
      "visitor\n",
      "negligence\n",
      "treachery\n",
      "modus\n",
      "stranglehold\n",
      "stud\n",
      "jersey\n",
      "unheard\n",
      "tobacco\n",
      "repair\n",
      "broadcaster\n",
      "feeding\n",
      "blush\n",
      "demonstrable\n",
      "p.\n",
      "cleansing\n",
      "summarily\n",
      "sterling\n",
      "dastardly\n",
      "punk\n",
      "communism\n",
      "ordinary\n",
      "log\n",
      "strongman\n",
      "apolitical\n",
      "putz\n",
      "sergeant\n",
      "dealer\n",
      "navy\n",
      "machination\n",
      "hapless\n",
      "frickin\n",
      "closeted\n",
      "shareholder\n",
      "zeal\n",
      "throw\n",
      "shitheel\n",
      "weaselly\n",
      "bribery\n",
      "ruble\n",
      "testament\n",
      "generously\n",
      "momentarily\n",
      "dictatorial\n",
      "avoidance\n",
      "impending\n",
      "caste\n",
      "roadmap\n",
      "colon\n",
      "prostate\n",
      "unconventional\n",
      "untouched\n",
      "liver\n",
      "jihadist\n",
      "dismantling\n",
      "bond\n",
      "hemorrhoid\n",
      "tracking\n",
      "ukrainian\n",
      "gradually\n",
      "dictator\n",
      "sheriff\n",
      "pretentious\n",
      "ratio\n",
      "ray\n",
      "sanctimonious\n",
      "recovery\n",
      "handy\n",
      "finding\n",
      "cuban\n",
      "gambit\n",
      "telephone\n",
      "scout\n",
      "bastard\n",
      "ol'\n",
      "intel\n",
      "incarceration\n",
      "innovation\n",
      "erosion\n",
      "impartiality\n",
      "trivial\n",
      "tfw\n",
      "leniency\n",
      "militarily\n",
      "pepper\n",
      "decrease\n",
      "craft\n",
      "ol’\n",
      "wingman\n",
      "cartoon\n",
      "expansive\n",
      "austrian\n",
      "papa\n",
      "comically\n",
      "culpability\n",
      "campus\n",
      "patch\n",
      "illiberal\n",
      "farming\n",
      "hick\n",
      "shitbag\n",
      "blowhard\n",
      "recession\n",
      "billionaire\n",
      "socialism\n",
      "cleverly\n",
      "greek\n",
      "baron\n",
      "speechwriter\n",
      "experiment\n",
      "schmuck\n",
      "surplus\n",
      "coup\n",
      "mountain\n",
      "thug\n",
      "sir\n",
      "separatist\n",
      "tension\n",
      "esteemed\n",
      "plank\n",
      "cornered\n",
      "philosopher\n",
      "cartel\n",
      "resign\n",
      "superpower\n",
      "destiny\n",
      "rip\n",
      "distrust\n",
      "imperial\n",
      "mega\n",
      "wool\n",
      "diversion\n",
      "museum\n",
      "dweller\n",
      "swift\n",
      "grocery\n",
      "feasibly\n",
      "pollution\n",
      "showman\n",
      "smelly\n",
      "unconstitutionally\n",
      "pigeon\n",
      "hop\n",
      "crackdown\n",
      "tentative\n",
      "pretend\n",
      "rehabilitation\n",
      "methodically\n",
      "depressing\n",
      "monumental\n",
      "conciliatory\n",
      "fluffer\n",
      "embarassment\n",
      "flunky\n",
      "bicycle\n",
      "theocratic\n",
      "copious\n",
      "incest\n",
      "retribution\n",
      "irreparably\n",
      "toddler\n",
      "renowned\n",
      "bulk\n",
      "ergo\n",
      "greasy\n",
      "king\n",
      "faggot\n",
      "underground\n",
      "rebel\n",
      "irrespective\n",
      "pioneer\n",
      "mobster\n",
      "tire\n",
      "casualty\n",
      "litany\n",
      "flagrant\n",
      "sidekick\n",
      "venezuelan\n",
      "hungarian\n",
      "century\n",
      "means\n"
     ]
    }
   ],
   "source": [
    "for word in least_fem_c.index:\n",
    "    print(word)"
   ]
  },
  {
   "cell_type": "code",
   "execution_count": 53,
   "metadata": {},
   "outputs": [],
   "source": [
    "# # NOW LOOK FOR WORDS SIGNIFICANT IN AN ENTITY'S CORPUS\n",
    "\n",
    "# ent_level = df.groupby('NEL').agg({'Descriptors_parsed': [list,'count']})\n",
    "# ent_level.columns = [ str(col[-1]) for col in ent_level.columns]\n",
    "# ent_level.reset_index(inplace=True)\n",
    "# ent_level['list'] = ent_level['list'].apply(lambda x: [item for sublist in x for item in sublist])\n",
    "# ent_level['sex'] = ent_level.index.map(mapper)\n",
    "# ent_level.set_index('NEL', inplace=True)\n",
    "# ent_level['sex'] = ent_level.index.map(mapper)"
   ]
  },
  {
   "cell_type": "code",
   "execution_count": 54,
   "metadata": {},
   "outputs": [],
   "source": [
    "# DELTA2 = 0.1\n",
    "# ent_level['t'] = np.sqrt(np.log(DELTA2)/(-2*ent_level['count']))"
   ]
  },
  {
   "cell_type": "code",
   "execution_count": 55,
   "metadata": {},
   "outputs": [],
   "source": [
    "# ent_level[ent_level['t'] > 0]"
   ]
  },
  {
   "cell_type": "code",
   "execution_count": 56,
   "metadata": {},
   "outputs": [
    {
     "ename": "NameError",
     "evalue": "name 'ent_level' is not defined",
     "output_type": "error",
     "traceback": [
      "\u001b[1;31m---------------------------------------------------------------------------\u001b[0m",
      "\u001b[1;31mNameError\u001b[0m                                 Traceback (most recent call last)",
      "\u001b[1;32m<ipython-input-56-d1643307ec86>\u001b[0m in \u001b[0;36m<module>\u001b[1;34m\u001b[0m\n\u001b[0;32m      1\u001b[0m \u001b[0md_fem_freq\u001b[0m \u001b[1;33m=\u001b[0m \u001b[1;33m{\u001b[0m\u001b[1;33m}\u001b[0m\u001b[1;33m\u001b[0m\u001b[1;33m\u001b[0m\u001b[0m\n\u001b[0;32m      2\u001b[0m \u001b[0md_mal_freq\u001b[0m \u001b[1;33m=\u001b[0m \u001b[1;33m{\u001b[0m\u001b[1;33m}\u001b[0m\u001b[1;33m\u001b[0m\u001b[1;33m\u001b[0m\u001b[0m\n\u001b[1;32m----> 3\u001b[1;33m \u001b[1;32mfor\u001b[0m \u001b[0ment\u001b[0m \u001b[1;32min\u001b[0m \u001b[0ment_level\u001b[0m\u001b[1;33m[\u001b[0m\u001b[0ment_level\u001b[0m\u001b[1;33m[\u001b[0m\u001b[1;34m'sex'\u001b[0m\u001b[1;33m]\u001b[0m \u001b[1;33m==\u001b[0m \u001b[1;34m'female'\u001b[0m\u001b[1;33m]\u001b[0m\u001b[1;33m.\u001b[0m\u001b[0mDescriptors_parsed\u001b[0m\u001b[1;33m:\u001b[0m\u001b[1;33m\u001b[0m\u001b[1;33m\u001b[0m\u001b[0m\n\u001b[0m\u001b[0;32m      4\u001b[0m     \u001b[1;32mfor\u001b[0m \u001b[0madj\u001b[0m \u001b[1;32min\u001b[0m \u001b[0ment\u001b[0m\u001b[1;33m:\u001b[0m \u001b[1;31m#ensure the same word isn't counted twice\u001b[0m\u001b[1;33m\u001b[0m\u001b[1;33m\u001b[0m\u001b[0m\n\u001b[0;32m      5\u001b[0m         \u001b[1;32mif\u001b[0m \u001b[0madj\u001b[0m\u001b[1;33m.\u001b[0m\u001b[0mlower\u001b[0m\u001b[1;33m(\u001b[0m\u001b[1;33m)\u001b[0m \u001b[1;32min\u001b[0m \u001b[0md_fem_freq\u001b[0m\u001b[1;33m.\u001b[0m\u001b[0mkeys\u001b[0m\u001b[1;33m(\u001b[0m\u001b[1;33m)\u001b[0m\u001b[1;33m:\u001b[0m\u001b[1;33m\u001b[0m\u001b[1;33m\u001b[0m\u001b[0m\n",
      "\u001b[1;31mNameError\u001b[0m: name 'ent_level' is not defined"
     ]
    }
   ],
   "source": [
    "# d_fem_freq = {}\n",
    "# d_mal_freq = {}\n",
    "# for ent in ent_level[ent_level['sex'] == 'female'].Descriptors_parsed:\n",
    "#     for adj in ent: #ensure the same word isn't counted twice\n",
    "#         if adj.lower() in d_fem_freq.keys():\n",
    "#             d_fem_freq[adj.lower()] += 1\n",
    "#         else:\n",
    "#             d_fem_freq[adj.lower()] = 1\n",
    "#             d_mal_freq[adj.lower()] = 0\n",
    "\n",
    "# for ent in entity_level[entity_level['sex'] == 'male'].Descriptors_parsed:\n",
    "#     for adj in ent: #ensure the same word isn't counted twice\n",
    "#         if adj.lower() in d_mal_freq.keys():\n",
    "#             d_mal_freq[adj.lower() ] += 1\n",
    "#         else:\n",
    "#             d_mal_freq[adj.lower() ] = 1\n",
    "#             d_fem_freq[adj.lower() ] = 0"
   ]
  },
  {
   "cell_type": "markdown",
   "metadata": {},
   "source": [
    "# Super senses"
   ]
  },
  {
   "cell_type": "code",
   "execution_count": 95,
   "metadata": {},
   "outputs": [],
   "source": [
    "dics = []\n",
    "for file in glob.glob(\"adj-supersenses/manual_annotations/*.txt\"):\n",
    "    tag = file[44:-4]\n",
    "    with open(file) as f:\n",
    "        l = f.readlines()\n",
    "        l = [word[:-1] for word in l]\n",
    "        dics.append(pd.Series({word: tag for word in l}))\n",
    "supersenses = pd.concat(dics)\n",
    "supersenses.name = 'Senses'"
   ]
  },
  {
   "cell_type": "code",
   "execution_count": 60,
   "metadata": {
    "scrolled": true
   },
   "outputs": [
    {
     "data": {
      "text/plain": [
       "body             3\n",
       "behavior         2\n",
       "miscellaneous    1\n",
       "perception       1\n",
       "feeling          1\n",
       "Name: Senses, dtype: int64"
      ]
     },
     "execution_count": 60,
     "metadata": {},
     "output_type": "execute_result"
    }
   ],
   "source": [
    "most_fem_c.merge(supersenses, left_index=True, right_index=True)['Senses'].value_counts()"
   ]
  },
  {
   "cell_type": "code",
   "execution_count": 61,
   "metadata": {},
   "outputs": [
    {
     "data": {
      "text/plain": [
       "temporal      2\n",
       "body          1\n",
       "substance     1\n",
       "perception    1\n",
       "Name: Senses, dtype: int64"
      ]
     },
     "execution_count": 61,
     "metadata": {},
     "output_type": "execute_result"
    }
   ],
   "source": [
    "least_fem_c.merge(supersenses, left_index=True, right_index=True)['Senses'].value_counts()"
   ]
  },
  {
   "cell_type": "code",
   "execution_count": 96,
   "metadata": {},
   "outputs": [],
   "source": [
    "n_supersenses = pd.concat([pd.DataFrame(supersenses[~supersenses.index.duplicated(False)]),supersenses[supersenses.index.duplicated(False)].reset_index().groupby('index').agg({'Senses':list})])"
   ]
  },
  {
   "cell_type": "markdown",
   "metadata": {},
   "source": [
    "# NRC Lexica"
   ]
  },
  {
   "cell_type": "code",
   "execution_count": 98,
   "metadata": {},
   "outputs": [],
   "source": [
    "emotions = pd.read_csv(\"nrc_lexica/NRC-Emotion-Lexicon-Wordlevel-v0.92.txt\",names=[\"word\", \"emotion\", \"association\"], sep=\"\\t\")"
   ]
  },
  {
   "cell_type": "code",
   "execution_count": 64,
   "metadata": {
    "scrolled": true
   },
   "outputs": [
    {
     "data": {
      "image/png": "[encoded data removed]",
      "text/plain": [
       "<Figure size 432x288 with 1 Axes>"
      ]
     },
     "metadata": {
      "needs_background": "light"
     },
     "output_type": "display_data"
    }
   ],
   "source": [
    "fem_emotions = {}\n",
    "for word in emotions.emotion.unique():\n",
    "    fem_emotions[word] = 0\n",
    "mal_emotions = {}\n",
    "for word in emotions.emotion.unique():\n",
    "    mal_emotions[word] = 0\n",
    "    \n",
    "for word in most_fem_c.index:\n",
    "    for emotion in emotions[(emotions['word'] == word) & (emotions['association'] == 1)]['emotion'].tolist():\n",
    "        fem_emotions[emotion] += 1\n",
    "for word in least_fem_c.index:\n",
    "    for emotion in emotions[(emotions['word'] == word) & (emotions['association'] == 1)]['emotion'].tolist():\n",
    "        mal_emotions[emotion] += 1\n",
    "\n",
    "male_sum = sum(list(mal_emotions.values()))\n",
    "fem_sum = sum(list(fem_emotions.values()))\n",
    "\n",
    "plt.bar(fem_emotions.keys(), np.array(list(fem_emotions.values()))/fem_sum, color='pink')\n",
    "plt.bar(mal_emotions.keys(), np.array(list(mal_emotions.values()))/male_sum, alpha=0.5)\n",
    "plt.xticks(rotation=90)\n",
    "plt.show()"
   ]
  },
  {
   "cell_type": "code",
   "execution_count": 65,
   "metadata": {},
   "outputs": [
    {
     "data": {
      "text/plain": [
       "Power_divergenceResult(statistic=97.04950704919649, pvalue=6.208561063534093e-17)"
      ]
     },
     "execution_count": 65,
     "metadata": {},
     "output_type": "execute_result"
    }
   ],
   "source": [
    "from scipy.stats import chisquare\n",
    "chisquare(pd.Series(fem_emotions),pd.Series(mal_emotions))"
   ]
  },
  {
   "cell_type": "code",
   "execution_count": 66,
   "metadata": {},
   "outputs": [
    {
     "data": {
      "image/png": "[encoded data removed]",
      "text/plain": [
       "<Figure size 432x288 with 1 Axes>"
      ]
     },
     "metadata": {
      "needs_background": "light"
     },
     "output_type": "display_data"
    }
   ],
   "source": [
    "fem_emotions = {}\n",
    "for word in emotions.emotion.unique():\n",
    "    fem_emotions[word] = 0\n",
    "mal_emotions = {}\n",
    "for word in emotions.emotion.unique():\n",
    "    mal_emotions[word] = 0\n",
    "    \n",
    "for word in most_female.index:\n",
    "    for emotion in emotions[(emotions['word'] == word) & (emotions['association'] == 1)]['emotion'].tolist():\n",
    "        fem_emotions[emotion] += 1\n",
    "for word in least_female.index:\n",
    "    for emotion in emotions[(emotions['word'] == word) & (emotions['association'] == 1)]['emotion'].tolist():\n",
    "        mal_emotions[emotion] += 1\n",
    "\n",
    "male_sum = sum(list(mal_emotions.values()))\n",
    "fem_sum = sum(list(fem_emotions.values()))\n",
    "\n",
    "plt.bar(fem_emotions.keys(), np.array(list(fem_emotions.values()))/fem_sum, color='pink')\n",
    "plt.bar(mal_emotions.keys(), np.array(list(mal_emotions.values()))/male_sum, alpha=0.5)\n",
    "plt.xticks(rotation=90)\n",
    "plt.show()"
   ]
  },
  {
   "cell_type": "code",
   "execution_count": 99,
   "metadata": {},
   "outputs": [],
   "source": [
    "senses = {}\n",
    "for word in emotions.word.unique():\n",
    "    senses[word] = emotions[(emotions['word'] == word) & (emotions['association'] == 1)]['emotion'].tolist()"
   ]
  },
  {
   "cell_type": "markdown",
   "metadata": {},
   "source": [
    "# Profanity"
   ]
  },
  {
   "cell_type": "code",
   "execution_count": 100,
   "metadata": {},
   "outputs": [],
   "source": [
    "# from here https://github.com/snguyenthanh/better_profanity\n",
    "\n",
    "with open(\"profanity_list.txt\") as f:\n",
    "    swears_raw = f.readlines()\n",
    "    \n",
    "swears = []\n",
    "for swear in swears_raw:\n",
    "    swears.append(swear.strip())\n",
    "    \n"
   ]
  },
  {
   "cell_type": "code",
   "execution_count": 127,
   "metadata": {},
   "outputs": [],
   "source": [
    "most_fem_c['NRC_senses'] = most_fem_c.index.map(senses)\n",
    "most_fem_c['Supersenses'] = most_fem_c.index.map(n_supersenses['Senses'].to_dict())\n",
    "most_fem_c['Profanity'] = most_fem_c.index.map(lambda x: 1 if x in swears else 0)"
   ]
  },
  {
   "cell_type": "code",
   "execution_count": 128,
   "metadata": {},
   "outputs": [
    {
     "data": {
      "text/html": [
       "<div>\n",
       "<style scoped>\n",
       "    .dataframe tbody tr th:only-of-type {\n",
       "        vertical-align: middle;\n",
       "    }\n",
       "\n",
       "    .dataframe tbody tr th {\n",
       "        vertical-align: top;\n",
       "    }\n",
       "\n",
       "    .dataframe thead th {\n",
       "        text-align: right;\n",
       "    }\n",
       "</style>\n",
       "<table border=\"1\" class=\"dataframe\">\n",
       "  <thead>\n",
       "    <tr style=\"text-align: right;\">\n",
       "      <th></th>\n",
       "      <th>female</th>\n",
       "      <th>male</th>\n",
       "      <th>PMI_female</th>\n",
       "      <th>PMI_male</th>\n",
       "      <th>NRC_senses</th>\n",
       "      <th>Supersenses</th>\n",
       "      <th>Profanity</th>\n",
       "      <th>Slang</th>\n",
       "    </tr>\n",
       "  </thead>\n",
       "  <tbody>\n",
       "    <tr>\n",
       "      <th>bloke</th>\n",
       "      <td>3</td>\n",
       "      <td>79</td>\n",
       "      <td>-1.265809</td>\n",
       "      <td>0.101733</td>\n",
       "      <td>NaN</td>\n",
       "      <td>NaN</td>\n",
       "      <td>0</td>\n",
       "      <td>NaN</td>\n",
       "    </tr>\n",
       "    <tr>\n",
       "      <th>wanker</th>\n",
       "      <td>3</td>\n",
       "      <td>69</td>\n",
       "      <td>-1.135756</td>\n",
       "      <td>0.096444</td>\n",
       "      <td>NaN</td>\n",
       "      <td>NaN</td>\n",
       "      <td>1</td>\n",
       "      <td>-1.0</td>\n",
       "    </tr>\n",
       "    <tr>\n",
       "      <th>prince</th>\n",
       "      <td>4</td>\n",
       "      <td>82</td>\n",
       "      <td>-1.025755</td>\n",
       "      <td>0.091376</td>\n",
       "      <td>[positive]</td>\n",
       "      <td>NaN</td>\n",
       "      <td>0</td>\n",
       "      <td>NaN</td>\n",
       "    </tr>\n",
       "    <tr>\n",
       "      <th>lawful</th>\n",
       "      <td>3</td>\n",
       "      <td>60</td>\n",
       "      <td>-1.002225</td>\n",
       "      <td>0.090214</td>\n",
       "      <td>[positive, trust]</td>\n",
       "      <td>NaN</td>\n",
       "      <td>0</td>\n",
       "      <td>NaN</td>\n",
       "    </tr>\n",
       "    <tr>\n",
       "      <th>turkish</th>\n",
       "      <td>3</td>\n",
       "      <td>51</td>\n",
       "      <td>-0.848074</td>\n",
       "      <td>0.081846</td>\n",
       "      <td>NaN</td>\n",
       "      <td>NaN</td>\n",
       "      <td>0</td>\n",
       "      <td>NaN</td>\n",
       "    </tr>\n",
       "    <tr>\n",
       "      <th>...</th>\n",
       "      <td>...</td>\n",
       "      <td>...</td>\n",
       "      <td>...</td>\n",
       "      <td>...</td>\n",
       "      <td>...</td>\n",
       "      <td>...</td>\n",
       "      <td>...</td>\n",
       "      <td>...</td>\n",
       "    </tr>\n",
       "    <tr>\n",
       "      <th>sidekick</th>\n",
       "      <td>5</td>\n",
       "      <td>39</td>\n",
       "      <td>-0.132454</td>\n",
       "      <td>0.018376</td>\n",
       "      <td>NaN</td>\n",
       "      <td>NaN</td>\n",
       "      <td>0</td>\n",
       "      <td>NaN</td>\n",
       "    </tr>\n",
       "    <tr>\n",
       "      <th>venezuelan</th>\n",
       "      <td>5</td>\n",
       "      <td>39</td>\n",
       "      <td>-0.132454</td>\n",
       "      <td>0.018376</td>\n",
       "      <td>NaN</td>\n",
       "      <td>NaN</td>\n",
       "      <td>0</td>\n",
       "      <td>NaN</td>\n",
       "    </tr>\n",
       "    <tr>\n",
       "      <th>hungarian</th>\n",
       "      <td>4</td>\n",
       "      <td>31</td>\n",
       "      <td>-0.126756</td>\n",
       "      <td>0.017643</td>\n",
       "      <td>NaN</td>\n",
       "      <td>NaN</td>\n",
       "      <td>0</td>\n",
       "      <td>NaN</td>\n",
       "    </tr>\n",
       "    <tr>\n",
       "      <th>century</th>\n",
       "      <td>12</td>\n",
       "      <td>93</td>\n",
       "      <td>-0.126756</td>\n",
       "      <td>0.017643</td>\n",
       "      <td>[]</td>\n",
       "      <td>NaN</td>\n",
       "      <td>0</td>\n",
       "      <td>NaN</td>\n",
       "    </tr>\n",
       "    <tr>\n",
       "      <th>means</th>\n",
       "      <td>4</td>\n",
       "      <td>31</td>\n",
       "      <td>-0.126756</td>\n",
       "      <td>0.017643</td>\n",
       "      <td>[]</td>\n",
       "      <td>NaN</td>\n",
       "      <td>0</td>\n",
       "      <td>NaN</td>\n",
       "    </tr>\n",
       "  </tbody>\n",
       "</table>\n",
       "<p>300 rows × 8 columns</p>\n",
       "</div>"
      ],
      "text/plain": [
       "            female  male  PMI_female  PMI_male         NRC_senses Supersenses  \\\n",
       "bloke            3    79   -1.265809  0.101733                NaN         NaN   \n",
       "wanker           3    69   -1.135756  0.096444                NaN         NaN   \n",
       "prince           4    82   -1.025755  0.091376         [positive]         NaN   \n",
       "lawful           3    60   -1.002225  0.090214  [positive, trust]         NaN   \n",
       "turkish          3    51   -0.848074  0.081846                NaN         NaN   \n",
       "...            ...   ...         ...       ...                ...         ...   \n",
       "sidekick         5    39   -0.132454  0.018376                NaN         NaN   \n",
       "venezuelan       5    39   -0.132454  0.018376                NaN         NaN   \n",
       "hungarian        4    31   -0.126756  0.017643                NaN         NaN   \n",
       "century         12    93   -0.126756  0.017643                 []         NaN   \n",
       "means            4    31   -0.126756  0.017643                 []         NaN   \n",
       "\n",
       "            Profanity  Slang  \n",
       "bloke               0    NaN  \n",
       "wanker              1   -1.0  \n",
       "prince              0    NaN  \n",
       "lawful              0    NaN  \n",
       "turkish             0    NaN  \n",
       "...               ...    ...  \n",
       "sidekick            0    NaN  \n",
       "venezuelan          0    NaN  \n",
       "hungarian           0    NaN  \n",
       "century             0    NaN  \n",
       "means               0    NaN  \n",
       "\n",
       "[300 rows x 8 columns]"
      ]
     },
     "execution_count": 128,
     "metadata": {},
     "output_type": "execute_result"
    }
   ],
   "source": [
    "least_fem_c['NRC_senses'] = least_fem_c.index.map(senses)\n",
    "least_fem_c['Supersenses'] = least_fem_c.index.map(n_supersenses['Senses'].to_dict())\n",
    "least_fem_c['Profanity'] = least_fem_c.index.map(lambda x: 1 if x in swears else 0)\n",
    "\n",
    "least_fem_c"
   ]
  },
  {
   "cell_type": "code",
   "execution_count": 101,
   "metadata": {},
   "outputs": [],
   "source": [
    "slang = pd.read_csv(\"slangSD.txt\",index_col=0,names=[\"Slang_Score\"], sep=\"\\t\")\n",
    "# most_fem_c['Slang'] = most_fem_c.index.map(slang.to_dict()['Slang_Score'])\n",
    "# least_fem_c['Slang'] = least_fem_c.index.map(slang.to_dict()['Slang_Score'])"
   ]
  },
  {
   "cell_type": "code",
   "execution_count": 129,
   "metadata": {},
   "outputs": [
    {
     "data": {
      "text/plain": [
       "temporal      2\n",
       "body          1\n",
       "perception    1\n",
       "substance     1\n",
       "Name: Supersenses, dtype: int64"
      ]
     },
     "execution_count": 129,
     "metadata": {},
     "output_type": "execute_result"
    }
   ],
   "source": [
    "least_fem_c['Supersenses'].value_counts()"
   ]
  },
  {
   "cell_type": "code",
   "execution_count": 117,
   "metadata": {},
   "outputs": [],
   "source": [
    "most_fem_c.iloc[:105].to_excel(\"Most_Fem_cPMId.xlsx\")"
   ]
  },
  {
   "cell_type": "code",
   "execution_count": 118,
   "metadata": {},
   "outputs": [],
   "source": [
    "least_fem_c.iloc[:105].to_excel(\"Most_Mal_cPMId.xlsx\")"
   ]
  },
  {
   "cell_type": "code",
   "execution_count": null,
   "metadata": {},
   "outputs": [],
   "source": [
    "# Handcoded_Sentiment: An integer referring to the general positivity/negativity of the descriptor.\n",
    "#     -1 : Negative (e.g. asshole, annoying)\n",
    "#     0 : Neutral (e.g. watch, person)\n",
    "#     1 : Positive (e.g. king, genius)\n",
    "\n",
    "# Handcoded_Senses: Will fit into one of the 8 following themes. Write down one sense for each word on the same row.\n",
    "\n",
    "# Euphemism - \"name calling\" or a general metaphor/term applied to someone that cannot neatly fit in the below categories (e.g. bitch, angel)\n",
    "# Profession - A term related to someone's profession or work activities (e.g. congressman, speaker)\n",
    "# Ideal - Word relating to a politician's ideals (e.g. republican, antifa)\n",
    "# Body - Word related to their body (either body part or general attractiveness/sexuality) (e.g. nose, beautiful, sexy)\n",
    "# Clothing - Word relating to clothing/fashion/attire (e.g. fashionable, suit)\n",
    "# Attribute - Word related to a politician's supraphysical attributes (descriptors) (e.g. intelligent, thoughtful)\n",
    "# Family - Word related to a politician's family (e.g. mother) or relations with others (e.g. lover) or (in)capacity for that. (e.g. childless, child-bearing) \n",
    "# Other - A word that doesn't fit into any of the above categories (e.g. phone, song)"
   ]
  },
  {
   "cell_type": "code",
   "execution_count": 80,
   "metadata": {},
   "outputs": [],
   "source": [
    "most_fem = pd.read_csv(\"most_female_d.csv\", index_col=0)\n",
    "most_mal = pd.read_csv(\"most_male_d.csv\",index_col=0)\n",
    "most_fem_2 = pd.read_csv(\"most_female_gen.csv\", index_col=0)\n",
    "most_mal_2 = pd.read_csv(\"most_male_gen.csv\",index_col=0)"
   ]
  },
  {
   "cell_type": "code",
   "execution_count": 102,
   "metadata": {},
   "outputs": [],
   "source": [
    "most_fem_2['Slang'] = most_fem_2.index.map(slang.to_dict()['Slang_Score'])\n",
    "most_fem_2['NRC_senses'] = most_fem_2.index.map(senses)\n",
    "most_fem_2['Supersenses'] = most_fem_2.index.map(n_supersenses['Senses'].to_dict())\n",
    "most_fem_2['Profanity'] = most_fem_2.index.map(lambda x: 1 if x in swears else 0)\n",
    "\n",
    "most_mal_2['Slang'] = most_mal_2.index.map(slang.to_dict()['Slang_Score'])\n",
    "most_mal_2['NRC_senses'] = most_mal_2.index.map(senses)\n",
    "most_mal_2['Supersenses'] = most_mal_2.index.map(n_supersenses['Senses'].to_dict())\n",
    "most_mal_2['Profanity'] = most_mal_2.index.map(lambda x: 1 if x in swears else 0)"
   ]
  },
  {
   "cell_type": "code",
   "execution_count": 107,
   "metadata": {},
   "outputs": [
    {
     "data": {
      "text/html": [
       "<div>\n",
       "<style scoped>\n",
       "    .dataframe tbody tr th:only-of-type {\n",
       "        vertical-align: middle;\n",
       "    }\n",
       "\n",
       "    .dataframe tbody tr th {\n",
       "        vertical-align: top;\n",
       "    }\n",
       "\n",
       "    .dataframe thead th {\n",
       "        text-align: right;\n",
       "    }\n",
       "</style>\n",
       "<table border=\"1\" class=\"dataframe\">\n",
       "  <thead>\n",
       "    <tr style=\"text-align: right;\">\n",
       "      <th></th>\n",
       "      <th>female</th>\n",
       "      <th>male</th>\n",
       "      <th>PMI_female</th>\n",
       "      <th>PMI_male</th>\n",
       "      <th>Senses</th>\n",
       "      <th>Sentiment</th>\n",
       "      <th>Slang</th>\n",
       "      <th>NRC_senses</th>\n",
       "      <th>Supersenses</th>\n",
       "      <th>Profanity</th>\n",
       "    </tr>\n",
       "  </thead>\n",
       "  <tbody>\n",
       "    <tr>\n",
       "      <th>chairwoman</th>\n",
       "      <td>39</td>\n",
       "      <td>11</td>\n",
       "      <td>1.793840</td>\n",
       "      <td>-1.375120</td>\n",
       "      <td>Profession</td>\n",
       "      <td>0.0</td>\n",
       "      <td>NaN</td>\n",
       "      <td>[positive, trust]</td>\n",
       "      <td>NaN</td>\n",
       "      <td>0</td>\n",
       "    </tr>\n",
       "    <tr>\n",
       "      <th>pantsuit</th>\n",
       "      <td>10</td>\n",
       "      <td>3</td>\n",
       "      <td>1.779937</td>\n",
       "      <td>-1.327329</td>\n",
       "      <td>Clothing</td>\n",
       "      <td>0.0</td>\n",
       "      <td>NaN</td>\n",
       "      <td>NaN</td>\n",
       "      <td>NaN</td>\n",
       "      <td>0</td>\n",
       "    </tr>\n",
       "    <tr>\n",
       "      <th>matriarch</th>\n",
       "      <td>8</td>\n",
       "      <td>3</td>\n",
       "      <td>1.723848</td>\n",
       "      <td>-1.160275</td>\n",
       "      <td>Family</td>\n",
       "      <td>0.0</td>\n",
       "      <td>NaN</td>\n",
       "      <td>NaN</td>\n",
       "      <td>NaN</td>\n",
       "      <td>0</td>\n",
       "    </tr>\n",
       "    <tr>\n",
       "      <th>menopausal</th>\n",
       "      <td>7</td>\n",
       "      <td>3</td>\n",
       "      <td>1.685626</td>\n",
       "      <td>-1.064965</td>\n",
       "      <td>Body</td>\n",
       "      <td>0.0</td>\n",
       "      <td>NaN</td>\n",
       "      <td>NaN</td>\n",
       "      <td>NaN</td>\n",
       "      <td>0</td>\n",
       "    </tr>\n",
       "    <tr>\n",
       "      <th>facelift</th>\n",
       "      <td>7</td>\n",
       "      <td>3</td>\n",
       "      <td>1.685626</td>\n",
       "      <td>-1.064965</td>\n",
       "      <td>Attribute</td>\n",
       "      <td>-1.0</td>\n",
       "      <td>NaN</td>\n",
       "      <td>NaN</td>\n",
       "      <td>NaN</td>\n",
       "      <td>0</td>\n",
       "    </tr>\n",
       "    <tr>\n",
       "      <th>...</th>\n",
       "      <td>...</td>\n",
       "      <td>...</td>\n",
       "      <td>...</td>\n",
       "      <td>...</td>\n",
       "      <td>...</td>\n",
       "      <td>...</td>\n",
       "      <td>...</td>\n",
       "      <td>...</td>\n",
       "      <td>...</td>\n",
       "      <td>...</td>\n",
       "    </tr>\n",
       "    <tr>\n",
       "      <th>catnip</th>\n",
       "      <td>5</td>\n",
       "      <td>5</td>\n",
       "      <td>1.349154</td>\n",
       "      <td>-0.554140</td>\n",
       "      <td>NaN</td>\n",
       "      <td>NaN</td>\n",
       "      <td>NaN</td>\n",
       "      <td>[]</td>\n",
       "      <td>NaN</td>\n",
       "      <td>0</td>\n",
       "    </tr>\n",
       "    <tr>\n",
       "      <th>flunkie</th>\n",
       "      <td>5</td>\n",
       "      <td>5</td>\n",
       "      <td>1.349154</td>\n",
       "      <td>-0.554140</td>\n",
       "      <td>NaN</td>\n",
       "      <td>NaN</td>\n",
       "      <td>NaN</td>\n",
       "      <td>NaN</td>\n",
       "      <td>NaN</td>\n",
       "      <td>0</td>\n",
       "    </tr>\n",
       "    <tr>\n",
       "      <th>chem</th>\n",
       "      <td>5</td>\n",
       "      <td>5</td>\n",
       "      <td>1.349154</td>\n",
       "      <td>-0.554140</td>\n",
       "      <td>NaN</td>\n",
       "      <td>NaN</td>\n",
       "      <td>NaN</td>\n",
       "      <td>NaN</td>\n",
       "      <td>NaN</td>\n",
       "      <td>0</td>\n",
       "    </tr>\n",
       "    <tr>\n",
       "      <th>peen</th>\n",
       "      <td>5</td>\n",
       "      <td>5</td>\n",
       "      <td>1.349154</td>\n",
       "      <td>-0.554140</td>\n",
       "      <td>Body</td>\n",
       "      <td>-1.0</td>\n",
       "      <td>NaN</td>\n",
       "      <td>NaN</td>\n",
       "      <td>NaN</td>\n",
       "      <td>0</td>\n",
       "    </tr>\n",
       "    <tr>\n",
       "      <th>housewife</th>\n",
       "      <td>7</td>\n",
       "      <td>7</td>\n",
       "      <td>1.349154</td>\n",
       "      <td>-0.554140</td>\n",
       "      <td>NaN</td>\n",
       "      <td>NaN</td>\n",
       "      <td>NaN</td>\n",
       "      <td>[]</td>\n",
       "      <td>NaN</td>\n",
       "      <td>0</td>\n",
       "    </tr>\n",
       "  </tbody>\n",
       "</table>\n",
       "<p>100 rows × 10 columns</p>\n",
       "</div>"
      ],
      "text/plain": [
       "            female  male  PMI_female  PMI_male      Senses  Sentiment  Slang  \\\n",
       "chairwoman      39    11    1.793840 -1.375120  Profession        0.0    NaN   \n",
       "pantsuit        10     3    1.779937 -1.327329    Clothing        0.0    NaN   \n",
       "matriarch        8     3    1.723848 -1.160275      Family        0.0    NaN   \n",
       "menopausal       7     3    1.685626 -1.064965        Body        0.0    NaN   \n",
       "facelift         7     3    1.685626 -1.064965   Attribute       -1.0    NaN   \n",
       "...            ...   ...         ...       ...         ...        ...    ...   \n",
       "catnip           5     5    1.349154 -0.554140         NaN        NaN    NaN   \n",
       "flunkie          5     5    1.349154 -0.554140         NaN        NaN    NaN   \n",
       "chem             5     5    1.349154 -0.554140         NaN        NaN    NaN   \n",
       "peen             5     5    1.349154 -0.554140        Body       -1.0    NaN   \n",
       "housewife        7     7    1.349154 -0.554140         NaN        NaN    NaN   \n",
       "\n",
       "                   NRC_senses Supersenses  Profanity  \n",
       "chairwoman  [positive, trust]         NaN          0  \n",
       "pantsuit                  NaN         NaN          0  \n",
       "matriarch                 NaN         NaN          0  \n",
       "menopausal                NaN         NaN          0  \n",
       "facelift                  NaN         NaN          0  \n",
       "...                       ...         ...        ...  \n",
       "catnip                     []         NaN          0  \n",
       "flunkie                   NaN         NaN          0  \n",
       "chem                      NaN         NaN          0  \n",
       "peen                      NaN         NaN          0  \n",
       "housewife                  []         NaN          0  \n",
       "\n",
       "[100 rows x 10 columns]"
      ]
     },
     "execution_count": 107,
     "metadata": {},
     "output_type": "execute_result"
    }
   ],
   "source": [
    "most_fem_2"
   ]
  },
  {
   "cell_type": "code",
   "execution_count": 143,
   "metadata": {},
   "outputs": [
    {
     "data": {
      "text/plain": [
       "29"
      ]
     },
     "execution_count": 143,
     "metadata": {},
     "output_type": "execute_result"
    }
   ],
   "source": [
    "def remap_nan(value):\n",
    "    if type(value) == float:\n",
    "        return value\n",
    "    if len(value) > 0:\n",
    "        return value\n",
    "    else:\n",
    "        return np.nan\n",
    "most_mal_2['NRC_senses'].apply(remap_nan).notna().sum()\n"
   ]
  },
  {
   "cell_type": "code",
   "execution_count": 142,
   "metadata": {},
   "outputs": [
    {
     "data": {
      "text/plain": [
       "30"
      ]
     },
     "execution_count": 142,
     "metadata": {},
     "output_type": "execute_result"
    }
   ],
   "source": [
    "most_fem_2['NRC_senses'].notna().sum()"
   ]
  },
  {
   "cell_type": "code",
   "execution_count": 144,
   "metadata": {},
   "outputs": [
    {
     "data": {
      "text/plain": [
       "26"
      ]
     },
     "execution_count": 144,
     "metadata": {},
     "output_type": "execute_result"
    }
   ],
   "source": [
    "(most_fem_2['Slang'].notna() | most_fem_2['NRC_senses'].apply(remap_nan).notna() | most_fem_2['Supersenses'].notna()).sum()"
   ]
  },
  {
   "cell_type": "code",
   "execution_count": 145,
   "metadata": {},
   "outputs": [
    {
     "data": {
      "text/plain": [
       "39"
      ]
     },
     "execution_count": 145,
     "metadata": {},
     "output_type": "execute_result"
    }
   ],
   "source": [
    "(most_mal_2['Slang'].notna() | most_mal_2['NRC_senses'].apply(remap_nan).notna() |most_mal_2['Supersenses'].notna()).sum()"
   ]
  },
  {
   "cell_type": "code",
   "execution_count": 149,
   "metadata": {},
   "outputs": [
    {
     "data": {
      "text/plain": [
       "0.6"
      ]
     },
     "execution_count": 149,
     "metadata": {},
     "output_type": "execute_result"
    }
   ],
   "source": [
    "39/(26+39)"
   ]
  },
  {
   "cell_type": "code",
   "execution_count": 113,
   "metadata": {},
   "outputs": [
    {
     "name": "stdout",
     "output_type": "stream",
     "text": [
      "Slang 23\n",
      "NRC 84\n",
      "Supersenses 6\n"
     ]
    }
   ],
   "source": [
    "print(\"Slang\", most_fem_2['Slang'].notna().sum() + most_mal_2['Slang'].notna().sum())\n",
    "print(\"NRC\", most_fem_2['NRC_senses'].notna().sum() +  most_mal_2['NRC_senses'].notna().sum())\n",
    "print(\"Supersenses\", most_fem_2['Supersenses'].notna().sum() + most_mal_2['Supersenses'].notna().sum())"
   ]
  },
  {
   "cell_type": "code",
   "execution_count": 115,
   "metadata": {},
   "outputs": [
    {
     "data": {
      "text/plain": [
       "30"
      ]
     },
     "execution_count": 115,
     "metadata": {},
     "output_type": "execute_result"
    }
   ],
   "source": [
    " most_fem_2['NRC_senses'].notna().sum()"
   ]
  },
  {
   "cell_type": "code",
   "execution_count": 15,
   "metadata": {},
   "outputs": [],
   "source": [
    "annot1 = pd.read_excel(\"Downloads/to_annotates.xlsx\", index_col=0)\n",
    "annot1['Handcoded_Senses'] = annot1['Handcoded_Senses'].str.replace(\"Euphemism\",\"Label\")\n",
    "annot2 = pd.read_excel(\"Downloads/AnnotationsForThesis-VB-20210725.xlsx\", index_col=0)"
   ]
  },
  {
   "cell_type": "code",
   "execution_count": 65,
   "metadata": {},
   "outputs": [],
   "source": [
    "annot1['Handcoded_Senses'] = annot1['Handcoded_Senses'].str.replace(\"Euphemism\",\"Label\")\n",
    "annot1['Handcoded_Senses'] = annot1['Handcoded_Senses'].str.replace(\"Ideal\",\"Belief\")\n",
    "annot2['Handcoded_Senses'] = annot2['Handcoded_Senses'].str.replace(\"/Position\",\"\")\n",
    "annot2['Handcoded_Senses'] = annot2['Handcoded_Senses'].str.replace(\"/Adverb\",\"\")"
   ]
  },
  {
   "cell_type": "code",
   "execution_count": 24,
   "metadata": {},
   "outputs": [
    {
     "data": {
      "text/plain": [
       "0.6183868169991327"
      ]
     },
     "execution_count": 24,
     "metadata": {},
     "output_type": "execute_result"
    }
   ],
   "source": [
    "from sklearn.metrics import cohen_kappa_score\n",
    "cohen_kappa_score(annot1['Handcoded_Sentiment'],annot2['Handcoded_Sentiment'])"
   ]
  },
  {
   "cell_type": "code",
   "execution_count": 66,
   "metadata": {},
   "outputs": [
    {
     "data": {
      "text/plain": [
       "0.620349889402775"
      ]
     },
     "execution_count": 66,
     "metadata": {},
     "output_type": "execute_result"
    }
   ],
   "source": [
    "cohen_kappa_score(annot1['Handcoded_Senses'].iloc[8:],annot2['Handcoded_Senses'].iloc[8:])"
   ]
  },
  {
   "cell_type": "code",
   "execution_count": 69,
   "metadata": {},
   "outputs": [],
   "source": [
    "senses = annot1['Handcoded_Senses'].to_dict()\n",
    "senti = annot2['Handcoded_Sentiment'].to_dict()"
   ]
  },
  {
   "cell_type": "code",
   "execution_count": 81,
   "metadata": {},
   "outputs": [],
   "source": [
    "most_fem['Senses'] = most_fem.index.map(senses)\n",
    "most_mal['Senses'] = most_mal.index.map(senses)\n",
    "most_fem['Sentiment'] = most_fem.index.map(senti)\n",
    "most_mal['Sentiment'] = most_mal.index.map(senti)\n",
    "\n",
    "most_fem_2['Senses'] = most_fem.index.map(senses)\n",
    "most_mal_2['Senses'] = most_mal.index.map(senses)\n",
    "most_fem_2['Sentiment'] = most_fem.index.map(senti)\n",
    "most_mal_2['Sentiment'] = most_mal.index.map(senti)"
   ]
  },
  {
   "cell_type": "code",
   "execution_count": 86,
   "metadata": {},
   "outputs": [
    {
     "name": "stdout",
     "output_type": "stream",
     "text": [
      "Women\n",
      "-1.0    45\n",
      " 0.0    38\n",
      " 1.0     4\n",
      "Name: Sentiment, dtype: int64\n",
      "Men\n",
      " 0.0    52\n",
      "-1.0    41\n",
      " 1.0     6\n",
      "Name: Sentiment, dtype: int64\n"
     ]
    }
   ],
   "source": [
    "print(\"Women\")\n",
    "print(most_fem_2.Sentiment.value_counts())\n",
    "print(\"Men\")\n",
    "print(most_mal_2.Sentiment.value_counts())"
   ]
  },
  {
   "cell_type": "code",
   "execution_count": 88,
   "metadata": {},
   "outputs": [
    {
     "data": {
      "text/plain": [
       "Body          19\n",
       "Attribute     18\n",
       "Label         17\n",
       "Other         13\n",
       "Clothing       7\n",
       "Family         6\n",
       "Profession     4\n",
       "Belief         3\n",
       "Name: Senses, dtype: int64"
      ]
     },
     "execution_count": 88,
     "metadata": {},
     "output_type": "execute_result"
    }
   ],
   "source": [
    "most_fem_2.Senses.value_counts()"
   ]
  },
  {
   "cell_type": "code",
   "execution_count": 89,
   "metadata": {},
   "outputs": [
    {
     "data": {
      "text/plain": [
       "Other         41\n",
       "Label         22\n",
       "Attribute     13\n",
       "Profession    12\n",
       "Belief         8\n",
       "Body           3\n",
       "Name: Senses, dtype: int64"
      ]
     },
     "execution_count": 89,
     "metadata": {},
     "output_type": "execute_result"
    }
   ],
   "source": [
    "most_mal_2.Senses.value_counts()"
   ]
  },
  {
   "cell_type": "code",
   "execution_count": 192,
   "metadata": {},
   "outputs": [],
   "source": [
    "pd.concat([most_mal_2.Senses.value_counts(), most_fem_2.Senses.value_counts()], axis=1, keys=['male','female']).fillna(0).to_csv(\"senses.csv\")"
   ]
  },
  {
   "cell_type": "code",
   "execution_count": 191,
   "metadata": {},
   "outputs": [],
   "source": [
    "pd.concat([most_mal_2.Sentiment.value_counts(), most_fem_2.Sentiment.value_counts()], axis=1, keys=['male','female']).fillna(0).to_csv(\"senti.csv\")"
   ]
  },
  {
   "cell_type": "code",
   "execution_count": 93,
   "metadata": {},
   "outputs": [
    {
     "name": "stderr",
     "output_type": "stream",
     "text": [
      "<ipython-input-93-348287759e33>:9: UserWarning: FixedFormatter should only be used together with FixedLocator\n",
      "  ax[0].set_xticklabels(cats, rotation=90)\n",
      "<ipython-input-93-348287759e33>:21: UserWarning: FixedFormatter should only be used together with FixedLocator\n",
      "  ax[1].set_xticklabels(cats,rotation=90)\n"
     ]
    },
    {
     "data": {
      "image/png": "[encoded data removed]",
      "text/plain": [
       "<Figure size 936x360 with 2 Axes>"
      ]
     },
     "metadata": {
      "needs_background": "light"
     },
     "output_type": "display_data"
    }
   ],
   "source": [
    "fig, ax = plt.subplots(1, 2, figsize=(13,5), sharey=True)\n",
    "fig.suptitle(\"Distribution of Handcoded Senses and Sentiments\", size=16)\n",
    "cats = ['Label','Profession','Belief','Attribute','Body','Family','Clothing']\n",
    "pos = most_fem_2[most_fem_2['Sentiment'] == 1]['Senses'].value_counts().reindex(cats, fill_value=0)\n",
    "negs = most_fem_2[most_fem_2['Sentiment'] == -1]['Senses'].value_counts().reindex(cats, fill_value=0)\n",
    "ax[0].bar(cats, most_fem_2.Senses.value_counts().reindex(cats), color=WOMEN)\n",
    "ax[0].bar(pos.index,pos, color=WOMEN_POS, label=\"Positive\")\n",
    "ax[0].bar(negs.index,negs,bottom=pos, color=WOMEN_NEG, label=\"Negative\")\n",
    "ax[0].set_xticklabels(cats, rotation=90)\n",
    "ax[0].legend()\n",
    "ax[0].set_yticks(np.arange(0,27,5))\n",
    "ax[0].minorticks_on()\n",
    "ax[0].set_title(\"Top 100 Female PMI words\")\n",
    "\n",
    "\n",
    "pos_m = most_mal_2[most_mal_2['Sentiment'] == 1]['Senses'].value_counts().reindex(cats, fill_value=0)\n",
    "negs_m = most_mal_2[most_mal_2['Sentiment'] == -1]['Senses'].value_counts().reindex(cats, fill_value=0)\n",
    "ax[1].bar(cats, most_mal_2.Senses.value_counts().reindex(cats), color=MEN)\n",
    "ax[1].bar(pos_m.index,pos_m, color=MEN_POS, label=\"Positive\")\n",
    "ax[1].bar(negs_m.index,negs_m,bottom=pos_m, color=MEN_NEG, label=\"Negative\")\n",
    "ax[1].set_xticklabels(cats,rotation=90)\n",
    "ax[1].legend()\n",
    "ax[1].set_title(\"Top 100 Male PMI words\")\n",
    "\n",
    "plt.show()"
   ]
  },
  {
   "cell_type": "code",
   "execution_count": 160,
   "metadata": {},
   "outputs": [
    {
     "ename": "ValueError",
     "evalue": "The input `table` must be of shape (2, 2).",
     "output_type": "error",
     "traceback": [
      "\u001b[1;31m---------------------------------------------------------------------------\u001b[0m",
      "\u001b[1;31mValueError\u001b[0m                                Traceback (most recent call last)",
      "\u001b[1;32m<ipython-input-160-1b460fbe38f7>\u001b[0m in \u001b[0;36m<module>\u001b[1;34m\u001b[0m\n\u001b[0;32m      1\u001b[0m \u001b[1;32mfrom\u001b[0m \u001b[0mscipy\u001b[0m\u001b[1;33m.\u001b[0m\u001b[0mstats\u001b[0m \u001b[1;32mimport\u001b[0m \u001b[0mfisher_exact\u001b[0m\u001b[1;33m\u001b[0m\u001b[1;33m\u001b[0m\u001b[0m\n\u001b[1;32m----> 2\u001b[1;33m \u001b[0mfisher_exact\u001b[0m\u001b[1;33m(\u001b[0m\u001b[0mnp\u001b[0m\u001b[1;33m.\u001b[0m\u001b[0marray\u001b[0m\u001b[1;33m(\u001b[0m\u001b[1;33m(\u001b[0m\u001b[0mmost_fem_2\u001b[0m\u001b[1;33m.\u001b[0m\u001b[0mSenses\u001b[0m\u001b[1;33m.\u001b[0m\u001b[0mvalue_counts\u001b[0m\u001b[1;33m(\u001b[0m\u001b[1;33m)\u001b[0m\u001b[1;33m.\u001b[0m\u001b[0mreindex\u001b[0m\u001b[1;33m(\u001b[0m\u001b[0mcats\u001b[0m\u001b[1;33m)\u001b[0m\u001b[1;33m.\u001b[0m\u001b[0mvalues\u001b[0m\u001b[1;33m,\u001b[0m\u001b[0mmost_mal_2\u001b[0m\u001b[1;33m.\u001b[0m\u001b[0mSenses\u001b[0m\u001b[1;33m.\u001b[0m\u001b[0mvalue_counts\u001b[0m\u001b[1;33m(\u001b[0m\u001b[1;33m)\u001b[0m\u001b[1;33m.\u001b[0m\u001b[0mreindex\u001b[0m\u001b[1;33m(\u001b[0m\u001b[0mcats\u001b[0m\u001b[1;33m)\u001b[0m\u001b[1;33m.\u001b[0m\u001b[0mfillna\u001b[0m\u001b[1;33m(\u001b[0m\u001b[1;36m0\u001b[0m\u001b[1;33m)\u001b[0m\u001b[1;33m.\u001b[0m\u001b[0mvalues\u001b[0m\u001b[1;33m)\u001b[0m\u001b[1;33m)\u001b[0m\u001b[1;33m)\u001b[0m\u001b[1;33m\u001b[0m\u001b[1;33m\u001b[0m\u001b[0m\n\u001b[0m",
      "\u001b[1;32m~\\anaconda3\\lib\\site-packages\\scipy\\stats\\stats.py\u001b[0m in \u001b[0;36mfisher_exact\u001b[1;34m(table, alternative)\u001b[0m\n\u001b[0;32m   3962\u001b[0m     \u001b[0mc\u001b[0m \u001b[1;33m=\u001b[0m \u001b[0mnp\u001b[0m\u001b[1;33m.\u001b[0m\u001b[0masarray\u001b[0m\u001b[1;33m(\u001b[0m\u001b[0mtable\u001b[0m\u001b[1;33m,\u001b[0m \u001b[0mdtype\u001b[0m\u001b[1;33m=\u001b[0m\u001b[0mnp\u001b[0m\u001b[1;33m.\u001b[0m\u001b[0mint64\u001b[0m\u001b[1;33m)\u001b[0m  \u001b[1;31m# int32 is not enough for the algorithm\u001b[0m\u001b[1;33m\u001b[0m\u001b[1;33m\u001b[0m\u001b[0m\n\u001b[0;32m   3963\u001b[0m     \u001b[1;32mif\u001b[0m \u001b[1;32mnot\u001b[0m \u001b[0mc\u001b[0m\u001b[1;33m.\u001b[0m\u001b[0mshape\u001b[0m \u001b[1;33m==\u001b[0m \u001b[1;33m(\u001b[0m\u001b[1;36m2\u001b[0m\u001b[1;33m,\u001b[0m \u001b[1;36m2\u001b[0m\u001b[1;33m)\u001b[0m\u001b[1;33m:\u001b[0m\u001b[1;33m\u001b[0m\u001b[1;33m\u001b[0m\u001b[0m\n\u001b[1;32m-> 3964\u001b[1;33m         \u001b[1;32mraise\u001b[0m \u001b[0mValueError\u001b[0m\u001b[1;33m(\u001b[0m\u001b[1;34m\"The input `table` must be of shape (2, 2).\"\u001b[0m\u001b[1;33m)\u001b[0m\u001b[1;33m\u001b[0m\u001b[1;33m\u001b[0m\u001b[0m\n\u001b[0m\u001b[0;32m   3965\u001b[0m \u001b[1;33m\u001b[0m\u001b[0m\n\u001b[0;32m   3966\u001b[0m     \u001b[1;32mif\u001b[0m \u001b[0mnp\u001b[0m\u001b[1;33m.\u001b[0m\u001b[0many\u001b[0m\u001b[1;33m(\u001b[0m\u001b[0mc\u001b[0m \u001b[1;33m<\u001b[0m \u001b[1;36m0\u001b[0m\u001b[1;33m)\u001b[0m\u001b[1;33m:\u001b[0m\u001b[1;33m\u001b[0m\u001b[1;33m\u001b[0m\u001b[0m\n",
      "\u001b[1;31mValueError\u001b[0m: The input `table` must be of shape (2, 2)."
     ]
    }
   ],
   "source": [
    "from scipy.stats import fisher_exact\n",
    "fisher_exact(np.array((most_fem_2.Senses.value_counts().reindex(cats).values,most_mal_2.Senses.value_counts().reindex(cats).fillna(0).values)))"
   ]
  },
  {
   "cell_type": "code",
   "execution_count": 201,
   "metadata": {},
   "outputs": [],
   "source": [
    "fms = pd.concat(fm_cts, keys=[\"left\", \"right\", \"alt_right\"], axis=1)\n",
    "mls = pd.concat(ml_cts, keys=[\"left\", \"right\", \"alt_right\"], axis=1)"
   ]
  },
  {
   "cell_type": "code",
   "execution_count": 203,
   "metadata": {},
   "outputs": [],
   "source": [
    "pd.concat([fms,mls], keys=['female','male'], axis=1).fillna(0).to_csv(\"senses_cross.csv\")"
   ]
  },
  {
   "cell_type": "code",
   "execution_count": 177,
   "metadata": {},
   "outputs": [
    {
     "name": "stdout",
     "output_type": "stream",
     "text": [
      "left\n",
      "Male Profanity  Senses    \n",
      "0          Other         19\n",
      "           Profession    13\n",
      "           Attribute      7\n",
      "           Belief         4\n",
      "           Label          3\n",
      "           Family         2\n",
      "1          Label          2\n",
      "dtype: int64\n",
      "Female Profanity  Senses    \n",
      "0          Other         23\n",
      "           Attribute     14\n",
      "           Label          5\n",
      "           Family         3\n",
      "           Body           2\n",
      "           Profession     2\n",
      "           Belief         1\n",
      "dtype: int64\n",
      "\n",
      "right\n",
      "Male Profanity  Senses    \n",
      "0          Other         28\n",
      "           Label          8\n",
      "           Profession     5\n",
      "           Attribute      3\n",
      "           Belief         3\n",
      "           Clothing       1\n",
      "           Family         1\n",
      "1          Label          1\n",
      "dtype: int64\n",
      "Female Profanity  Senses    \n",
      "0          Other         22\n",
      "           Attribute     13\n",
      "           Body           4\n",
      "           Label          3\n",
      "           Profession     3\n",
      "1          Body           2\n",
      "0          Atr            1\n",
      "           Belief         1\n",
      "           Family         1\n",
      "dtype: int64\n",
      "\n",
      "alt_right\n",
      "Male Profanity  Senses    \n",
      "0          Other         26\n",
      "           Profession     9\n",
      "1          Label          5\n",
      "0          Label          4\n",
      "           Attribute      3\n",
      "           Belief         3\n",
      "dtype: int64\n",
      "Female Profanity  Senses    \n",
      "0          Body          15\n",
      "           Other         14\n",
      "           Attribute      5\n",
      "           Label          5\n",
      "           Clothing       3\n",
      "           Family         3\n",
      "           Profession     3\n",
      "1          Body           1\n",
      "           Family         1\n",
      "dtype: int64\n",
      "\n"
     ]
    },
    {
     "data": {
      "image/png": "[encoded data removed]",
      "text/plain": [
       "<Figure size 1080x360 with 3 Axes>"
      ]
     },
     "metadata": {
      "needs_background": "light"
     },
     "output_type": "display_data"
    }
   ],
   "source": [
    "path = \"results/PMI/cross/\"\n",
    "groups = [\"Left\", \"Right\", \"Alt right\"]\n",
    "width = 0.25\n",
    "distance= 0.33\n",
    "a=0.8\n",
    "new_cats  = ['Label','Profession','Beliefs','Attributes','Body','Family','Clothing']\n",
    "\n",
    "fig,ax = plt.subplots(1,3,figsize=(15,5), sharey=True)\n",
    "fig.suptitle(\"Distribution of Handcoded Senses and Sentiments\", size=16)\n",
    "for i,group in enumerate(['left', 'right', 'alt_right']):\n",
    "    most_fem = pd.read_csv(path + f\"most_female_{group}.csv\", index_col=0)\n",
    "    most_mal = pd.read_csv(path + f\"most_male_{group}.csv\", index_col=0)\n",
    "    most_fem['Profanity'] = most_fem.index.map(lambda x: 1 if x in swears else 0)\n",
    "    most_mal['Profanity'] = most_mal.index.map(lambda x: 1 if x in swears else 0)\n",
    "    print(group)\n",
    "    print(\"Male\", most_mal[['Profanity','Senses']].value_counts())\n",
    "    print(\"Female\", most_fem[['Profanity','Senses']].value_counts())\n",
    "    print(\"\")\n",
    "    pos = most_fem[most_fem['Sentiment'] == 1]['Senses'].value_counts().reindex(cats, fill_value=0)\n",
    "    negs = most_fem[most_fem['Sentiment'] == -1]['Senses'].value_counts().reindex(cats, fill_value=0)\n",
    "    pos_m = most_mal[most_mal['Sentiment'] == 1]['Senses'].value_counts().reindex(cats, fill_value=0)\n",
    "    negs_m = most_mal[most_mal['Sentiment'] == -1]['Senses'].value_counts().reindex(cats, fill_value=0)\n",
    "    ax[i].set_title(groups[i],size=14)\n",
    "\n",
    "    #Base\n",
    "    ax[i].bar(np.arange(len(cats)), most_fem.Senses.value_counts().reindex(cats), width=width, color=WOMEN, label=\"Top 100\\nFemale PMI Words\")\n",
    "    ax[i].bar(np.arange(len(cats))+distance, most_mal.Senses.value_counts().reindex(cats), width=width, color=MEN, label=\"Top 100\\nMale PMI Words\")\n",
    "\n",
    "    # Women\n",
    "    ax[i].bar(np.arange(len(cats)),pos, width=width,color=WOMEN_POS, alpha=a, label=\"Positive\")\n",
    "    ax[i].bar(np.arange(len(cats)),negs,bottom=pos, width=width,color=WOMEN_NEG, alpha=a, label=\"Negative\")\n",
    "\n",
    "    # Men\n",
    "    ax[i].bar(np.arange(len(cats))+distance,pos_m, width=width,alpha=a, color=MEN_POS)\n",
    "    ax[i].bar(np.arange(len(cats))+distance,negs_m,bottom=pos_m, alpha=a, width=width,color=MEN_NEG)\n",
    "    #legend=plt.legend(facecolor='lightgrey', borderpad=0.5)\n",
    "    ax[i].set_xticks(np.arange(len(cats))+(distance/2))\n",
    "    ax[i].set_xticklabels(labels=new_cats,rotation=90)\n",
    "\n",
    "ax[0].set_ylabel(\"Percentage of Top-100 Words\")\n",
    "plt.savefig(\"PMI_cross_results.png\",bbox_inches='tight')\n",
    "plt.show()"
   ]
  },
  {
   "cell_type": "code",
   "execution_count": 131,
   "metadata": {
    "scrolled": true
   },
   "outputs": [
    {
     "data": {
      "image/png": "[encoded data removed]",
      "text/plain": [
       "<Figure size 720x360 with 1 Axes>"
      ]
     },
     "metadata": {
      "needs_background": "light"
     },
     "output_type": "display_data"
    }
   ],
   "source": [
    "plt.figure(figsize=(10,5))\n",
    "plt.title(\"Distribution of Handcoded Senses and Sentiments\", size=16)\n",
    "pos = most_fem_2[most_fem_2['Sentiment'] == 1]['Senses'].value_counts().reindex(cats, fill_value=0)\n",
    "negs = most_fem_2[most_fem_2['Sentiment'] == -1]['Senses'].value_counts().reindex(cats, fill_value=0)\n",
    "pos_m = most_mal_2[most_mal_2['Sentiment'] == 1]['Senses'].value_counts().reindex(cats, fill_value=0)\n",
    "negs_m = most_mal_2[most_mal_2['Sentiment'] == -1]['Senses'].value_counts().reindex(cats, fill_value=0)\n",
    "\n",
    "width = 0.25\n",
    "distance= 0.33\n",
    "a=0.8\n",
    "\n",
    "#Base\n",
    "plt.bar(np.arange(len(cats)), most_fem_2.Senses.value_counts().reindex(cats), width=width, color=WOMEN, label=\"Top 100\\nFemale PMI Words\")\n",
    "plt.bar(np.arange(len(cats))+distance, most_mal_2.Senses.value_counts().reindex(cats), width=width, color=MEN, label=\"Top 100\\nMale PMI Words\")\n",
    "\n",
    "# Women\n",
    "plt.bar(np.arange(len(cats)),pos, width=width,color=WOMEN_POS, alpha=a, label=\"Positive\")\n",
    "plt.bar(np.arange(len(cats)),negs,bottom=pos, width=width,color=WOMEN_NEG, alpha=a, label=\"Negative\")\n",
    "\n",
    "# Men\n",
    "plt.bar(np.arange(len(cats))+distance,pos_m, width=width,alpha=a, color=MEN_POS)\n",
    "plt.bar(np.arange(len(cats))+distance,negs_m,bottom=pos_m, alpha=a, width=width,color=MEN_NEG)\n",
    "new_cats  = ['Label','Profession','Beliefs','Attributes','Body','Family','Clothing']\n",
    "#legend=plt.legend(facecolor='lightgrey', borderpad=0.5)\n",
    "plt.xticks(ticks=np.arange(len(cats))+(distance/2), labels=new_cats,rotation=90)\n",
    "plt.yticks(np.arange(0,27,5))\n",
    "plt.ylabel(\"Percentage of Top-100 Words\")\n",
    "plt.savefig(\"PMI_results.png\",bbox_inches='tight')\n",
    "plt.show()"
   ]
  },
  {
   "cell_type": "code",
   "execution_count": 128,
   "metadata": {},
   "outputs": [
    {
     "data": {
      "text/plain": [
       "<matplotlib.image.AxesImage at 0x23afc32c490>"
      ]
     },
     "execution_count": 128,
     "metadata": {},
     "output_type": "execute_result"
    },
    {
     "data": {
      "image/png": "[encoded data removed]",
      "text/plain": [
       "<Figure size 432x288 with 1 Axes>"
      ]
     },
     "metadata": {},
     "output_type": "display_data"
    }
   ],
   "source": [
    "import matplotlib as mpl\n",
    "A = np.arange(6)\n",
    "B = np.reshape(A, (2, -1))\n",
    "cmap = mpl.colors.ListedColormap([WOMEN_POS, WOMEN, WOMEN_NEG, MEN_POS, MEN, MEN_NEG], name='colors', N=None)\n",
    "plt.xticks([])\n",
    "plt.yticks([])\n",
    "plt.imshow(B, cmap=cmap)\n"
   ]
  },
  {
   "cell_type": "code",
   "execution_count": 192,
   "metadata": {},
   "outputs": [
    {
     "data": {
      "image/png": "[encoded data removed]",
      "text/plain": [
       "<Figure size 432x288 with 1 Axes>"
      ]
     },
     "metadata": {
      "needs_background": "light"
     },
     "output_type": "display_data"
    }
   ],
   "source": [
    "cats = ['Euphemism','Profession','Ideal','Attribute','Body','Family','Clothing']\n",
    "pos_m = most_mal_HC[most_mal_HC['Handcoded_Sentiment'] == 1]['Handcoded_Sense'].value_counts().reindex(cats, fill_value=0)\n",
    "negs_m = most_mal_HC[most_mal_HC['Handcoded_Sentiment'] == -1]['Handcoded_Sense'].value_counts().reindex(cats, fill_value=0)\n",
    "plt.bar(cats, most_mal_HC.Handcoded_Sense.value_counts().reindex(cats), color='lightgrey', edgecolor='C0')\n",
    "plt.bar(pos_m.index,pos_m, color='lightblue', label=\"Positive\")\n",
    "plt.bar(negs_m.index,negs_m,bottom=pos_m, color='darkblue', label=\"Negative\")\n",
    "plt.xticks(rotation=90)\n",
    "plt.legend()\n",
    "plt.yticks(np.arange(0,most_mal_HC.Handcoded_Sense.value_counts().max()+1,2))\n",
    "plt.title(\"Senses of Most-Male Words with Hand-coded Sentiment\")\n",
    "plt.show()"
   ]
  },
  {
   "cell_type": "code",
   "execution_count": 3,
   "metadata": {},
   "outputs": [
    {
     "data": {
      "text/html": [
       "<div>\n",
       "<style scoped>\n",
       "    .dataframe tbody tr th:only-of-type {\n",
       "        vertical-align: middle;\n",
       "    }\n",
       "\n",
       "    .dataframe tbody tr th {\n",
       "        vertical-align: top;\n",
       "    }\n",
       "\n",
       "    .dataframe thead th {\n",
       "        text-align: right;\n",
       "    }\n",
       "</style>\n",
       "<table border=\"1\" class=\"dataframe\">\n",
       "  <thead>\n",
       "    <tr style=\"text-align: right;\">\n",
       "      <th></th>\n",
       "      <th>male</th>\n",
       "      <th>female</th>\n",
       "    </tr>\n",
       "  </thead>\n",
       "  <tbody>\n",
       "    <tr>\n",
       "      <th>Other</th>\n",
       "      <td>41.0</td>\n",
       "      <td>13</td>\n",
       "    </tr>\n",
       "    <tr>\n",
       "      <th>Label</th>\n",
       "      <td>22.0</td>\n",
       "      <td>17</td>\n",
       "    </tr>\n",
       "    <tr>\n",
       "      <th>Attribute</th>\n",
       "      <td>13.0</td>\n",
       "      <td>18</td>\n",
       "    </tr>\n",
       "    <tr>\n",
       "      <th>Profession</th>\n",
       "      <td>12.0</td>\n",
       "      <td>4</td>\n",
       "    </tr>\n",
       "    <tr>\n",
       "      <th>Belief</th>\n",
       "      <td>8.0</td>\n",
       "      <td>3</td>\n",
       "    </tr>\n",
       "    <tr>\n",
       "      <th>Body</th>\n",
       "      <td>3.0</td>\n",
       "      <td>19</td>\n",
       "    </tr>\n",
       "    <tr>\n",
       "      <th>Clothing</th>\n",
       "      <td>0.0</td>\n",
       "      <td>7</td>\n",
       "    </tr>\n",
       "    <tr>\n",
       "      <th>Family</th>\n",
       "      <td>0.0</td>\n",
       "      <td>6</td>\n",
       "    </tr>\n",
       "  </tbody>\n",
       "</table>\n",
       "</div>"
      ],
      "text/plain": [
       "            male  female\n",
       "Other       41.0      13\n",
       "Label       22.0      17\n",
       "Attribute   13.0      18\n",
       "Profession  12.0       4\n",
       "Belief       8.0       3\n",
       "Body         3.0      19\n",
       "Clothing     0.0       7\n",
       "Family       0.0       6"
      ]
     },
     "execution_count": 3,
     "metadata": {},
     "output_type": "execute_result"
    }
   ],
   "source": [
    "# Odds ratios\n",
    "import pandas as pd\n",
    "\n",
    "cts = pd.read_csv(\"senses.csv\", index_col=0)\n",
    "cts"
   ]
  },
  {
   "cell_type": "code",
   "execution_count": 18,
   "metadata": {},
   "outputs": [],
   "source": [
    "most_fem_2['Senses'] = most_fem_2.index.map(senses)\n",
    "most_mal_2['Senses'] = most_mal_2.index.map(senses)\n",
    "most_fem_2['Sentis'] = most_fem_2.index.map(senti)\n",
    "most_mal_2['Sentis'] = most_mal_2.index.map(senti)"
   ]
  },
  {
   "cell_type": "code",
   "execution_count": 12,
   "metadata": {},
   "outputs": [],
   "source": [
    "annot1 = pd.read_excel(\"Downloads/to_annotates.xlsx\", index_col=0)\n",
    "annot1['Handcoded_Senses'] = annot1['Handcoded_Senses'].str.replace(\"Euphemism\",\"Label\")\n",
    "annot2 = pd.read_excel(\"Downloads/AnnotationsForThesis-VB-20210725.xlsx\", index_col=0)\n",
    "annot1['Handcoded_Senses'] = annot1['Handcoded_Senses'].str.replace(\"Euphemism\",\"Label\")\n",
    "annot1['Handcoded_Senses'] = annot1['Handcoded_Senses'].str.replace(\"Ideal\",\"Belief\")\n",
    "annot2['Handcoded_Senses'] = annot2['Handcoded_Senses'].str.replace(\"/Position\",\"\")\n",
    "annot2['Handcoded_Senses'] = annot2['Handcoded_Senses'].str.replace(\"/Adverb\",\"\")\n",
    "senses = annot1['Handcoded_Senses'].to_dict()\n",
    "senti = annot2['Handcoded_Sentiment'].to_dict()"
   ]
  },
  {
   "cell_type": "code",
   "execution_count": 15,
   "metadata": {},
   "outputs": [],
   "source": [
    "most_fem_2 = pd.read_csv(\"results/PMI/most_female_d.csv\", index_col=0)\n",
    "most_mal_2 = pd.read_csv(\"results/PMI/most_male_d.csv\",index_col=0)"
   ]
  },
  {
   "cell_type": "code",
   "execution_count": 40,
   "metadata": {},
   "outputs": [
    {
     "name": "stdout",
     "output_type": "stream",
     "text": [
      "19 17 22 28\n"
     ]
    }
   ],
   "source": [
    "a= most_mal_2[(most_mal_2['Senses'] == 'Label') & (most_mal_2['Sentis'] == -1.0)].shape[0]\n",
    "d= most_fem_2[~(most_fem_2['Senses'] == 'Label') & (most_fem_2['Sentis'] == -1.0)].shape[0]\n",
    "b= most_fem_2[(most_fem_2['Senses'] == 'Label') & (most_fem_2['Sentis'] == -1.0)].shape[0]\n",
    "c = most_mal_2[~(most_mal_2['Senses'] == 'Label') & (most_mal_2['Sentis'] == -1.0)].shape[0] \n",
    "print(a,b,c,d)\n",
    "#ci = exp(log(or) ± Zα/2*√1/a + 1/b + 1/c + 1/d), where Zα/2 is the critical value of the Normal distribution at α/2 (e.g. for a confidence level of 95%, α is 0.05 and the critical value is 1.96).where Zα/2 is the critical value of the Normal distribution at α/2 (e.g. for a confidence level of 95%, α is 0.05 and the critical value is 1.96)."
   ]
  },
  {
   "cell_type": "code",
   "execution_count": 43,
   "metadata": {},
   "outputs": [
    {
     "data": {
      "text/html": [
       "<div>\n",
       "<style scoped>\n",
       "    .dataframe tbody tr th:only-of-type {\n",
       "        vertical-align: middle;\n",
       "    }\n",
       "\n",
       "    .dataframe tbody tr th {\n",
       "        vertical-align: top;\n",
       "    }\n",
       "\n",
       "    .dataframe thead tr th {\n",
       "        text-align: left;\n",
       "    }\n",
       "</style>\n",
       "<table border=\"1\" class=\"dataframe\">\n",
       "  <thead>\n",
       "    <tr>\n",
       "      <th></th>\n",
       "      <th colspan=\"3\" halign=\"left\">female</th>\n",
       "      <th colspan=\"3\" halign=\"left\">male</th>\n",
       "    </tr>\n",
       "    <tr>\n",
       "      <th></th>\n",
       "      <th>left</th>\n",
       "      <th>right</th>\n",
       "      <th>alt_right</th>\n",
       "      <th>left</th>\n",
       "      <th>right</th>\n",
       "      <th>alt_right</th>\n",
       "    </tr>\n",
       "  </thead>\n",
       "  <tbody>\n",
       "    <tr>\n",
       "      <th>Other</th>\n",
       "      <td>23.0</td>\n",
       "      <td>22.0</td>\n",
       "      <td>14.0</td>\n",
       "      <td>19.0</td>\n",
       "      <td>28.0</td>\n",
       "      <td>26.0</td>\n",
       "    </tr>\n",
       "    <tr>\n",
       "      <th>Attribute</th>\n",
       "      <td>14.0</td>\n",
       "      <td>14.0</td>\n",
       "      <td>5.0</td>\n",
       "      <td>7.0</td>\n",
       "      <td>3.0</td>\n",
       "      <td>3.0</td>\n",
       "    </tr>\n",
       "    <tr>\n",
       "      <th>Label</th>\n",
       "      <td>5.0</td>\n",
       "      <td>3.0</td>\n",
       "      <td>5.0</td>\n",
       "      <td>5.0</td>\n",
       "      <td>9.0</td>\n",
       "      <td>9.0</td>\n",
       "    </tr>\n",
       "    <tr>\n",
       "      <th>Family</th>\n",
       "      <td>3.0</td>\n",
       "      <td>1.0</td>\n",
       "      <td>4.0</td>\n",
       "      <td>2.0</td>\n",
       "      <td>1.0</td>\n",
       "      <td>0.0</td>\n",
       "    </tr>\n",
       "    <tr>\n",
       "      <th>Body</th>\n",
       "      <td>2.0</td>\n",
       "      <td>6.0</td>\n",
       "      <td>16.0</td>\n",
       "      <td>0.0</td>\n",
       "      <td>0.0</td>\n",
       "      <td>0.0</td>\n",
       "    </tr>\n",
       "    <tr>\n",
       "      <th>Profession</th>\n",
       "      <td>2.0</td>\n",
       "      <td>3.0</td>\n",
       "      <td>3.0</td>\n",
       "      <td>13.0</td>\n",
       "      <td>5.0</td>\n",
       "      <td>9.0</td>\n",
       "    </tr>\n",
       "    <tr>\n",
       "      <th>Belief</th>\n",
       "      <td>1.0</td>\n",
       "      <td>1.0</td>\n",
       "      <td>0.0</td>\n",
       "      <td>4.0</td>\n",
       "      <td>3.0</td>\n",
       "      <td>3.0</td>\n",
       "    </tr>\n",
       "    <tr>\n",
       "      <th>Clothing</th>\n",
       "      <td>0.0</td>\n",
       "      <td>0.0</td>\n",
       "      <td>3.0</td>\n",
       "      <td>0.0</td>\n",
       "      <td>1.0</td>\n",
       "      <td>0.0</td>\n",
       "    </tr>\n",
       "  </tbody>\n",
       "</table>\n",
       "</div>"
      ],
      "text/plain": [
       "           female                  male                \n",
       "             left right alt_right  left right alt_right\n",
       "Other        23.0  22.0      14.0  19.0  28.0      26.0\n",
       "Attribute    14.0  14.0       5.0   7.0   3.0       3.0\n",
       "Label         5.0   3.0       5.0   5.0   9.0       9.0\n",
       "Family        3.0   1.0       4.0   2.0   1.0       0.0\n",
       "Body          2.0   6.0      16.0   0.0   0.0       0.0\n",
       "Profession    2.0   3.0       3.0  13.0   5.0       9.0\n",
       "Belief        1.0   1.0       0.0   4.0   3.0       3.0\n",
       "Clothing      0.0   0.0       3.0   0.0   1.0       0.0"
      ]
     },
     "execution_count": 43,
     "metadata": {},
     "output_type": "execute_result"
    }
   ],
   "source": [
    "ccts = pd.read_csv(\"senses_cross.csv\", index_col=0, header=[0,1])\n",
    "ccts"
   ]
  },
  {
   "cell_type": "code",
   "execution_count": 51,
   "metadata": {},
   "outputs": [
    {
     "data": {
      "text/html": [
       "<div>\n",
       "<style scoped>\n",
       "    .dataframe tbody tr th:only-of-type {\n",
       "        vertical-align: middle;\n",
       "    }\n",
       "\n",
       "    .dataframe tbody tr th {\n",
       "        vertical-align: top;\n",
       "    }\n",
       "\n",
       "    .dataframe thead tr th {\n",
       "        text-align: left;\n",
       "    }\n",
       "</style>\n",
       "<table border=\"1\" class=\"dataframe\">\n",
       "  <thead>\n",
       "    <tr>\n",
       "      <th></th>\n",
       "      <th colspan=\"3\" halign=\"left\">female</th>\n",
       "      <th colspan=\"3\" halign=\"left\">male</th>\n",
       "    </tr>\n",
       "    <tr>\n",
       "      <th></th>\n",
       "      <th>left</th>\n",
       "      <th>right</th>\n",
       "      <th>alt_right</th>\n",
       "      <th>left</th>\n",
       "      <th>right</th>\n",
       "      <th>alt_right</th>\n",
       "    </tr>\n",
       "  </thead>\n",
       "  <tbody>\n",
       "    <tr>\n",
       "      <th>Other</th>\n",
       "      <td>23.0</td>\n",
       "      <td>22.0</td>\n",
       "      <td>14.0</td>\n",
       "      <td>19.0</td>\n",
       "      <td>28.0</td>\n",
       "      <td>26.0</td>\n",
       "    </tr>\n",
       "    <tr>\n",
       "      <th>Attribute</th>\n",
       "      <td>14.0</td>\n",
       "      <td>14.0</td>\n",
       "      <td>5.0</td>\n",
       "      <td>7.0</td>\n",
       "      <td>3.0</td>\n",
       "      <td>3.0</td>\n",
       "    </tr>\n",
       "    <tr>\n",
       "      <th>Label</th>\n",
       "      <td>5.0</td>\n",
       "      <td>3.0</td>\n",
       "      <td>5.0</td>\n",
       "      <td>5.0</td>\n",
       "      <td>9.0</td>\n",
       "      <td>9.0</td>\n",
       "    </tr>\n",
       "    <tr>\n",
       "      <th>Family</th>\n",
       "      <td>3.0</td>\n",
       "      <td>1.0</td>\n",
       "      <td>4.0</td>\n",
       "      <td>2.0</td>\n",
       "      <td>1.0</td>\n",
       "      <td>0.0</td>\n",
       "    </tr>\n",
       "    <tr>\n",
       "      <th>Body</th>\n",
       "      <td>2.0</td>\n",
       "      <td>6.0</td>\n",
       "      <td>16.0</td>\n",
       "      <td>0.0</td>\n",
       "      <td>0.0</td>\n",
       "      <td>0.0</td>\n",
       "    </tr>\n",
       "    <tr>\n",
       "      <th>Profession</th>\n",
       "      <td>2.0</td>\n",
       "      <td>3.0</td>\n",
       "      <td>3.0</td>\n",
       "      <td>13.0</td>\n",
       "      <td>5.0</td>\n",
       "      <td>9.0</td>\n",
       "    </tr>\n",
       "    <tr>\n",
       "      <th>Belief</th>\n",
       "      <td>1.0</td>\n",
       "      <td>1.0</td>\n",
       "      <td>0.0</td>\n",
       "      <td>4.0</td>\n",
       "      <td>3.0</td>\n",
       "      <td>3.0</td>\n",
       "    </tr>\n",
       "    <tr>\n",
       "      <th>Clothing</th>\n",
       "      <td>0.0</td>\n",
       "      <td>0.0</td>\n",
       "      <td>3.0</td>\n",
       "      <td>0.0</td>\n",
       "      <td>1.0</td>\n",
       "      <td>0.0</td>\n",
       "    </tr>\n",
       "  </tbody>\n",
       "</table>\n",
       "</div>"
      ],
      "text/plain": [
       "           female                  male                \n",
       "             left right alt_right  left right alt_right\n",
       "Other        23.0  22.0      14.0  19.0  28.0      26.0\n",
       "Attribute    14.0  14.0       5.0   7.0   3.0       3.0\n",
       "Label         5.0   3.0       5.0   5.0   9.0       9.0\n",
       "Family        3.0   1.0       4.0   2.0   1.0       0.0\n",
       "Body          2.0   6.0      16.0   0.0   0.0       0.0\n",
       "Profession    2.0   3.0       3.0  13.0   5.0       9.0\n",
       "Belief        1.0   1.0       0.0   4.0   3.0       3.0\n",
       "Clothing      0.0   0.0       3.0   0.0   1.0       0.0"
      ]
     },
     "execution_count": 51,
     "metadata": {},
     "output_type": "execute_result"
    }
   ],
   "source": [
    "ccts.index"
   ]
  },
  {
   "cell_type": "code",
   "execution_count": 59,
   "metadata": {},
   "outputs": [
    {
     "data": {
      "text/plain": [
       "17.0"
      ]
     },
     "execution_count": 59,
     "metadata": {},
     "output_type": "execute_result"
    }
   ],
   "source": [
    " ccts['male']['left'].loc[['Profession', 'Belief']].sum()"
   ]
  },
  {
   "cell_type": "code",
   "execution_count": 80,
   "metadata": {},
   "outputs": [
    {
     "name": "stdout",
     "output_type": "stream",
     "text": [
      "14.0 7.0 36.0 43.0\n"
     ]
    }
   ],
   "source": [
    "group = 'left'\n",
    "\n",
    "a = ccts['female'][group].loc[['Attribute']].sum()\n",
    "d = ccts['male'][group].loc[['Other', 'Body', 'Label', 'Family', 'Profession', 'Belief',\n",
    "       'Clothing']].sum()\n",
    "b = ccts['male'][group].loc[['Attribute']].sum()\n",
    "c= ccts['female'][group].loc[['Other', 'Body', 'Label', 'Family', 'Profession', 'Belief',\n",
    "       'Clothing']].sum()\n",
    "print(a,b,c,d)"
   ]
  },
  {
   "cell_type": "code",
   "execution_count": 85,
   "metadata": {},
   "outputs": [
    {
     "name": "stdout",
     "output_type": "stream",
     "text": [
      "14.0 5.0 36.0 45.0\n"
     ]
    }
   ],
   "source": [
    "a = ccts['female']['right'].loc[['Attribute']].sum()\n",
    "d = ccts['female']['alt_right'].loc[['Other', 'Body', 'Label', 'Family','Profession', 'Belief',\n",
    "       'Clothing']].sum()\n",
    "b = ccts['female']['alt_right'].loc[['Attribute']].sum()\n",
    "c= ccts['female']['right'].loc[['Other', 'Body', 'Label', 'Family', 'Profession', 'Belief',\n",
    "       'Clothing']].sum()\n",
    "print(a,b,c,d)"
   ]
  },
  {
   "cell_type": "code",
   "execution_count": 74,
   "metadata": {},
   "outputs": [
    {
     "name": "stdout",
     "output_type": "stream",
     "text": [
      "16.0 50.0 6.0 50.0\n"
     ]
    }
   ],
   "source": [
    "a = ccts['female']['alt_right'].loc[['Body']].sum()\n",
    "d = ccts['male']['right'].loc[['Other', 'Attribute', 'Label', 'Family','Profession', 'Belief',\n",
    "       'Clothing']].sum()\n",
    "c = ccts['female']['right'].loc[['Body']].sum()\n",
    "b= ccts['male']['alt_right'].loc[['Other', 'Attribute', 'Label', 'Family', 'Profession', 'Belief',\n",
    "       'Clothing']].sum()\n",
    "print(a,b,c,d)"
   ]
  },
  {
   "cell_type": "code",
   "execution_count": 64,
   "metadata": {},
   "outputs": [
    {
     "name": "stdout",
     "output_type": "stream",
     "text": [
      "12.0 38.0 3.0 47.0\n"
     ]
    }
   ],
   "source": [
    "a = ccts['male']['alt_right'].loc[['Profession', 'Belief']].sum()\n",
    "d = ccts['female']['alt_right'].loc[['Other', 'Attribute', 'Label', 'Family', 'Body',\n",
    "       'Clothing']].sum()\n",
    "c = ccts['female']['alt_right'].loc[['Profession', 'Belief']].sum()\n",
    "b= ccts['male']['alt_right'].loc[['Other', 'Attribute', 'Label', 'Family', 'Body',\n",
    "       'Clothing']].sum()\n",
    "print(a,b,c,d)"
   ]
  },
  {
   "cell_type": "markdown",
   "metadata": {},
   "source": [
    "# Name use"
   ]
  },
  {
   "cell_type": "code",
   "execution_count": 41,
   "metadata": {},
   "outputs": [],
   "source": [
    "def to_bool(value):\n",
    "    try:\n",
    "        return literal_eval(value)\n",
    "    except ValueError:\n",
    "        return value\n",
    "\n",
    "df['family_name_used'] = df['family_name_used'].map(to_bool)\n",
    "df['nickname_used'] = df['nickname_used'].map(to_bool)\n",
    "df['full_name_used'] = df['full_name_used'].map(to_bool)"
   ]
  },
  {
   "cell_type": "code",
   "execution_count": 46,
   "metadata": {},
   "outputs": [
    {
     "data": {
      "text/plain": [
       "(5353505.2200133195,\n",
       " 0.9999991199557648,\n",
       " 5369151,\n",
       " array([[0.21579479, 0.2473    , 0.13145582, 0.4054494 ],\n",
       "        [0.21579479, 0.2473    , 0.13145582, 0.4054494 ],\n",
       "        [0.21579479, 0.2473    , 0.13145582, 0.4054494 ],\n",
       "        ...,\n",
       "        [0.21579479, 0.2473    , 0.13145582, 0.4054494 ],\n",
       "        [0.21579479, 0.2473    , 0.13145582, 0.4054494 ],\n",
       "        [0.21579479, 0.2473    , 0.13145582, 0.4054494 ]]))"
      ]
     },
     "execution_count": 46,
     "metadata": {},
     "output_type": "execute_result"
    }
   ],
   "source": [
    "from scipy.stats import chi2_contingency"
   ]
  },
  {
   "cell_type": "code",
   "execution_count": 81,
   "metadata": {},
   "outputs": [
    {
     "ename": "KeyboardInterrupt",
     "evalue": "",
     "output_type": "error",
     "traceback": [
      "\u001b[1;31m---------------------------------------------------------------------------\u001b[0m",
      "\u001b[1;31mKeyboardInterrupt\u001b[0m                         Traceback (most recent call last)",
      "\u001b[1;32m<ipython-input-81-53c9297bb321>\u001b[0m in \u001b[0;36m<module>\u001b[1;34m\u001b[0m\n\u001b[1;32m----> 1\u001b[1;33m \u001b[0mfem\u001b[0m \u001b[1;33m=\u001b[0m \u001b[0mdf\u001b[0m\u001b[1;33m[\u001b[0m\u001b[0mdf\u001b[0m\u001b[1;33m[\u001b[0m\u001b[1;34m'sex'\u001b[0m\u001b[1;33m]\u001b[0m \u001b[1;33m==\u001b[0m \u001b[1;34m'female'\u001b[0m\u001b[1;33m]\u001b[0m\u001b[1;33m[\u001b[0m\u001b[1;33m[\u001b[0m\u001b[1;34m'family_name_used'\u001b[0m\u001b[1;33m,\u001b[0m \u001b[1;34m'given_name_used'\u001b[0m\u001b[1;33m,\u001b[0m \u001b[1;34m'nickname_used'\u001b[0m\u001b[1;33m,\u001b[0m \u001b[1;34m'full_name_used'\u001b[0m\u001b[1;33m]\u001b[0m\u001b[1;33m]\u001b[0m\u001b[1;33m.\u001b[0m\u001b[0msum\u001b[0m\u001b[1;33m(\u001b[0m\u001b[0maxis\u001b[0m\u001b[1;33m=\u001b[0m\u001b[1;36m0\u001b[0m\u001b[1;33m)\u001b[0m\u001b[1;33m\u001b[0m\u001b[1;33m\u001b[0m\u001b[0m\n\u001b[0m\u001b[0;32m      2\u001b[0m \u001b[0mmen\u001b[0m \u001b[1;33m=\u001b[0m \u001b[0mdf\u001b[0m\u001b[1;33m[\u001b[0m\u001b[0mdf\u001b[0m\u001b[1;33m[\u001b[0m\u001b[1;34m'sex'\u001b[0m\u001b[1;33m]\u001b[0m \u001b[1;33m==\u001b[0m \u001b[1;34m'male'\u001b[0m\u001b[1;33m]\u001b[0m\u001b[1;33m[\u001b[0m\u001b[1;33m[\u001b[0m\u001b[1;34m'family_name_used'\u001b[0m\u001b[1;33m,\u001b[0m \u001b[1;34m'given_name_used'\u001b[0m\u001b[1;33m,\u001b[0m \u001b[1;34m'nickname_used'\u001b[0m\u001b[1;33m,\u001b[0m \u001b[1;34m'full_name_used'\u001b[0m\u001b[1;33m]\u001b[0m\u001b[1;33m]\u001b[0m\u001b[1;33m.\u001b[0m\u001b[0msum\u001b[0m\u001b[1;33m(\u001b[0m\u001b[0maxis\u001b[0m\u001b[1;33m=\u001b[0m\u001b[1;36m0\u001b[0m\u001b[1;33m)\u001b[0m\u001b[1;33m\u001b[0m\u001b[1;33m\u001b[0m\u001b[0m\n",
      "\u001b[1;32m~\\AppData\\Roaming\\Python\\Python38\\site-packages\\pandas\\core\\frame.py\u001b[0m in \u001b[0;36m__getitem__\u001b[1;34m(self, key)\u001b[0m\n\u001b[0;32m   3013\u001b[0m         \u001b[1;31m# Do we have a (boolean) 1d indexer?\u001b[0m\u001b[1;33m\u001b[0m\u001b[1;33m\u001b[0m\u001b[1;33m\u001b[0m\u001b[0m\n\u001b[0;32m   3014\u001b[0m         \u001b[1;32mif\u001b[0m \u001b[0mcom\u001b[0m\u001b[1;33m.\u001b[0m\u001b[0mis_bool_indexer\u001b[0m\u001b[1;33m(\u001b[0m\u001b[0mkey\u001b[0m\u001b[1;33m)\u001b[0m\u001b[1;33m:\u001b[0m\u001b[1;33m\u001b[0m\u001b[1;33m\u001b[0m\u001b[0m\n\u001b[1;32m-> 3015\u001b[1;33m             \u001b[1;32mreturn\u001b[0m \u001b[0mself\u001b[0m\u001b[1;33m.\u001b[0m\u001b[0m_getitem_bool_array\u001b[0m\u001b[1;33m(\u001b[0m\u001b[0mkey\u001b[0m\u001b[1;33m)\u001b[0m\u001b[1;33m\u001b[0m\u001b[1;33m\u001b[0m\u001b[0m\n\u001b[0m\u001b[0;32m   3016\u001b[0m \u001b[1;33m\u001b[0m\u001b[0m\n\u001b[0;32m   3017\u001b[0m         \u001b[1;31m# We are left with two options: a single key, and a collection of keys,\u001b[0m\u001b[1;33m\u001b[0m\u001b[1;33m\u001b[0m\u001b[1;33m\u001b[0m\u001b[0m\n",
      "\u001b[1;32m~\\AppData\\Roaming\\Python\\Python38\\site-packages\\pandas\\core\\frame.py\u001b[0m in \u001b[0;36m_getitem_bool_array\u001b[1;34m(self, key)\u001b[0m\n\u001b[0;32m   3068\u001b[0m         \u001b[0mkey\u001b[0m \u001b[1;33m=\u001b[0m \u001b[0mcheck_bool_indexer\u001b[0m\u001b[1;33m(\u001b[0m\u001b[0mself\u001b[0m\u001b[1;33m.\u001b[0m\u001b[0mindex\u001b[0m\u001b[1;33m,\u001b[0m \u001b[0mkey\u001b[0m\u001b[1;33m)\u001b[0m\u001b[1;33m\u001b[0m\u001b[1;33m\u001b[0m\u001b[0m\n\u001b[0;32m   3069\u001b[0m         \u001b[0mindexer\u001b[0m \u001b[1;33m=\u001b[0m \u001b[0mkey\u001b[0m\u001b[1;33m.\u001b[0m\u001b[0mnonzero\u001b[0m\u001b[1;33m(\u001b[0m\u001b[1;33m)\u001b[0m\u001b[1;33m[\u001b[0m\u001b[1;36m0\u001b[0m\u001b[1;33m]\u001b[0m\u001b[1;33m\u001b[0m\u001b[1;33m\u001b[0m\u001b[0m\n\u001b[1;32m-> 3070\u001b[1;33m         \u001b[1;32mreturn\u001b[0m \u001b[0mself\u001b[0m\u001b[1;33m.\u001b[0m\u001b[0m_take_with_is_copy\u001b[0m\u001b[1;33m(\u001b[0m\u001b[0mindexer\u001b[0m\u001b[1;33m,\u001b[0m \u001b[0maxis\u001b[0m\u001b[1;33m=\u001b[0m\u001b[1;36m0\u001b[0m\u001b[1;33m)\u001b[0m\u001b[1;33m\u001b[0m\u001b[1;33m\u001b[0m\u001b[0m\n\u001b[0m\u001b[0;32m   3071\u001b[0m \u001b[1;33m\u001b[0m\u001b[0m\n\u001b[0;32m   3072\u001b[0m     \u001b[1;32mdef\u001b[0m \u001b[0m_getitem_multilevel\u001b[0m\u001b[1;33m(\u001b[0m\u001b[0mself\u001b[0m\u001b[1;33m,\u001b[0m \u001b[0mkey\u001b[0m\u001b[1;33m)\u001b[0m\u001b[1;33m:\u001b[0m\u001b[1;33m\u001b[0m\u001b[1;33m\u001b[0m\u001b[0m\n",
      "\u001b[1;32m~\\AppData\\Roaming\\Python\\Python38\\site-packages\\pandas\\core\\generic.py\u001b[0m in \u001b[0;36m_take_with_is_copy\u001b[1;34m(self, indices, axis)\u001b[0m\n\u001b[0;32m   3598\u001b[0m         \u001b[0mSee\u001b[0m \u001b[0mthe\u001b[0m \u001b[0mdocstring\u001b[0m \u001b[0mof\u001b[0m\u001b[0;31m \u001b[0m\u001b[0;31m`\u001b[0m\u001b[0mtake\u001b[0m\u001b[0;31m`\u001b[0m \u001b[1;32mfor\u001b[0m \u001b[0mfull\u001b[0m \u001b[0mexplanation\u001b[0m \u001b[0mof\u001b[0m \u001b[0mthe\u001b[0m \u001b[0mparameters\u001b[0m\u001b[1;33m.\u001b[0m\u001b[1;33m\u001b[0m\u001b[1;33m\u001b[0m\u001b[0m\n\u001b[0;32m   3599\u001b[0m         \"\"\"\n\u001b[1;32m-> 3600\u001b[1;33m         \u001b[0mresult\u001b[0m \u001b[1;33m=\u001b[0m \u001b[0mself\u001b[0m\u001b[1;33m.\u001b[0m\u001b[0mtake\u001b[0m\u001b[1;33m(\u001b[0m\u001b[0mindices\u001b[0m\u001b[1;33m=\u001b[0m\u001b[0mindices\u001b[0m\u001b[1;33m,\u001b[0m \u001b[0maxis\u001b[0m\u001b[1;33m=\u001b[0m\u001b[0maxis\u001b[0m\u001b[1;33m)\u001b[0m\u001b[1;33m\u001b[0m\u001b[1;33m\u001b[0m\u001b[0m\n\u001b[0m\u001b[0;32m   3601\u001b[0m         \u001b[1;31m# Maybe set copy if we didn't actually change the index.\u001b[0m\u001b[1;33m\u001b[0m\u001b[1;33m\u001b[0m\u001b[1;33m\u001b[0m\u001b[0m\n\u001b[0;32m   3602\u001b[0m         \u001b[1;32mif\u001b[0m \u001b[1;32mnot\u001b[0m \u001b[0mresult\u001b[0m\u001b[1;33m.\u001b[0m\u001b[0m_get_axis\u001b[0m\u001b[1;33m(\u001b[0m\u001b[0maxis\u001b[0m\u001b[1;33m)\u001b[0m\u001b[1;33m.\u001b[0m\u001b[0mequals\u001b[0m\u001b[1;33m(\u001b[0m\u001b[0mself\u001b[0m\u001b[1;33m.\u001b[0m\u001b[0m_get_axis\u001b[0m\u001b[1;33m(\u001b[0m\u001b[0maxis\u001b[0m\u001b[1;33m)\u001b[0m\u001b[1;33m)\u001b[0m\u001b[1;33m:\u001b[0m\u001b[1;33m\u001b[0m\u001b[1;33m\u001b[0m\u001b[0m\n",
      "\u001b[1;32m~\\AppData\\Roaming\\Python\\Python38\\site-packages\\pandas\\core\\generic.py\u001b[0m in \u001b[0;36mtake\u001b[1;34m(self, indices, axis, is_copy, **kwargs)\u001b[0m\n\u001b[0;32m   3584\u001b[0m         \u001b[0mself\u001b[0m\u001b[1;33m.\u001b[0m\u001b[0m_consolidate_inplace\u001b[0m\u001b[1;33m(\u001b[0m\u001b[1;33m)\u001b[0m\u001b[1;33m\u001b[0m\u001b[1;33m\u001b[0m\u001b[0m\n\u001b[0;32m   3585\u001b[0m \u001b[1;33m\u001b[0m\u001b[0m\n\u001b[1;32m-> 3586\u001b[1;33m         new_data = self._mgr.take(\n\u001b[0m\u001b[0;32m   3587\u001b[0m             \u001b[0mindices\u001b[0m\u001b[1;33m,\u001b[0m \u001b[0maxis\u001b[0m\u001b[1;33m=\u001b[0m\u001b[0mself\u001b[0m\u001b[1;33m.\u001b[0m\u001b[0m_get_block_manager_axis\u001b[0m\u001b[1;33m(\u001b[0m\u001b[0maxis\u001b[0m\u001b[1;33m)\u001b[0m\u001b[1;33m,\u001b[0m \u001b[0mverify\u001b[0m\u001b[1;33m=\u001b[0m\u001b[1;32mTrue\u001b[0m\u001b[1;33m\u001b[0m\u001b[1;33m\u001b[0m\u001b[0m\n\u001b[0;32m   3588\u001b[0m         )\n",
      "\u001b[1;32m~\\AppData\\Roaming\\Python\\Python38\\site-packages\\pandas\\core\\internals\\managers.py\u001b[0m in \u001b[0;36mtake\u001b[1;34m(self, indexer, axis, verify, convert)\u001b[0m\n\u001b[0;32m   1472\u001b[0m \u001b[1;33m\u001b[0m\u001b[0m\n\u001b[0;32m   1473\u001b[0m         \u001b[0mnew_labels\u001b[0m \u001b[1;33m=\u001b[0m \u001b[0mself\u001b[0m\u001b[1;33m.\u001b[0m\u001b[0maxes\u001b[0m\u001b[1;33m[\u001b[0m\u001b[0maxis\u001b[0m\u001b[1;33m]\u001b[0m\u001b[1;33m.\u001b[0m\u001b[0mtake\u001b[0m\u001b[1;33m(\u001b[0m\u001b[0mindexer\u001b[0m\u001b[1;33m)\u001b[0m\u001b[1;33m\u001b[0m\u001b[1;33m\u001b[0m\u001b[0m\n\u001b[1;32m-> 1474\u001b[1;33m         return self.reindex_indexer(\n\u001b[0m\u001b[0;32m   1475\u001b[0m             \u001b[0mnew_axis\u001b[0m\u001b[1;33m=\u001b[0m\u001b[0mnew_labels\u001b[0m\u001b[1;33m,\u001b[0m \u001b[0mindexer\u001b[0m\u001b[1;33m=\u001b[0m\u001b[0mindexer\u001b[0m\u001b[1;33m,\u001b[0m \u001b[0maxis\u001b[0m\u001b[1;33m=\u001b[0m\u001b[0maxis\u001b[0m\u001b[1;33m,\u001b[0m \u001b[0mallow_dups\u001b[0m\u001b[1;33m=\u001b[0m\u001b[1;32mTrue\u001b[0m\u001b[1;33m\u001b[0m\u001b[1;33m\u001b[0m\u001b[0m\n\u001b[0;32m   1476\u001b[0m         )\n",
      "\u001b[1;32m~\\AppData\\Roaming\\Python\\Python38\\site-packages\\pandas\\core\\internals\\managers.py\u001b[0m in \u001b[0;36mreindex_indexer\u001b[1;34m(self, new_axis, indexer, axis, fill_value, allow_dups, copy, consolidate, only_slice)\u001b[0m\n\u001b[0;32m   1309\u001b[0m             )\n\u001b[0;32m   1310\u001b[0m         \u001b[1;32melse\u001b[0m\u001b[1;33m:\u001b[0m\u001b[1;33m\u001b[0m\u001b[1;33m\u001b[0m\u001b[0m\n\u001b[1;32m-> 1311\u001b[1;33m             new_blocks = [\n\u001b[0m\u001b[0;32m   1312\u001b[0m                 blk.take_nd(\n\u001b[0;32m   1313\u001b[0m                     \u001b[0mindexer\u001b[0m\u001b[1;33m,\u001b[0m\u001b[1;33m\u001b[0m\u001b[1;33m\u001b[0m\u001b[0m\n",
      "\u001b[1;32m~\\AppData\\Roaming\\Python\\Python38\\site-packages\\pandas\\core\\internals\\managers.py\u001b[0m in \u001b[0;36m<listcomp>\u001b[1;34m(.0)\u001b[0m\n\u001b[0;32m   1310\u001b[0m         \u001b[1;32melse\u001b[0m\u001b[1;33m:\u001b[0m\u001b[1;33m\u001b[0m\u001b[1;33m\u001b[0m\u001b[0m\n\u001b[0;32m   1311\u001b[0m             new_blocks = [\n\u001b[1;32m-> 1312\u001b[1;33m                 blk.take_nd(\n\u001b[0m\u001b[0;32m   1313\u001b[0m                     \u001b[0mindexer\u001b[0m\u001b[1;33m,\u001b[0m\u001b[1;33m\u001b[0m\u001b[1;33m\u001b[0m\u001b[0m\n\u001b[0;32m   1314\u001b[0m                     \u001b[0maxis\u001b[0m\u001b[1;33m=\u001b[0m\u001b[0maxis\u001b[0m\u001b[1;33m,\u001b[0m\u001b[1;33m\u001b[0m\u001b[1;33m\u001b[0m\u001b[0m\n",
      "\u001b[1;32m~\\AppData\\Roaming\\Python\\Python38\\site-packages\\pandas\\core\\internals\\blocks.py\u001b[0m in \u001b[0;36mtake_nd\u001b[1;34m(self, indexer, axis, new_mgr_locs, fill_value)\u001b[0m\n\u001b[0;32m   1406\u001b[0m             \u001b[1;32mreturn\u001b[0m \u001b[0mself\u001b[0m\u001b[1;33m.\u001b[0m\u001b[0mmake_block\u001b[0m\u001b[1;33m(\u001b[0m\u001b[0mnew_values\u001b[0m\u001b[1;33m,\u001b[0m \u001b[0mnew_mgr_locs\u001b[0m\u001b[1;33m)\u001b[0m\u001b[1;33m\u001b[0m\u001b[1;33m\u001b[0m\u001b[0m\n\u001b[0;32m   1407\u001b[0m         \u001b[1;32melse\u001b[0m\u001b[1;33m:\u001b[0m\u001b[1;33m\u001b[0m\u001b[1;33m\u001b[0m\u001b[0m\n\u001b[1;32m-> 1408\u001b[1;33m             \u001b[1;32mreturn\u001b[0m \u001b[0mself\u001b[0m\u001b[1;33m.\u001b[0m\u001b[0mmake_block_same_class\u001b[0m\u001b[1;33m(\u001b[0m\u001b[0mnew_values\u001b[0m\u001b[1;33m,\u001b[0m \u001b[0mnew_mgr_locs\u001b[0m\u001b[1;33m)\u001b[0m\u001b[1;33m\u001b[0m\u001b[1;33m\u001b[0m\u001b[0m\n\u001b[0m\u001b[0;32m   1409\u001b[0m \u001b[1;33m\u001b[0m\u001b[0m\n\u001b[0;32m   1410\u001b[0m     \u001b[1;32mdef\u001b[0m \u001b[0mdiff\u001b[0m\u001b[1;33m(\u001b[0m\u001b[0mself\u001b[0m\u001b[1;33m,\u001b[0m \u001b[0mn\u001b[0m\u001b[1;33m:\u001b[0m \u001b[0mint\u001b[0m\u001b[1;33m,\u001b[0m \u001b[0maxis\u001b[0m\u001b[1;33m:\u001b[0m \u001b[0mint\u001b[0m \u001b[1;33m=\u001b[0m \u001b[1;36m1\u001b[0m\u001b[1;33m)\u001b[0m \u001b[1;33m->\u001b[0m \u001b[0mList\u001b[0m\u001b[1;33m[\u001b[0m\u001b[1;34m\"Block\"\u001b[0m\u001b[1;33m]\u001b[0m\u001b[1;33m:\u001b[0m\u001b[1;33m\u001b[0m\u001b[1;33m\u001b[0m\u001b[0m\n",
      "\u001b[1;32m~\\AppData\\Roaming\\Python\\Python38\\site-packages\\pandas\\core\\internals\\blocks.py\u001b[0m in \u001b[0;36mmake_block_same_class\u001b[1;34m(self, values, placement, ndim)\u001b[0m\n\u001b[0;32m    292\u001b[0m         \u001b[1;32mif\u001b[0m \u001b[0mndim\u001b[0m \u001b[1;32mis\u001b[0m \u001b[1;32mNone\u001b[0m\u001b[1;33m:\u001b[0m\u001b[1;33m\u001b[0m\u001b[1;33m\u001b[0m\u001b[0m\n\u001b[0;32m    293\u001b[0m             \u001b[0mndim\u001b[0m \u001b[1;33m=\u001b[0m \u001b[0mself\u001b[0m\u001b[1;33m.\u001b[0m\u001b[0mndim\u001b[0m\u001b[1;33m\u001b[0m\u001b[1;33m\u001b[0m\u001b[0m\n\u001b[1;32m--> 294\u001b[1;33m         \u001b[1;32mreturn\u001b[0m \u001b[0mtype\u001b[0m\u001b[1;33m(\u001b[0m\u001b[0mself\u001b[0m\u001b[1;33m)\u001b[0m\u001b[1;33m(\u001b[0m\u001b[0mvalues\u001b[0m\u001b[1;33m,\u001b[0m \u001b[0mplacement\u001b[0m\u001b[1;33m=\u001b[0m\u001b[0mplacement\u001b[0m\u001b[1;33m,\u001b[0m \u001b[0mndim\u001b[0m\u001b[1;33m=\u001b[0m\u001b[0mndim\u001b[0m\u001b[1;33m)\u001b[0m\u001b[1;33m\u001b[0m\u001b[1;33m\u001b[0m\u001b[0m\n\u001b[0m\u001b[0;32m    295\u001b[0m \u001b[1;33m\u001b[0m\u001b[0m\n\u001b[0;32m    296\u001b[0m     \u001b[1;32mdef\u001b[0m \u001b[0m__repr__\u001b[0m\u001b[1;33m(\u001b[0m\u001b[0mself\u001b[0m\u001b[1;33m)\u001b[0m \u001b[1;33m->\u001b[0m \u001b[0mstr\u001b[0m\u001b[1;33m:\u001b[0m\u001b[1;33m\u001b[0m\u001b[1;33m\u001b[0m\u001b[0m\n",
      "\u001b[1;32m~\\AppData\\Roaming\\Python\\Python38\\site-packages\\pandas\\core\\internals\\blocks.py\u001b[0m in \u001b[0;36m__init__\u001b[1;34m(self, values, placement, ndim)\u001b[0m\n\u001b[0;32m    135\u001b[0m         \"\"\"\n\u001b[0;32m    136\u001b[0m         \u001b[1;31m# TODO(EA2D): ndim will be unnecessary with 2D EAs\u001b[0m\u001b[1;33m\u001b[0m\u001b[1;33m\u001b[0m\u001b[1;33m\u001b[0m\u001b[0m\n\u001b[1;32m--> 137\u001b[1;33m         \u001b[0mself\u001b[0m\u001b[1;33m.\u001b[0m\u001b[0mndim\u001b[0m \u001b[1;33m=\u001b[0m \u001b[0mself\u001b[0m\u001b[1;33m.\u001b[0m\u001b[0m_check_ndim\u001b[0m\u001b[1;33m(\u001b[0m\u001b[0mvalues\u001b[0m\u001b[1;33m,\u001b[0m \u001b[0mndim\u001b[0m\u001b[1;33m)\u001b[0m\u001b[1;33m\u001b[0m\u001b[1;33m\u001b[0m\u001b[0m\n\u001b[0m\u001b[0;32m    138\u001b[0m         \u001b[0mself\u001b[0m\u001b[1;33m.\u001b[0m\u001b[0mmgr_locs\u001b[0m \u001b[1;33m=\u001b[0m \u001b[0mplacement\u001b[0m\u001b[1;33m\u001b[0m\u001b[1;33m\u001b[0m\u001b[0m\n\u001b[0;32m    139\u001b[0m         \u001b[0mself\u001b[0m\u001b[1;33m.\u001b[0m\u001b[0mvalues\u001b[0m \u001b[1;33m=\u001b[0m \u001b[0mself\u001b[0m\u001b[1;33m.\u001b[0m\u001b[0m_maybe_coerce_values\u001b[0m\u001b[1;33m(\u001b[0m\u001b[0mvalues\u001b[0m\u001b[1;33m)\u001b[0m\u001b[1;33m\u001b[0m\u001b[1;33m\u001b[0m\u001b[0m\n",
      "\u001b[1;32m~\\AppData\\Roaming\\Python\\Python38\\site-packages\\pandas\\core\\internals\\blocks.py\u001b[0m in \u001b[0;36m_check_ndim\u001b[1;34m(self, values, ndim)\u001b[0m\n\u001b[0;32m    183\u001b[0m             \u001b[0mndim\u001b[0m \u001b[1;33m=\u001b[0m \u001b[0mvalues\u001b[0m\u001b[1;33m.\u001b[0m\u001b[0mndim\u001b[0m\u001b[1;33m\u001b[0m\u001b[1;33m\u001b[0m\u001b[0m\n\u001b[0;32m    184\u001b[0m \u001b[1;33m\u001b[0m\u001b[0m\n\u001b[1;32m--> 185\u001b[1;33m         \u001b[1;32mif\u001b[0m \u001b[0mself\u001b[0m\u001b[1;33m.\u001b[0m\u001b[0m_validate_ndim\u001b[0m \u001b[1;32mand\u001b[0m \u001b[0mvalues\u001b[0m\u001b[1;33m.\u001b[0m\u001b[0mndim\u001b[0m \u001b[1;33m!=\u001b[0m \u001b[0mndim\u001b[0m\u001b[1;33m:\u001b[0m\u001b[1;33m\u001b[0m\u001b[1;33m\u001b[0m\u001b[0m\n\u001b[0m\u001b[0;32m    186\u001b[0m             raise ValueError(\n\u001b[0;32m    187\u001b[0m                 \u001b[1;34m\"Wrong number of dimensions. \"\u001b[0m\u001b[1;33m\u001b[0m\u001b[1;33m\u001b[0m\u001b[0m\n",
      "\u001b[1;31mKeyboardInterrupt\u001b[0m: "
     ]
    }
   ],
   "source": [
    "fem = df[df['sex'] == 'female'][['family_name_used', 'given_name_used', 'nickname_used', 'full_name_used']].sum(axis=0)\n",
    "men = df[df['sex'] == 'male'][['family_name_used', 'given_name_used', 'nickname_used', 'full_name_used']].sum(axis=0)\n"
   ]
  },
  {
   "cell_type": "code",
   "execution_count": 71,
   "metadata": {},
   "outputs": [
    {
     "data": {
      "text/plain": [
       "(2614058.473977163,\n",
       " 0.0,\n",
       " 3,\n",
       " array([[1143129.6250698 ,   91943.00714317,  219928.93457171,\n",
       "          361015.43321531],\n",
       "        [7614170.3749302 ,  612414.99285683, 1464905.06542829,\n",
       "         2404655.56678469]]))"
      ]
     },
     "execution_count": 71,
     "metadata": {},
     "output_type": "execute_result"
    }
   ],
   "source": [
    "chi2_contingency(np.array([fem.values, men.values]))"
   ]
  },
  {
   "cell_type": "code",
   "execution_count": 82,
   "metadata": {},
   "outputs": [],
   "source": [
    "ms = df[df['sex'] == 'male'][['family_name_used', 'given_name_used', 'full_name_used', 'nickname_used']].mean()\n",
    "fs = df[df['sex'] == 'female'][['family_name_used', 'given_name_used', 'full_name_used', 'nickname_used']].mean()"
   ]
  },
  {
   "cell_type": "code",
   "execution_count": 83,
   "metadata": {},
   "outputs": [
    {
     "data": {
      "image/png": "[encoded data removed]",
      "text/plain": [
       "<Figure size 576x360 with 1 Axes>"
      ]
     },
     "metadata": {
      "needs_background": "light"
     },
     "output_type": "display_data"
    }
   ],
   "source": [
    "N = 4\n",
    "ind = np.arange(N)  # the x locations for the groups\n",
    "width = 0.35       # the width of the bars\n",
    "\n",
    "fig = plt.figure(figsize=(8,5))\n",
    "ax = fig.add_subplot(111)\n",
    "rects1 = ax.bar(ind, ms, width, color=MEN, label='Men', alpha=0.8)\n",
    "rects2 = ax.bar(ind+width, fs, width, color=WOMEN, label='Women')\n",
    "\n",
    "distance = 0.25\n",
    "dub_w = 0.16\n",
    "\n",
    "# for i in range(N):\n",
    "#     plt.axhline(y=E_avgs[0][i], xmin=i*distance+0.045, xmax=(i*distance+0.045)+dub_w, color='red')\n",
    "\n",
    "# plt.axhline(y=0, xmin=0, xmax=0, color='red', label=\"Expected\")\n",
    "# add some\n",
    "ax.set_ylabel('Percentage of use')\n",
    "ax.set_title('Name used in reference to politician')\n",
    "ax.set_xticks(ind + width / 2)\n",
    "ax.set_xticklabels( ('Surname', 'Given name', 'Full name', 'Other') )\n",
    "\n",
    "ax.legend()\n",
    "plt.savefig(\"Nameuse2.png\")\n",
    "plt.show()"
   ]
  },
  {
   "cell_type": "markdown",
   "metadata": {},
   "source": [
    "# CDF plot"
   ]
  },
  {
   "cell_type": "code",
   "execution_count": 79,
   "metadata": {},
   "outputs": [],
   "source": [
    "import matplotlib.pyplot as plt\n",
    "import numpy as np\n",
    "fems = df[df['sex'] == 'female']\n",
    "mens = df[df['sex'] == 'male']\n",
    "men_ct = mens.groupby('NEL').count()['body']\n",
    "fem_ct = fems.groupby('NEL').count()['body']"
   ]
  },
  {
   "cell_type": "code",
   "execution_count": 80,
   "metadata": {},
   "outputs": [
    {
     "data": {
      "image/png": "[encoded data removed]",
      "text/plain": [
       "<Figure size 432x288 with 1 Axes>"
      ]
     },
     "metadata": {
      "needs_background": "light"
     },
     "output_type": "display_data"
    }
   ],
   "source": [
    "values, base = np.histogram(men_ct, bins=50000)\n",
    "cumulative = np.cumsum(values)/values.sum()\n",
    "### plot the cumulative function\n",
    "plt.plot(base[:-1], 1-cumulative, c=MEN, label=\"Men\")\n",
    "values, base = np.histogram(fem_ct, bins=50000)\n",
    "cumulative = np.cumsum(values)/values.sum()\n",
    "## plot the cumulative function\n",
    "plt.plot(base[:-1], 1-cumulative, c=WOMEN, label= \"Women\")\n",
    "plt.xlabel(\"In-degree (D)\")\n",
    "plt.title(\"Cumulative CDFs of Entity In-degree\")\n",
    "plt.ylabel(\"P(d > D)\")\n",
    "plt.xscale(\"log\")\n",
    "plt.yscale(\"log\")\n",
    "plt.legend()\n",
    "plt.savefig(\"CDFs.png\")\n",
    "plt.show()"
   ]
  },
  {
   "cell_type": "code",
   "execution_count": null,
   "metadata": {},
   "outputs": [],
   "source": [
    "from scipy.stats import mannwhitneyu, ks_2samp\n",
    "\n",
    "print(mannwhitneyu(men_ct, fem_ct, alternative='two-sided'))\n",
    "print(ks_2samp(men_ct, fem_ct))"
   ]
  },
  {
   "cell_type": "markdown",
   "metadata": {},
   "source": [
    "# Network Analysis"
   ]
  },
  {
   "cell_type": "code",
   "execution_count": 3,
   "metadata": {},
   "outputs": [],
   "source": [
    "multi = df.groupby('id').filter(lambda group: len(group) > 1)"
   ]
  },
  {
   "cell_type": "code",
   "execution_count": 4,
   "metadata": {},
   "outputs": [
    {
     "data": {
      "text/plain": [
       "male                  4815262\n",
       "female                 809175\n",
       "transgender female         71\n",
       "genderfluid                51\n",
       "Name: sex, dtype: int64"
      ]
     },
     "execution_count": 4,
     "metadata": {},
     "output_type": "execute_result"
    }
   ],
   "source": [
    "multi.sex.value_counts()"
   ]
  },
  {
   "cell_type": "code",
   "execution_count": 263,
   "metadata": {},
   "outputs": [
    {
     "name": "stdout",
     "output_type": "stream",
     "text": [
      "Total unique comments 2317117\n",
      "Total DF size 5624559\n"
     ]
    }
   ],
   "source": [
    "print(\"Total unique comments\", len(multi['id'].unique()))\n",
    "print(\"Total DF size\", multi.shape[0])"
   ]
  },
  {
   "cell_type": "code",
   "execution_count": 5,
   "metadata": {},
   "outputs": [],
   "source": [
    "import pandas as pd\n",
    "from ast import literal_eval\n",
    "import glob\n",
    "import numpy as np\n",
    "from scipy.stats import ttest_ind\n",
    "\n",
    "def assortivity(G1, G2, multi):\n",
    "    # assumes how many men/women are mentioned matters!\n",
    "    #multi = df.groupby('id').filter(lambda group: len(group) > 1)\n",
    "    g1_ids = multi[multi['sex'] == G1]['id']\n",
    "    from_g1 = multi[multi['id'].isin(set(g1_ids))]\n",
    "    P_g2_fromg1 = from_g1[from_g1['sex'] == G2].shape[0]/ len(g1_ids) ## should this be a set or not?\n",
    "    return(P_g2_fromg1)\n",
    "\n",
    "def cis_assortivity(G, multi):\n",
    "    # Assumes the NUMBER of connections for each ID doesn't matter\n",
    "    g_ids = set(multi[multi['sex'] == G]['id'])\n",
    "    ## see where 'female' in value counts is > 2\n",
    "    subset = multi.groupby(['id','sex'])['NEL'].count().unstack()\n",
    "    P_fromgtog = (subset[subset[G] > 1.0][G].sum() - subset[subset[G] > 1.0][G].shape[0])/ len(g_ids)\n",
    "    #P_g = subset[subset[G] > 0.0].shape[0]/ len(set(multi['id']))\n",
    "    #print(P_fromgtog, P_g)\n",
    "    return P_fromgtog"
   ]
  },
  {
   "cell_type": "code",
   "execution_count": 265,
   "metadata": {},
   "outputs": [
    {
     "name": "stdout",
     "output_type": "stream",
     "text": [
      "Male to female 0.1543432112312892\n",
      "Female to male 1.3752525720641393\n",
      "Female to female 0.1441129104094586\n",
      "Male to male 1.1069354879642117\n"
     ]
    }
   ],
   "source": [
    "print('Male to female', assortivity('male','female', multi))\n",
    "print('Female to male', assortivity('female','male', multi))\n",
    "print('Female to female', cis_assortivity('female',multi))\n",
    "print('Male to male', cis_assortivity('male',multi))"
   ]
  },
  {
   "cell_type": "code",
   "execution_count": 10,
   "metadata": {},
   "outputs": [],
   "source": []
  },
  {
   "cell_type": "code",
   "execution_count": 6,
   "metadata": {},
   "outputs": [],
   "source": [
    "mf_rec = assortivity('male','female', multi)\n",
    "fm_rec = assortivity('female','male', multi)\n",
    "mm_rec = cis_assortivity('male', multi)\n",
    "ff_rec = cis_assortivity('female', multi)"
   ]
  },
  {
   "cell_type": "code",
   "execution_count": 7,
   "metadata": {},
   "outputs": [],
   "source": [
    "import matplotlib.pyplot as plt\n",
    "with open(\"male_male.txt\", \"r+\") as file:\n",
    "    raw_mm = file.readlines()\n",
    "    mm = [float(x[:-2]) for x in raw_mm]\n",
    "    \n",
    "with open(\"female_male.txt\", \"r+\") as file:\n",
    "    raw_fm = file.readlines()\n",
    "    fm = [float(x[:-2]) for x in raw_fm]\n",
    "\n",
    "with open(\"male_female.txt\", \"r+\") as file:\n",
    "    raw_mf = file.readlines()\n",
    "    mf = [float(x[:-2]) for x in raw_mf]\n",
    "\n",
    "with open(\"female_female.txt\", \"r+\") as file:\n",
    "    raw_ff = file.readlines()\n",
    "    ff = [float(x[:-2]) for x in raw_ff]"
   ]
  },
  {
   "cell_type": "code",
   "execution_count": 8,
   "metadata": {},
   "outputs": [],
   "source": [
    "def get_pvalue(obs,x,p, ascending=True):\n",
    "    for i, value in enumerate(x):\n",
    "        if value > obs:\n",
    "            return p[i-1]"
   ]
  },
  {
   "cell_type": "code",
   "execution_count": 76,
   "metadata": {},
   "outputs": [
    {
     "name": "stdout",
     "output_type": "stream",
     "text": [
      "female to female 7.432768389358894e-66\n",
      "male to female 2.420486330769877e-126\n",
      "female to male 2.2554098840664257e-30\n",
      "male to male 2.8979930055486007e-179\n"
     ]
    },
    {
     "data": {
      "image/png": "[encoded data removed]",
      "text/plain": [
       "<Figure size 720x504 with 4 Axes>"
      ]
     },
     "metadata": {
      "needs_background": "light"
     },
     "output_type": "display_data"
    }
   ],
   "source": [
    "fig, ax = plt.subplots(2,2, figsize=(10,7))\n",
    "fig.suptitle(\"Recorded $\\mathregular{L(g_{given},g_{add})}$ against null model distributions\", size=16)\n",
    "\n",
    "#ax[0][0].title(\"Women, given woman-containing\")\n",
    "mu, std = norm.fit(ff)\n",
    "ax[0][0].hist(ff, alpha=0.5,density=True, color=WOMEN, hatch='..', edgecolor=WOMEN_NEG, fill=True)\n",
    "ax[0][0].axvline(ff_rec, color=ACCENT)\n",
    "# Plot the PDF.\n",
    "xmin, xmax = ax[0][0].get_xlim()\n",
    "x = np.linspace(xmin, xmax, 100)\n",
    "p = norm.pdf(x, mu, std)\n",
    "ax[0][0].set_yticks([])\n",
    "ax[0][0].set_ylabel(\"Additional female entities\", size=12, color=WOMEN_NEG)\n",
    "ax[0][0].set_title(\"Given a female entity\", size=12, color=WOMEN)\n",
    "ax[0][0].plot(x, p, 'grey', linewidth=2, alpha=0.8)\n",
    "print(\"female to female\", get_pvalue(ff_rec,x,p))\n",
    "\n",
    "mu, std = norm.fit(mf)\n",
    "ax[0][1].hist(mf, alpha=0.5,density=True, color=MEN, edgecolor=WOMEN_NEG, hatch='..')\n",
    "ax[0][1].axvline(mf_rec, color=ACCENT)\n",
    "# Plot the PDF.\n",
    "xmin, xmax = ax[0][1].get_xlim()\n",
    "x = np.linspace(xmin, xmax, 100)\n",
    "p = norm.pdf(x, mu, std)\n",
    "ax[0][1].set_yticks([])\n",
    "ax[0][1].set_title(\"Given a male entity\", size=12,color=MEN, alpha=0.5)\n",
    "ax[0][1].plot(x, p, 'grey', linewidth=2, alpha=0.8)\n",
    "print(\"male to female\" ,get_pvalue(mf_rec,x,p))\n",
    "\n",
    "mu, std = norm.fit(fm)\n",
    "ax[1][0].hist(fm, alpha=0.5,density=True, color=WOMEN, edgecolor=MEN_NEG, hatch='..')\n",
    "ax[1][0].axvline(fm_rec, color=ACCENT)\n",
    "# Plot the PDF.\n",
    "xmin, xmax = ax[1][0].get_xlim()\n",
    "x = np.linspace(xmin, xmax, 100)\n",
    "p = norm.pdf(x, mu, std)\n",
    "ax[1][0].set_xticks(np.arange(xmin,xmax,0.005))\n",
    "ax[1][0].set_yticks([])\n",
    "ax[1][0].set_ylabel(\"Additional male entities\", size=12, color=MEN_NEG)\n",
    "ax[1][0].plot(x, p, 'grey', linewidth=2, alpha=0.8)\n",
    "print(\"female to male\" , get_pvalue(fm_rec,x,p))\n",
    "\n",
    "mu, std = norm.fit(mm)\n",
    "ax[1][1].hist(mm, alpha=0.5,density=True, color=MEN, edgecolor=MEN_NEG, hatch='..')\n",
    "ax[1][1].axvline(mm_rec, color=ACCENT)\n",
    "# Plot the PDF.\n",
    "xmin, xmax = ax[1][1].get_xlim()\n",
    "x = np.linspace(xmin, xmax, 100)\n",
    "p = norm.pdf(x, mu, std)\n",
    "ax[1][1].set_yticks([])\n",
    "ax[1][1].plot(x, p, 'grey', linewidth=2, alpha=0.8)\n",
    "print(\"male to male\" , get_pvalue(mm_rec,x,p))\n",
    "\n",
    "\n",
    "# plt.axvline(cis_assortivity('female',multi[multi['subreddit'].isin(left)]), color='blue', label=\"Left\")\n",
    "# plt.axvline(cis_assortivity('female',multi[multi['subreddit'].isin(right)]), color='red', label=\"Right\")\n",
    "# plt.axvline(cis_assortivity('female',multi[multi['subreddit'].isin(alt_right)]), color='orange', label=\"Alt-right\")\n",
    "plt.savefig(\"null_models.png\")\n",
    "plt.show()"
   ]
  },
  {
   "cell_type": "code",
   "execution_count": 90,
   "metadata": {},
   "outputs": [],
   "source": [
    "left = ['Liberal', 'SocialDemocracy', 'socialism', 'alltheleft', 'neoliberal', 'democrats']\n",
    "right = ['Libertarian', 'Conservative', 'Republican']\n",
    "alt_right = ['The_Donald']\n",
    "maps = {}\n",
    "for sr in left:\n",
    "    maps[sr] = 'left'\n",
    "for sr in right:\n",
    "    maps[sr] = 'right'\n",
    "maps['The_Donald'] = 'alt_right'\n",
    "df['group'] = df['subreddit'].map(maps)\n",
    "df['group'].fillna('non-political')\n",
    "df[['id','sex','group','Valence','Dominance','Arousal']][df['sex'].isin(['male','female'])].groupby('id').filter(lambda group: len(group) == 1).to_csv(\"sg_r.csv\")"
   ]
  },
  {
   "cell_type": "code",
   "execution_count": 179,
   "metadata": {},
   "outputs": [
    {
     "ename": "NameError",
     "evalue": "name 'df' is not defined",
     "output_type": "error",
     "traceback": [
      "\u001b[1;31m---------------------------------------------------------------------------\u001b[0m",
      "\u001b[1;31mNameError\u001b[0m                                 Traceback (most recent call last)",
      "\u001b[1;32m<ipython-input-179-633337079cd0>\u001b[0m in \u001b[0;36m<module>\u001b[1;34m\u001b[0m\n\u001b[1;32m----> 1\u001b[1;33m \u001b[0mdf\u001b[0m\u001b[1;33m.\u001b[0m\u001b[0mshape\u001b[0m\u001b[1;33m\u001b[0m\u001b[1;33m\u001b[0m\u001b[0m\n\u001b[0m",
      "\u001b[1;31mNameError\u001b[0m: name 'df' is not defined"
     ]
    }
   ],
   "source": [
    "df.shape"
   ]
  },
  {
   "cell_type": "code",
   "execution_count": null,
   "metadata": {},
   "outputs": [],
   "source": []
  }
 ],
 "metadata": {
  "kernelspec": {
   "display_name": "Python 3",
   "language": "python",
   "name": "python3"
  },
  "language_info": {
   "codemirror_mode": {
    "name": "ipython",
    "version": 3
   },
   "file_extension": ".py",
   "mimetype": "text/x-python",
   "name": "python",
   "nbconvert_exporter": "python",
   "pygments_lexer": "ipython3",
   "version": "3.8.5"
  }
 },
 "nbformat": 4,
 "nbformat_minor": 4
}
