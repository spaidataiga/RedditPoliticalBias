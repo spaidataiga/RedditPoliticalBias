{
 "cells": [
  {
   "cell_type": "code",
   "execution_count": null,
   "metadata": {},
   "outputs": [],
   "source": [
    "import pandas as pd\n",
    "from ast import literal_eval\n",
    "import glob\n",
    "import numpy as np"
   ]
  },
  {
   "cell_type": "code",
   "execution_count": null,
   "metadata": {},
   "outputs": [],
   "source": [
    "dfs = []\n",
    "for file in glob.glob(\"C:/Users/vanki/201*.csv\"): ## Collect dataset\n",
    "    dfs.append(pd.read_csv(file))\n",
    "    \n",
    "# # Remove any corruptions in dataset\n",
    "# df = pd.concat(dfs).drop(columns=[\"Unnamed: 0\"])\n",
    "# df.dropna(subset=['Adjectives'], inplace=True) # somekind of mistake\n",
    "\n",
    "df = df[df['sex'].isin(['male','female'])]\n",
    "\n",
    "print(df.shape)\n",
    "print(df.drop_duplicates(subset=['id']).shape) ## Total number of comments\n",
    "print(df.drop_duplicates(subset=['id'], keep=False).shape) ## Number of comments about a singular person"
   ]
  },
  {
   "cell_type": "code",
   "execution_count": null,
   "metadata": {},
   "outputs": [],
   "source": [
    "## Comments per subreddit\n",
    "df.subreddit.value_counts()"
   ]
  },
  {
   "cell_type": "markdown",
   "metadata": {},
   "source": [
    "# \"Multi\"-Comments\n",
    "Comments about multiple entities."
   ]
  },
  {
   "cell_type": "code",
   "execution_count": null,
   "metadata": {},
   "outputs": [],
   "source": [
    "multi = df.groupby('id').filter(lambda group: len(group) > 1)"
   ]
  },
  {
   "cell_type": "code",
   "execution_count": null,
   "metadata": {},
   "outputs": [],
   "source": [
    "multi.sex.value_counts()"
   ]
  },
  {
   "cell_type": "code",
   "execution_count": null,
   "metadata": {},
   "outputs": [],
   "source": [
    "print(\"Total unique comments\", len(multi['id'].unique()))\n",
    "print(\"Total DF size\", multi.shape[0])"
   ]
  }
 ],
 "metadata": {
  "kernelspec": {
   "display_name": "Python 3",
   "language": "python",
   "name": "python3"
  },
  "language_info": {
   "codemirror_mode": {
    "name": "ipython",
    "version": 3
   },
   "file_extension": ".py",
   "mimetype": "text/x-python",
   "name": "python",
   "nbconvert_exporter": "python",
   "pygments_lexer": "ipython3",
   "version": "3.8.5"
  }
 },
 "nbformat": 4,
 "nbformat_minor": 4
}
