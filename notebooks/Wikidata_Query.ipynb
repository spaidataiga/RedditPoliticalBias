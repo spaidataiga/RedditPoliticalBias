{
 "cells": [
  {
   "cell_type": "code",
   "execution_count": 29,
   "metadata": {},
   "outputs": [],
   "source": [
    "from SPARQLWrapper import SPARQLWrapper, JSON\n",
    "import json"
   ]
  },
  {
   "cell_type": "code",
   "execution_count": 30,
   "metadata": {},
   "outputs": [
    {
     "name": "stdout",
     "output_type": "stream",
     "text": [
      "1900-01-01 1901-01-01\n",
      "1901-01-01 1902-01-01\n",
      "1902-01-01 1903-01-01\n",
      "1903-01-01 1904-01-01\n",
      "1904-01-01 1905-01-01\n",
      "1905-01-01 1906-01-01\n",
      "1906-01-01 1907-01-01\n",
      "1907-01-01 1908-01-01\n",
      "1908-01-01 1909-01-01\n",
      "1909-01-01 1910-01-01\n"
     ]
    },
    {
     "ename": "JSONDecodeError",
     "evalue": "Invalid control character at: line 264963 column 45 (char 7125050)",
     "output_type": "error",
     "traceback": [
      "\u001b[1;31m---------------------------------------------------------------------------\u001b[0m",
      "\u001b[1;31mJSONDecodeError\u001b[0m                           Traceback (most recent call last)",
      "\u001b[1;32m<ipython-input-30-749a87ba4990>\u001b[0m in \u001b[0;36m<module>\u001b[1;34m\u001b[0m\n\u001b[0;32m     28\u001b[0m     \u001b[0msparql\u001b[0m\u001b[1;33m.\u001b[0m\u001b[0msetQuery\u001b[0m\u001b[1;33m(\u001b[0m\u001b[0mquery_string\u001b[0m\u001b[1;33m)\u001b[0m\u001b[1;33m\u001b[0m\u001b[1;33m\u001b[0m\u001b[0m\n\u001b[0;32m     29\u001b[0m     \u001b[0msparql\u001b[0m\u001b[1;33m.\u001b[0m\u001b[0msetReturnFormat\u001b[0m\u001b[1;33m(\u001b[0m\u001b[0mJSON\u001b[0m\u001b[1;33m)\u001b[0m\u001b[1;33m\u001b[0m\u001b[1;33m\u001b[0m\u001b[0m\n\u001b[1;32m---> 30\u001b[1;33m     \u001b[0mresults\u001b[0m \u001b[1;33m=\u001b[0m \u001b[0msparql\u001b[0m\u001b[1;33m.\u001b[0m\u001b[0mquery\u001b[0m\u001b[1;33m(\u001b[0m\u001b[1;33m)\u001b[0m\u001b[1;33m.\u001b[0m\u001b[0mconvert\u001b[0m\u001b[1;33m(\u001b[0m\u001b[1;33m)\u001b[0m\u001b[1;33m\u001b[0m\u001b[1;33m\u001b[0m\u001b[0m\n\u001b[0m\u001b[0;32m     31\u001b[0m     \u001b[1;32mfor\u001b[0m \u001b[0mpolitician\u001b[0m \u001b[1;32min\u001b[0m \u001b[0mresults\u001b[0m\u001b[1;33m[\u001b[0m\u001b[1;34m'results'\u001b[0m\u001b[1;33m]\u001b[0m\u001b[1;33m[\u001b[0m\u001b[1;34m'bindings'\u001b[0m\u001b[1;33m]\u001b[0m\u001b[1;33m:\u001b[0m\u001b[1;33m\u001b[0m\u001b[1;33m\u001b[0m\u001b[0m\n\u001b[0;32m     32\u001b[0m         \u001b[0mdata\u001b[0m \u001b[1;33m=\u001b[0m \u001b[1;33m{\u001b[0m\u001b[1;33m}\u001b[0m\u001b[1;33m\u001b[0m\u001b[1;33m\u001b[0m\u001b[0m\n",
      "\u001b[1;32m~\\anaconda3\\lib\\site-packages\\SPARQLWrapper\\Wrapper.py\u001b[0m in \u001b[0;36mconvert\u001b[1;34m(self)\u001b[0m\n\u001b[0;32m   1327\u001b[0m             \u001b[1;32melif\u001b[0m \u001b[0m_content_type_in_list\u001b[0m\u001b[1;33m(\u001b[0m\u001b[0mct\u001b[0m\u001b[1;33m,\u001b[0m \u001b[0m_SPARQL_JSON\u001b[0m\u001b[1;33m)\u001b[0m\u001b[1;33m:\u001b[0m\u001b[1;33m\u001b[0m\u001b[1;33m\u001b[0m\u001b[0m\n\u001b[0;32m   1328\u001b[0m                 \u001b[0m_validate_format\u001b[0m\u001b[1;33m(\u001b[0m\u001b[1;34m\"JSON\"\u001b[0m\u001b[1;33m,\u001b[0m \u001b[1;33m[\u001b[0m\u001b[0mJSON\u001b[0m\u001b[1;33m]\u001b[0m\u001b[1;33m,\u001b[0m \u001b[0mct\u001b[0m\u001b[1;33m,\u001b[0m \u001b[0mself\u001b[0m\u001b[1;33m.\u001b[0m\u001b[0mrequestedFormat\u001b[0m\u001b[1;33m)\u001b[0m\u001b[1;33m\u001b[0m\u001b[1;33m\u001b[0m\u001b[0m\n\u001b[1;32m-> 1329\u001b[1;33m                 \u001b[1;32mreturn\u001b[0m \u001b[0mself\u001b[0m\u001b[1;33m.\u001b[0m\u001b[0m_convertJSON\u001b[0m\u001b[1;33m(\u001b[0m\u001b[1;33m)\u001b[0m\u001b[1;33m\u001b[0m\u001b[1;33m\u001b[0m\u001b[0m\n\u001b[0m\u001b[0;32m   1330\u001b[0m             \u001b[1;32melif\u001b[0m \u001b[0m_content_type_in_list\u001b[0m\u001b[1;33m(\u001b[0m\u001b[0mct\u001b[0m\u001b[1;33m,\u001b[0m \u001b[0m_RDF_XML\u001b[0m\u001b[1;33m)\u001b[0m\u001b[1;33m:\u001b[0m\u001b[1;33m\u001b[0m\u001b[1;33m\u001b[0m\u001b[0m\n\u001b[0;32m   1331\u001b[0m                 \u001b[0m_validate_format\u001b[0m\u001b[1;33m(\u001b[0m\u001b[1;34m\"RDF/XML\"\u001b[0m\u001b[1;33m,\u001b[0m \u001b[1;33m[\u001b[0m\u001b[0mRDF\u001b[0m\u001b[1;33m,\u001b[0m \u001b[0mXML\u001b[0m\u001b[1;33m,\u001b[0m \u001b[0mRDFXML\u001b[0m\u001b[1;33m]\u001b[0m\u001b[1;33m,\u001b[0m \u001b[0mct\u001b[0m\u001b[1;33m,\u001b[0m \u001b[0mself\u001b[0m\u001b[1;33m.\u001b[0m\u001b[0mrequestedFormat\u001b[0m\u001b[1;33m)\u001b[0m\u001b[1;33m\u001b[0m\u001b[1;33m\u001b[0m\u001b[0m\n",
      "\u001b[1;32m~\\anaconda3\\lib\\site-packages\\SPARQLWrapper\\Wrapper.py\u001b[0m in \u001b[0;36m_convertJSON\u001b[1;34m(self)\u001b[0m\n\u001b[0;32m   1199\u001b[0m         \u001b[1;33m:\u001b[0m\u001b[0mrtype\u001b[0m\u001b[1;33m:\u001b[0m \u001b[0mdict\u001b[0m\u001b[1;33m\u001b[0m\u001b[1;33m\u001b[0m\u001b[0m\n\u001b[0;32m   1200\u001b[0m         \"\"\"\n\u001b[1;32m-> 1201\u001b[1;33m         \u001b[1;32mreturn\u001b[0m \u001b[0mjson\u001b[0m\u001b[1;33m.\u001b[0m\u001b[0mloads\u001b[0m\u001b[1;33m(\u001b[0m\u001b[0mself\u001b[0m\u001b[1;33m.\u001b[0m\u001b[0mresponse\u001b[0m\u001b[1;33m.\u001b[0m\u001b[0mread\u001b[0m\u001b[1;33m(\u001b[0m\u001b[1;33m)\u001b[0m\u001b[1;33m.\u001b[0m\u001b[0mdecode\u001b[0m\u001b[1;33m(\u001b[0m\u001b[1;34m\"utf-8\"\u001b[0m\u001b[1;33m)\u001b[0m\u001b[1;33m)\u001b[0m\u001b[1;33m\u001b[0m\u001b[1;33m\u001b[0m\u001b[0m\n\u001b[0m\u001b[0;32m   1202\u001b[0m \u001b[1;33m\u001b[0m\u001b[0m\n\u001b[0;32m   1203\u001b[0m     \u001b[1;32mdef\u001b[0m \u001b[0m_convertXML\u001b[0m\u001b[1;33m(\u001b[0m\u001b[0mself\u001b[0m\u001b[1;33m)\u001b[0m\u001b[1;33m:\u001b[0m\u001b[1;33m\u001b[0m\u001b[1;33m\u001b[0m\u001b[0m\n",
      "\u001b[1;32m~\\anaconda3\\lib\\json\\__init__.py\u001b[0m in \u001b[0;36mloads\u001b[1;34m(s, cls, object_hook, parse_float, parse_int, parse_constant, object_pairs_hook, **kw)\u001b[0m\n\u001b[0;32m    355\u001b[0m             \u001b[0mparse_int\u001b[0m \u001b[1;32mis\u001b[0m \u001b[1;32mNone\u001b[0m \u001b[1;32mand\u001b[0m \u001b[0mparse_float\u001b[0m \u001b[1;32mis\u001b[0m \u001b[1;32mNone\u001b[0m \u001b[1;32mand\u001b[0m\u001b[1;33m\u001b[0m\u001b[1;33m\u001b[0m\u001b[0m\n\u001b[0;32m    356\u001b[0m             parse_constant is None and object_pairs_hook is None and not kw):\n\u001b[1;32m--> 357\u001b[1;33m         \u001b[1;32mreturn\u001b[0m \u001b[0m_default_decoder\u001b[0m\u001b[1;33m.\u001b[0m\u001b[0mdecode\u001b[0m\u001b[1;33m(\u001b[0m\u001b[0ms\u001b[0m\u001b[1;33m)\u001b[0m\u001b[1;33m\u001b[0m\u001b[1;33m\u001b[0m\u001b[0m\n\u001b[0m\u001b[0;32m    358\u001b[0m     \u001b[1;32mif\u001b[0m \u001b[0mcls\u001b[0m \u001b[1;32mis\u001b[0m \u001b[1;32mNone\u001b[0m\u001b[1;33m:\u001b[0m\u001b[1;33m\u001b[0m\u001b[1;33m\u001b[0m\u001b[0m\n\u001b[0;32m    359\u001b[0m         \u001b[0mcls\u001b[0m \u001b[1;33m=\u001b[0m \u001b[0mJSONDecoder\u001b[0m\u001b[1;33m\u001b[0m\u001b[1;33m\u001b[0m\u001b[0m\n",
      "\u001b[1;32m~\\anaconda3\\lib\\json\\decoder.py\u001b[0m in \u001b[0;36mdecode\u001b[1;34m(self, s, _w)\u001b[0m\n\u001b[0;32m    335\u001b[0m \u001b[1;33m\u001b[0m\u001b[0m\n\u001b[0;32m    336\u001b[0m         \"\"\"\n\u001b[1;32m--> 337\u001b[1;33m         \u001b[0mobj\u001b[0m\u001b[1;33m,\u001b[0m \u001b[0mend\u001b[0m \u001b[1;33m=\u001b[0m \u001b[0mself\u001b[0m\u001b[1;33m.\u001b[0m\u001b[0mraw_decode\u001b[0m\u001b[1;33m(\u001b[0m\u001b[0ms\u001b[0m\u001b[1;33m,\u001b[0m \u001b[0midx\u001b[0m\u001b[1;33m=\u001b[0m\u001b[0m_w\u001b[0m\u001b[1;33m(\u001b[0m\u001b[0ms\u001b[0m\u001b[1;33m,\u001b[0m \u001b[1;36m0\u001b[0m\u001b[1;33m)\u001b[0m\u001b[1;33m.\u001b[0m\u001b[0mend\u001b[0m\u001b[1;33m(\u001b[0m\u001b[1;33m)\u001b[0m\u001b[1;33m)\u001b[0m\u001b[1;33m\u001b[0m\u001b[1;33m\u001b[0m\u001b[0m\n\u001b[0m\u001b[0;32m    338\u001b[0m         \u001b[0mend\u001b[0m \u001b[1;33m=\u001b[0m \u001b[0m_w\u001b[0m\u001b[1;33m(\u001b[0m\u001b[0ms\u001b[0m\u001b[1;33m,\u001b[0m \u001b[0mend\u001b[0m\u001b[1;33m)\u001b[0m\u001b[1;33m.\u001b[0m\u001b[0mend\u001b[0m\u001b[1;33m(\u001b[0m\u001b[1;33m)\u001b[0m\u001b[1;33m\u001b[0m\u001b[1;33m\u001b[0m\u001b[0m\n\u001b[0;32m    339\u001b[0m         \u001b[1;32mif\u001b[0m \u001b[0mend\u001b[0m \u001b[1;33m!=\u001b[0m \u001b[0mlen\u001b[0m\u001b[1;33m(\u001b[0m\u001b[0ms\u001b[0m\u001b[1;33m)\u001b[0m\u001b[1;33m:\u001b[0m\u001b[1;33m\u001b[0m\u001b[1;33m\u001b[0m\u001b[0m\n",
      "\u001b[1;32m~\\anaconda3\\lib\\json\\decoder.py\u001b[0m in \u001b[0;36mraw_decode\u001b[1;34m(self, s, idx)\u001b[0m\n\u001b[0;32m    351\u001b[0m         \"\"\"\n\u001b[0;32m    352\u001b[0m         \u001b[1;32mtry\u001b[0m\u001b[1;33m:\u001b[0m\u001b[1;33m\u001b[0m\u001b[1;33m\u001b[0m\u001b[0m\n\u001b[1;32m--> 353\u001b[1;33m             \u001b[0mobj\u001b[0m\u001b[1;33m,\u001b[0m \u001b[0mend\u001b[0m \u001b[1;33m=\u001b[0m \u001b[0mself\u001b[0m\u001b[1;33m.\u001b[0m\u001b[0mscan_once\u001b[0m\u001b[1;33m(\u001b[0m\u001b[0ms\u001b[0m\u001b[1;33m,\u001b[0m \u001b[0midx\u001b[0m\u001b[1;33m)\u001b[0m\u001b[1;33m\u001b[0m\u001b[1;33m\u001b[0m\u001b[0m\n\u001b[0m\u001b[0;32m    354\u001b[0m         \u001b[1;32mexcept\u001b[0m \u001b[0mStopIteration\u001b[0m \u001b[1;32mas\u001b[0m \u001b[0merr\u001b[0m\u001b[1;33m:\u001b[0m\u001b[1;33m\u001b[0m\u001b[1;33m\u001b[0m\u001b[0m\n\u001b[0;32m    355\u001b[0m             \u001b[1;32mraise\u001b[0m \u001b[0mJSONDecodeError\u001b[0m\u001b[1;33m(\u001b[0m\u001b[1;34m\"Expecting value\"\u001b[0m\u001b[1;33m,\u001b[0m \u001b[0ms\u001b[0m\u001b[1;33m,\u001b[0m \u001b[0merr\u001b[0m\u001b[1;33m.\u001b[0m\u001b[0mvalue\u001b[0m\u001b[1;33m)\u001b[0m \u001b[1;32mfrom\u001b[0m \u001b[1;32mNone\u001b[0m\u001b[1;33m\u001b[0m\u001b[1;33m\u001b[0m\u001b[0m\n",
      "\u001b[1;31mJSONDecodeError\u001b[0m: Invalid control character at: line 264963 column 45 (char 7125050)"
     ]
    }
   ],
   "source": [
    "sparql = SPARQLWrapper(\"https://query.wikidata.org/sparql\")\n",
    "politicians=[]\n",
    "for i in range(99): # from 1900 to 1999\n",
    "    query_string = \"\"\"\n",
    "        SELECT ?politician ?politicianLabel ?givenname ?givennameLabel ?familyname ?familynameLabel ?nickname ?nicknameLabel \n",
    "        ?pseudonym ?pseudonymLabel  ?ethnicity ?ethnicityLabel ?party ?partyLabel ?positionheld ?positionheldLabel\n",
    "        ?origin ?originLabel ?DOB ?DOBLabel ?sex_or_gender ?sex_or_genderLabel WHERE {\n",
    "        SERVICE wikibase:label { \n",
    "            bd:serviceParam wikibase:language \"[AUTO_LANGUAGE],en\". \n",
    "        }\n",
    "        ?politician wdt:P106 wd:Q82955;\n",
    "            wdt:P569 ?birth.\n",
    "        FILTER(?birth >= \"%s\"^^xsd:dateTime && ?birth < \"%s\"^^xsd:dateTime)\n",
    "        OPTIONAL { ?politician wdt:P735 ?givenname. }\n",
    "        OPTIONAL { ?politician wdt:P734 ?familyname. }\n",
    "        OPTIONAL { ?politician wdt:P1449 ?nickname. }\n",
    "        OPTIONAL { ?politician wdt:P742 ?pseudonym. }\n",
    "        OPTIONAL { ?politician wdt:P172 ?ethnicity. }\n",
    "        OPTIONAL { ?politician wdt:P102 ?party. }\n",
    "        OPTIONAL { ?politician wdt:P39 ?positionheld. }\n",
    "        OPTIONAL { ?politician wdt:P27 ?origin. }\n",
    "        OPTIONAL { ?politician wdt:P569 ?DOB. }\n",
    "        OPTIONAL { ?politician wdt:P21 ?sex_or_gender. }\n",
    "\n",
    "        }\n",
    "      \"\"\" % (f\"19{i:02}-01-01\", f\"19{(1+i):02}-01-01\")\n",
    "    print(f\"19{i:02}-01-01\", f\"19{(1+i):02}-01-01\")\n",
    "    sparql.setQuery(query_string)\n",
    "    sparql.setReturnFormat(JSON)\n",
    "    results = sparql.query().convert()\n",
    "    for politician in results['results']['bindings']:\n",
    "        data = {}\n",
    "        data['id'] = politician['politician']['value'].rsplit('/',1)[1]\n",
    "        data['name'] = politician['politicianLabel']['value']\n",
    "        for var in results['head']['vars'][3::2]:\n",
    "            if var in politician.keys():\n",
    "                data[var[:-5]] = politician[var]['value']\n",
    "        politicians.append(data)"
   ]
  },
  {
   "cell_type": "code",
   "execution_count": 45,
   "metadata": {},
   "outputs": [
    {
     "name": "stdout",
     "output_type": "stream",
     "text": [
      "1960-01-01 1961-01-01\n",
      "1961-01-01 1962-01-01\n",
      "1962-01-01 1963-01-01\n",
      "1963-01-01 1964-01-01\n",
      "1964-01-01 1965-01-01\n",
      "1965-01-01 1966-01-01\n",
      "1966-01-01 1967-01-01\n",
      "1967-01-01 1968-01-01\n",
      "1968-01-01 1969-01-01\n",
      "1969-01-01 1970-01-01\n",
      "1970-01-01 1971-01-01\n",
      "1971-01-01 1972-01-01\n",
      "1972-01-01 1973-01-01\n",
      "1973-01-01 1974-01-01\n",
      "1974-01-01 1975-01-01\n",
      "1975-01-01 1976-01-01\n",
      "1976-01-01 1977-01-01\n",
      "1977-01-01 1978-01-01\n",
      "1978-01-01 1979-01-01\n",
      "1979-01-01 1980-01-01\n",
      "1980-01-01 1981-01-01\n",
      "1981-01-01 1982-01-01\n",
      "1982-01-01 1983-01-01\n",
      "1983-01-01 1984-01-01\n",
      "1984-01-01 1985-01-01\n",
      "1985-01-01 1986-01-01\n",
      "1986-01-01 1987-01-01\n",
      "1987-01-01 1988-01-01\n",
      "1988-01-01 1989-01-01\n",
      "1989-01-01 1990-01-01\n",
      "1990-01-01 1991-01-01\n",
      "1991-01-01 1992-01-01\n",
      "1992-01-01 1993-01-01\n",
      "1993-01-01 1994-01-01\n",
      "1994-01-01 1995-01-01\n",
      "1995-01-01 1996-01-01\n",
      "1996-01-01 1997-01-01\n",
      "1997-01-01 1998-01-01\n",
      "1998-01-01 1999-01-01\n"
     ]
    }
   ],
   "source": [
    "# # If receive HTTP Error run this\n",
    "\n",
    "# # print(politicians[-1]) #to determine start year\n",
    "\n",
    "for i in range(60,99): # from 1900 to 1999\n",
    "    query_string = \"\"\"\n",
    "        SELECT ?politician ?politicianLabel ?givenname ?givennameLabel ?familyname ?familynameLabel ?nickname ?nicknameLabel \n",
    "        ?pseudonym ?pseudonymLabel  ?ethnicity ?ethnicityLabel ?party ?partyLabel ?positionheld ?positionheldLabel\n",
    "        ?origin ?originLabel ?DOB ?DOBLabel ?sex_or_gender ?sex_or_genderLabel WHERE {\n",
    "        SERVICE wikibase:label { \n",
    "            bd:serviceParam wikibase:language \"[AUTO_LANGUAGE],en\". \n",
    "        }\n",
    "        ?politician wdt:P106 wd:Q82955;\n",
    "            wdt:P569 ?birth.\n",
    "        FILTER(?birth >= \"%s\"^^xsd:dateTime && ?birth < \"%s\"^^xsd:dateTime)\n",
    "        OPTIONAL { ?politician wdt:P735 ?givenname. }\n",
    "        OPTIONAL { ?politician wdt:P734 ?familyname. }\n",
    "        OPTIONAL { ?politician wdt:P1449 ?nickname. }\n",
    "        OPTIONAL { ?politician wdt:P742 ?pseudonym. }\n",
    "        OPTIONAL { ?politician wdt:P172 ?ethnicity. }\n",
    "        OPTIONAL { ?politician wdt:P102 ?party. }\n",
    "        OPTIONAL { ?politician wdt:P39 ?positionheld. }\n",
    "        OPTIONAL { ?politician wdt:P27 ?origin. }\n",
    "        OPTIONAL { ?politician wdt:P569 ?DOB. }\n",
    "        OPTIONAL { ?politician wdt:P21 ?sex_or_gender. }\n",
    "\n",
    "        }\n",
    "      \"\"\" % (f\"19{i:02}-01-01\", f\"19{(1+i):02}-01-01\")\n",
    "    print(f\"19{i:02}-01-01\", f\"19{(1+i):02}-01-01\")\n",
    "    sparql.setQuery(query_string)\n",
    "    sparql.setReturnFormat(JSON)\n",
    "    results = sparql.query().convert()\n",
    "    for politician in results['results']['bindings']:\n",
    "        data = {}\n",
    "        data['id'] = politician['politician']['value'].rsplit('/',1)[1]\n",
    "        data['name'] = politician['politicianLabel']['value']\n",
    "        for var in results['head']['vars'][3::2]:\n",
    "            if var in politician.keys():\n",
    "                data[var[:-5]] = politician[var]['value']\n",
    "        politicians.append(data)"
   ]
  },
  {
   "cell_type": "code",
   "execution_count": 46,
   "metadata": {},
   "outputs": [],
   "source": [
    "query_string = \"\"\"\n",
    "        SELECT ?politician ?politicianLabel ?givenname ?givennameLabel ?familyname ?familynameLabel ?nickname ?nicknameLabel \n",
    "        ?pseudonym ?pseudonymLabel  ?ethnicity ?ethnicityLabel ?party ?partyLabel ?positionheld ?positionheldLabel\n",
    "        ?origin ?originLabel ?DOB ?DOBLabel ?sex_or_gender ?sex_or_genderLabel WHERE {\n",
    "        SERVICE wikibase:label { \n",
    "            bd:serviceParam wikibase:language \"[AUTO_LANGUAGE],en\". \n",
    "        }\n",
    "        ?politician wdt:P106 wd:Q82955;\n",
    "            wdt:P569 ?birth.\n",
    "        FILTER(?birth >= \"1999-01-01\"^^xsd:dateTime)\n",
    "        OPTIONAL { ?politician wdt:P735 ?givenname. }\n",
    "        OPTIONAL { ?politician wdt:P734 ?familyname. }\n",
    "        OPTIONAL { ?politician wdt:P1449 ?nickname. }\n",
    "        OPTIONAL { ?politician wdt:P742 ?pseudonym. }\n",
    "        OPTIONAL { ?politician wdt:P172 ?ethnicity. }\n",
    "        OPTIONAL { ?politician wdt:P102 ?party. }\n",
    "        OPTIONAL { ?politician wdt:P39 ?positionheld. }\n",
    "        OPTIONAL { ?politician wdt:P27 ?origin. }\n",
    "        OPTIONAL { ?politician wdt:P569 ?DOB. }\n",
    "        OPTIONAL { ?politician wdt:P21 ?sex_or_gender. }\n",
    "\n",
    "        }\n",
    "      \"\"\" #pick up anyone born after 1999, just in case\n",
    "\n",
    "sparql.setQuery(query_string)\n",
    "sparql.setReturnFormat(JSON)\n",
    "results = sparql.query().convert()\n",
    "for politician in results['results']['bindings']:\n",
    "    data = {}\n",
    "    data['id'] = politician['politician']['value'].rsplit('/',1)[1]\n",
    "    data['name'] = politician['politicianLabel']['value']\n",
    "    for var in results['head']['vars'][3::2]:\n",
    "        if var in politician.keys():\n",
    "            data[var[:-5]] = politician[var]['value']\n",
    "    politicians.append(data)"
   ]
  },
  {
   "cell_type": "code",
   "execution_count": 48,
   "metadata": {},
   "outputs": [],
   "source": [
    "with open('politician_data.json', 'w', encoding='utf-8') as f:\n",
    "    json.dump(politicians, f, ensure_ascii=False, indent=4)"
   ]
  },
  {
   "cell_type": "code",
   "execution_count": 47,
   "metadata": {},
   "outputs": [
    {
     "data": {
      "text/plain": [
       "647529"
      ]
     },
     "execution_count": 47,
     "metadata": {},
     "output_type": "execute_result"
    }
   ],
   "source": [
    "len(politicians)"
   ]
  },
  {
   "cell_type": "code",
   "execution_count": 28,
   "metadata": {},
   "outputs": [
    {
     "data": {
      "text/html": [
       "<div>\n",
       "<style scoped>\n",
       "    .dataframe tbody tr th:only-of-type {\n",
       "        vertical-align: middle;\n",
       "    }\n",
       "\n",
       "    .dataframe tbody tr th {\n",
       "        vertical-align: top;\n",
       "    }\n",
       "\n",
       "    .dataframe thead th {\n",
       "        text-align: right;\n",
       "    }\n",
       "</style>\n",
       "<table border=\"1\" class=\"dataframe\">\n",
       "  <thead>\n",
       "    <tr style=\"text-align: right;\">\n",
       "      <th></th>\n",
       "      <th>Unnamed: 0</th>\n",
       "      <th>title</th>\n",
       "      <th>body</th>\n",
       "    </tr>\n",
       "    <tr>\n",
       "      <th>id</th>\n",
       "      <th></th>\n",
       "      <th></th>\n",
       "      <th></th>\n",
       "    </tr>\n",
       "  </thead>\n",
       "  <tbody>\n",
       "    <tr>\n",
       "      <th>lc2v0c</th>\n",
       "      <td>0</td>\n",
       "      <td>Cheney refuses to apologize for voting to impe...</td>\n",
       "      <td>https://www.nbcnews.com/politics/congress/chen...</td>\n",
       "    </tr>\n",
       "    <tr>\n",
       "      <th>lc2zo8</th>\n",
       "      <td>1</td>\n",
       "      <td>Marjorie Taylor Greene gets standing ovation a...</td>\n",
       "      <td>https://www.independent.co.uk/news/world/ameri...</td>\n",
       "    </tr>\n",
       "    <tr>\n",
       "      <th>lc5y39</th>\n",
       "      <td>2</td>\n",
       "      <td>370 Congressional Aides Urge Senate to Bar Tru...</td>\n",
       "      <td>https://truthout.org/articles/370-congressiona...</td>\n",
       "    </tr>\n",
       "    <tr>\n",
       "      <th>lc2hnj</th>\n",
       "      <td>3</td>\n",
       "      <td>Republicans Officially Okay Violent Death Thre...</td>\n",
       "      <td>https://www.vanityfair.com/news/2021/02/kevin-...</td>\n",
       "    </tr>\n",
       "    <tr>\n",
       "      <th>lc803q</th>\n",
       "      <td>4</td>\n",
       "      <td>Puerto Rico pushes for statehood amid debt cri...</td>\n",
       "      <td>https://www.washingtontimes.com/news/2021/feb/...</td>\n",
       "    </tr>\n",
       "    <tr>\n",
       "      <th>...</th>\n",
       "      <td>...</td>\n",
       "      <td>...</td>\n",
       "      <td>...</td>\n",
       "    </tr>\n",
       "    <tr>\n",
       "      <th>lcwzig</th>\n",
       "      <td>95</td>\n",
       "      <td>Hashtag criticizing Ocasio-Cortez's account of...</td>\n",
       "      <td>https://thehill.com/briefingroom-blogroll/5374...</td>\n",
       "    </tr>\n",
       "    <tr>\n",
       "      <th>lcdm3b</th>\n",
       "      <td>96</td>\n",
       "      <td>Insurrectionists could be in more trouble than...</td>\n",
       "      <td>https://www.cincinnati.com/story/opinion/2021/...</td>\n",
       "    </tr>\n",
       "    <tr>\n",
       "      <th>lcz8by</th>\n",
       "      <td>97</td>\n",
       "      <td>Biden: US taking 'urgent' steps to improve cyb...</td>\n",
       "      <td>https://thehill.com/policy/cybersecurity/53743...</td>\n",
       "    </tr>\n",
       "    <tr>\n",
       "      <th>lcy9tm</th>\n",
       "      <td>98</td>\n",
       "      <td>AOC hits back at Republican colleagues who cha...</td>\n",
       "      <td>https://www.salon.com/2021/02/04/aoc-hits-back...</td>\n",
       "    </tr>\n",
       "    <tr>\n",
       "      <th>lcudwy</th>\n",
       "      <td>99</td>\n",
       "      <td>No, Marjorie Taylor Greene isn't sorry</td>\n",
       "      <td>https://www.cnn.com/2021/02/04/politics/marjor...</td>\n",
       "    </tr>\n",
       "  </tbody>\n",
       "</table>\n",
       "<p>200 rows × 3 columns</p>\n",
       "</div>"
      ],
      "text/plain": [
       "        Unnamed: 0                                              title  \\\n",
       "id                                                                      \n",
       "lc2v0c           0  Cheney refuses to apologize for voting to impe...   \n",
       "lc2zo8           1  Marjorie Taylor Greene gets standing ovation a...   \n",
       "lc5y39           2  370 Congressional Aides Urge Senate to Bar Tru...   \n",
       "lc2hnj           3  Republicans Officially Okay Violent Death Thre...   \n",
       "lc803q           4  Puerto Rico pushes for statehood amid debt cri...   \n",
       "...            ...                                                ...   \n",
       "lcwzig          95  Hashtag criticizing Ocasio-Cortez's account of...   \n",
       "lcdm3b          96  Insurrectionists could be in more trouble than...   \n",
       "lcz8by          97  Biden: US taking 'urgent' steps to improve cyb...   \n",
       "lcy9tm          98  AOC hits back at Republican colleagues who cha...   \n",
       "lcudwy          99             No, Marjorie Taylor Greene isn't sorry   \n",
       "\n",
       "                                                     body  \n",
       "id                                                         \n",
       "lc2v0c  https://www.nbcnews.com/politics/congress/chen...  \n",
       "lc2zo8  https://www.independent.co.uk/news/world/ameri...  \n",
       "lc5y39  https://truthout.org/articles/370-congressiona...  \n",
       "lc2hnj  https://www.vanityfair.com/news/2021/02/kevin-...  \n",
       "lc803q  https://www.washingtontimes.com/news/2021/feb/...  \n",
       "...                                                   ...  \n",
       "lcwzig  https://thehill.com/briefingroom-blogroll/5374...  \n",
       "lcdm3b  https://www.cincinnati.com/story/opinion/2021/...  \n",
       "lcz8by  https://thehill.com/policy/cybersecurity/53743...  \n",
       "lcy9tm  https://www.salon.com/2021/02/04/aoc-hits-back...  \n",
       "lcudwy  https://www.cnn.com/2021/02/04/politics/marjor...  \n",
       "\n",
       "[200 rows x 3 columns]"
      ]
     },
     "execution_count": 28,
     "metadata": {},
     "output_type": "execute_result"
    }
   ],
   "source": [
    "import pandas as pd\n",
    "df = pd.read_csv('2021-02-04/politics_subreddit.csv', index_col='id')\n",
    "pd.concat((df,pd.read_csv('2021-02-05/politics_subreddit.csv', index_col='id')))"
   ]
  },
  {
   "cell_type": "markdown",
   "metadata": {},
   "source": [
    "# Debug"
   ]
  },
  {
   "cell_type": "code",
   "execution_count": 56,
   "metadata": {},
   "outputs": [],
   "source": [
    "sparql = SPARQLWrapper(\"https://query.wikidata.org/sparql\")\n",
    "\n",
    "# Query for politician name's and their gender (only for politicians born in 20th century \n",
    "# or later)\n",
    "\n",
    "# Change language from en to ru for Russian, etc. \n",
    "\n",
    "query_string = \"\"\"\n",
    "        SELECT ?politician ?politicianLabel ?givenname ?givennameLabel ?familyname ?familynameLabel ?nickname ?nicknameLabel \n",
    "        ?pseudonym ?pseudonymLabel  ?ethnicity ?ethnicityLabel ?party ?partyLabel ?positionheld ?positionheldLabel\n",
    "        ?origin ?originLabel ?DOB ?DOBLabel ?sex_or_gender ?sex_or_genderLabel WHERE {\n",
    "        SERVICE wikibase:label { \n",
    "            bd:serviceParam wikibase:language \"[AUTO_LANGUAGE],en\". \n",
    "        }\n",
    "        ?politician wdt:P106 wd:Q82955;\n",
    "            wdt:P569 ?birth.\n",
    "        FILTER(?birth >= \"1990-01-01\"^^xsd:dateTime)\n",
    "        OPTIONAL { ?politician wdt:P735 ?givenname. }\n",
    "        OPTIONAL { ?politician wdt:P734 ?familyname. }\n",
    "        OPTIONAL { ?politician wdt:P1449 ?nickname. }\n",
    "        OPTIONAL { ?politician wdt:P742 ?pseudonym. }\n",
    "        OPTIONAL { ?politician wdt:P172 ?ethnicity. }\n",
    "        OPTIONAL { ?politician wdt:P102 ?party. }\n",
    "        OPTIONAL { ?politician wdt:P39 ?positionheld. }\n",
    "        OPTIONAL { ?politician wdt:P27 ?origin. }\n",
    "        OPTIONAL { ?politician wdt:P569 ?DOB. }\n",
    "        OPTIONAL { ?politician wdt:P21 ?sex_or_gender. }\n",
    "        \n",
    "        }\n",
    "  \"\"\"\n",
    "\n",
    "sparql.setQuery(query_string)\n",
    "sparql.setReturnFormat(JSON)\n",
    "results = sparql.query().convert()"
   ]
  },
  {
   "cell_type": "code",
   "execution_count": 42,
   "metadata": {},
   "outputs": [],
   "source": [
    "politicians=[]\n",
    "for politician in results['results']['bindings']:\n",
    "    data = {}\n",
    "    data['name'] = politician['politicianLabel']['value']\n",
    "    for var in results['head']['vars'][3::2]:\n",
    "        if var in politician.keys():\n",
    "            data[var[:-5]] = politician[var]['value']\n",
    "    politicians.append(data)"
   ]
  },
  {
   "cell_type": "code",
   "execution_count": 14,
   "metadata": {},
   "outputs": [],
   "source": [
    "import json\n",
    "with open('politician_data.json') as f:\n",
    "    wikidata = json.load(f)"
   ]
  },
  {
   "cell_type": "code",
   "execution_count": 17,
   "metadata": {},
   "outputs": [],
   "source": [
    "wikidata2 = list({v['id']:v for v in wikidata}.values())"
   ]
  },
  {
   "cell_type": "code",
   "execution_count": 22,
   "metadata": {},
   "outputs": [
    {
     "data": {
      "text/plain": [
       "319809"
      ]
     },
     "execution_count": 22,
     "metadata": {},
     "output_type": "execute_result"
    }
   ],
   "source": [
    "for entry in wikidata2:\n",
    "    if 'sex_or_gender' not in entry.keys():\n",
    "        wikidata2.remove(entry)\n",
    "len(wikidata2)"
   ]
  },
  {
   "cell_type": "code",
   "execution_count": 27,
   "metadata": {},
   "outputs": [
    {
     "data": {
      "text/plain": [
       "dict_keys(['id', 'name', 'givenname', 'familyname', 'party', 'positionheld', 'origin', 'DOB', 'sex_or_gender'])"
      ]
     },
     "execution_count": 27,
     "metadata": {},
     "output_type": "execute_result"
    }
   ],
   "source": [
    "wikidata2[0].keys()"
   ]
  },
  {
   "cell_type": "code",
   "execution_count": 28,
   "metadata": {},
   "outputs": [],
   "source": [
    "wikidata3 = [entry for entry in wikidata2 if 'sex_or_gender' in entry.keys()]"
   ]
  },
  {
   "cell_type": "code",
   "execution_count": 30,
   "metadata": {},
   "outputs": [
    {
     "data": {
      "text/plain": [
       "316743"
      ]
     },
     "execution_count": 30,
     "metadata": {},
     "output_type": "execute_result"
    }
   ],
   "source": [
    "len(wikidata3)"
   ]
  },
  {
   "cell_type": "code",
   "execution_count": 46,
   "metadata": {},
   "outputs": [],
   "source": [
    "with open('politician_data_final.json', 'w', encoding='utf-8') as f:\n",
    "    json.dump(wikidata3, f, ensure_ascii=False, indent=4)"
   ]
  },
  {
   "cell_type": "code",
   "execution_count": 45,
   "metadata": {},
   "outputs": [
    {
     "ename": "TypeError",
     "evalue": "unhashable type: 'list'",
     "output_type": "error",
     "traceback": [
      "\u001b[1;31m---------------------------------------------------------------------------\u001b[0m",
      "\u001b[1;31mTypeError\u001b[0m                                 Traceback (most recent call last)",
      "\u001b[1;32m<ipython-input-45-9428b4c555ec>\u001b[0m in \u001b[0;36m<module>\u001b[1;34m\u001b[0m\n\u001b[1;32m----> 1\u001b[1;33m \u001b[0mdict\u001b[0m\u001b[1;33m(\u001b[0m\u001b[1;33m(\u001b[0m\u001b[1;33m[\u001b[0m\u001b[0mentry\u001b[0m\u001b[1;33m[\u001b[0m\u001b[1;34m'id'\u001b[0m\u001b[1;33m]\u001b[0m\u001b[1;33m]\u001b[0m\u001b[1;33m,\u001b[0m \u001b[0mentry\u001b[0m\u001b[1;33m[\u001b[0m\u001b[1;34m'sex_or_gender'\u001b[0m\u001b[1;33m]\u001b[0m\u001b[1;33m)\u001b[0m \u001b[1;32mfor\u001b[0m \u001b[0mentry\u001b[0m \u001b[1;32min\u001b[0m \u001b[0mwikidata3\u001b[0m\u001b[1;33m)\u001b[0m\u001b[1;33m\u001b[0m\u001b[1;33m\u001b[0m\u001b[0m\n\u001b[0m",
      "\u001b[1;31mTypeError\u001b[0m: unhashable type: 'list'"
     ]
    }
   ],
   "source": [
    "dict(([entry['id']], entry['sex_or_gender']) for entry in wikidata3)"
   ]
  },
  {
   "cell_type": "code",
   "execution_count": null,
   "metadata": {},
   "outputs": [],
   "source": [
    "import pandas as pd\n",
    "import sys\n",
    "import glob\n",
    "\n",
    "month = sys.argv[1]\n",
    "year = sys.argv[2]\n",
    "date_str = year + \"-\" + month\n",
    "# date=datetime.date(int(year),int(month),1)\n",
    "# date_str = date.strftime('%Y-%m')\n",
    "\n",
    "dfs = []\n",
    "for file in glob.glob(f\"selfdata/processed4/{date_str}/*.csv\"):\n",
    "    dfs.append(pd.read_csv(file))\n",
    "df = pd.concat(dfs) # merge into one file\n",
    "\n",
    "# I accidentally dropped the column ID in my earlier processing, so I need to make one to link identical comments together\n",
    "df['id']=df.groupby(['created_at','to_id']).ngroup().add(1) # group by created_at and to_id to do so\n",
    "\n",
    "drop_columns = ['link_id','created_at','to_id','post_named','cmt_named','named']\n",
    "df.drop(columns=drop_columns) # drop unnecessary columns\n"
   ]
  },
  {
   "cell_type": "code",
   "execution_count": 1,
   "metadata": {},
   "outputs": [],
   "source": [
    "import json\n",
    "with open('politician_data_final.json') as f:\n",
    "    wikidata = json.load(f)\n",
    "\n",
    "genders = {}\n",
    "for entry in wikidata:\n",
    "    genders[entry['id']] = entry['sex_or_gender']\n",
    "    \n",
    "ethnicities = {}\n",
    "for entry in wikidata:\n",
    "    if \"ethnicity\" in entry.keys():\n",
    "        ethnicities[entry['id']] = entry['ethnicity']\n",
    "        \n",
    "parties = {}\n",
    "for entry in wikidata:\n",
    "    if \"party\" in entry.keys():\n",
    "        parties[entry['id']] = entry['party']\n",
    "\n",
    "origins = {}\n",
    "for entry in wikidata:\n",
    "    if \"origin\" in entry.keys():\n",
    "        origins[entry['id']] = entry['origin']\n",
    "        \n",
    "ages = {}\n",
    "for entry in wikidata:\n",
    "    if \"DOB\" in entry.keys():\n",
    "        ages[entry['id']] = entry['DOB']\n",
    "        \n",
    "positions = {}\n",
    "for entry in wikidata:\n",
    "    if \"positionheld\" in entry.keys():\n",
    "        positions[entry['id']] = entry['positionheld']\n",
    "\n",
    "        \n",
    "## This may be inaccurate, check.\n",
    "first_names = {}\n",
    "for entry in wikidata:\n",
    "    if \"givenname\" in entry.keys():\n",
    "        first_names[entry['id']] = entry['givenname']\n",
    "        \n",
    "last_names = {}\n",
    "for entry in wikidata:\n",
    "    if \"familyname\" in entry.keys():\n",
    "        last_names[entry['id']] = entry['familyname']"
   ]
  },
  {
   "cell_type": "code",
   "execution_count": 22,
   "metadata": {},
   "outputs": [
    {
     "name": "stdout",
     "output_type": "stream",
     "text": [
      "{'id': 'Q55223040', 'name': 'Alexandria Ocasio-Cortez', 'givenname': 'Alexandria', 'familyname': 'Ocasio-Cortez', 'party': 'Democratic Party', 'positionheld': 'United States representative', 'origin': 'United States of America', 'DOB': '1989-10-13T00:00:00Z', 'sex_or_gender': 'female'}\n"
     ]
    }
   ],
   "source": [
    "for entry in wikidata:\n",
    "    if entry['id'] == 'Q55223040':\n",
    "        print(entry)"
   ]
  },
  {
   "cell_type": "code",
   "execution_count": 17,
   "metadata": {},
   "outputs": [],
   "source": [
    "nicknames = {}\n",
    "for entry in wikidata:\n",
    "    if \"pseudonym\" in entry.keys():\n",
    "        nicknames[entry['id']] = entry['pseudonym']"
   ]
  },
  {
   "cell_type": "code",
   "execution_count": 12,
   "metadata": {},
   "outputs": [
    {
     "data": {
      "text/plain": [
       "male                  259165\n",
       "female                 57500\n",
       "transgender female        58\n",
       "non-binary                 7\n",
       "transgender male           4\n",
       "cisgender female           2\n",
       "genderqueer                2\n",
       "male organism              1\n",
       "transfeminine              1\n",
       "third gender               1\n",
       "genderfluid                1\n",
       "female organism            1\n",
       "dtype: int64"
      ]
     },
     "execution_count": 12,
     "metadata": {},
     "output_type": "execute_result"
    }
   ],
   "source": [
    "import pandas as pd\n",
    "pd.Series(genders).value_counts()"
   ]
  },
  {
   "cell_type": "code",
   "execution_count": 14,
   "metadata": {},
   "outputs": [
    {
     "data": {
      "text/plain": [
       "0.8290380529325037"
      ]
     },
     "execution_count": 14,
     "metadata": {},
     "output_type": "execute_result"
    }
   ],
   "source": [
    "len(first_names)/len(genders)"
   ]
  },
  {
   "cell_type": "code",
   "execution_count": 15,
   "metadata": {},
   "outputs": [
    {
     "data": {
      "text/plain": [
       "0.5675042542376627"
      ]
     },
     "execution_count": 15,
     "metadata": {},
     "output_type": "execute_result"
    }
   ],
   "source": [
    "len(last_names)/len(genders)"
   ]
  },
  {
   "cell_type": "code",
   "execution_count": null,
   "metadata": {},
   "outputs": [],
   "source": [
    "df['sex'] = df['NEL'].map(genders)\n",
    "df['ethnicity'] = df['NEL'].map(ethnicities)\n",
    "df['origin'] = df['NEL'].map(origins)\n",
    "df['DOB'] = df['NEL'].map(ages)\n",
    "df['highest_position'] = df['NEL'].map(positions)\n",
    "df['party'] = df['NEL'].map(parties)"
   ]
  },
  {
   "cell_type": "code",
   "execution_count": 66,
   "metadata": {},
   "outputs": [
    {
     "data": {
      "text/html": [
       "<div>\n",
       "<style scoped>\n",
       "    .dataframe tbody tr th:only-of-type {\n",
       "        vertical-align: middle;\n",
       "    }\n",
       "\n",
       "    .dataframe tbody tr th {\n",
       "        vertical-align: top;\n",
       "    }\n",
       "\n",
       "    .dataframe thead th {\n",
       "        text-align: right;\n",
       "    }\n",
       "</style>\n",
       "<table border=\"1\" class=\"dataframe\">\n",
       "  <thead>\n",
       "    <tr style=\"text-align: right;\">\n",
       "      <th></th>\n",
       "      <th>id</th>\n",
       "      <th>body</th>\n",
       "      <th>created_at</th>\n",
       "      <th>link_id</th>\n",
       "      <th>subreddit</th>\n",
       "      <th>to_type</th>\n",
       "      <th>to_id</th>\n",
       "      <th>post_named</th>\n",
       "      <th>cmt_named</th>\n",
       "      <th>named</th>\n",
       "      <th>NEL</th>\n",
       "      <th>created_utc</th>\n",
       "      <th>created</th>\n",
       "      <th>context</th>\n",
       "      <th>test1</th>\n",
       "    </tr>\n",
       "  </thead>\n",
       "  <tbody>\n",
       "    <tr>\n",
       "      <th>0</th>\n",
       "      <td>eczayo1</td>\n",
       "      <td>Yeah man, you obviously didn’t pay attention. ...</td>\n",
       "      <td>1.546301e+09</td>\n",
       "      <td>ab7fzp</td>\n",
       "      <td>politics</td>\n",
       "      <td>t1</td>\n",
       "      <td>ecyrok6</td>\n",
       "      <td>True</td>\n",
       "      <td>True</td>\n",
       "      <td>True</td>\n",
       "      <td>Q434706</td>\n",
       "      <td>NaN</td>\n",
       "      <td>NaN</td>\n",
       "      <td>NaN</td>\n",
       "      <td>NaN</td>\n",
       "    </tr>\n",
       "    <tr>\n",
       "      <th>1</th>\n",
       "      <td>eczayo1</td>\n",
       "      <td>Yeah man, you obviously didn’t pay attention. ...</td>\n",
       "      <td>1.546301e+09</td>\n",
       "      <td>ab7fzp</td>\n",
       "      <td>politics</td>\n",
       "      <td>t1</td>\n",
       "      <td>ecyrok6</td>\n",
       "      <td>True</td>\n",
       "      <td>True</td>\n",
       "      <td>True</td>\n",
       "      <td>Q22686</td>\n",
       "      <td>NaN</td>\n",
       "      <td>NaN</td>\n",
       "      <td>NaN</td>\n",
       "      <td>NaN</td>\n",
       "    </tr>\n",
       "    <tr>\n",
       "      <th>2</th>\n",
       "      <td>eczayvh</td>\n",
       "      <td>Agreed. Trump’s a weak candidate and not marke...</td>\n",
       "      <td>1.546301e+09</td>\n",
       "      <td>ab76aj</td>\n",
       "      <td>politics</td>\n",
       "      <td>t1</td>\n",
       "      <td>ecy3xgr</td>\n",
       "      <td>True</td>\n",
       "      <td>False</td>\n",
       "      <td>True</td>\n",
       "      <td>Q22686</td>\n",
       "      <td>NaN</td>\n",
       "      <td>NaN</td>\n",
       "      <td>NaN</td>\n",
       "      <td>NaN</td>\n",
       "    </tr>\n",
       "    <tr>\n",
       "      <th>3</th>\n",
       "      <td>eczazf1</td>\n",
       "      <td>So vote for Trump again. See how that works ou...</td>\n",
       "      <td>1.546301e+09</td>\n",
       "      <td>ab74v2</td>\n",
       "      <td>politics</td>\n",
       "      <td>t1</td>\n",
       "      <td>ecyge2i</td>\n",
       "      <td>True</td>\n",
       "      <td>False</td>\n",
       "      <td>True</td>\n",
       "      <td>Q22686</td>\n",
       "      <td>NaN</td>\n",
       "      <td>NaN</td>\n",
       "      <td>NaN</td>\n",
       "      <td>NaN</td>\n",
       "    </tr>\n",
       "    <tr>\n",
       "      <th>4</th>\n",
       "      <td>eczazgl</td>\n",
       "      <td>Karl Rove, the Koch Bros, the National Review,...</td>\n",
       "      <td>1.546301e+09</td>\n",
       "      <td>aba6aq</td>\n",
       "      <td>politics</td>\n",
       "      <td>t1</td>\n",
       "      <td>ecyp4um</td>\n",
       "      <td>True</td>\n",
       "      <td>True</td>\n",
       "      <td>True</td>\n",
       "      <td>Q22686</td>\n",
       "      <td>NaN</td>\n",
       "      <td>NaN</td>\n",
       "      <td>NaN</td>\n",
       "      <td>NaN</td>\n",
       "    </tr>\n",
       "    <tr>\n",
       "      <th>...</th>\n",
       "      <td>...</td>\n",
       "      <td>...</td>\n",
       "      <td>...</td>\n",
       "      <td>...</td>\n",
       "      <td>...</td>\n",
       "      <td>...</td>\n",
       "      <td>...</td>\n",
       "      <td>...</td>\n",
       "      <td>...</td>\n",
       "      <td>...</td>\n",
       "      <td>...</td>\n",
       "      <td>...</td>\n",
       "      <td>...</td>\n",
       "      <td>...</td>\n",
       "      <td>...</td>\n",
       "    </tr>\n",
       "    <tr>\n",
       "      <th>95</th>\n",
       "      <td>ds303wg</td>\n",
       "      <td>NaN</td>\n",
       "      <td>NaN</td>\n",
       "      <td>NaN</td>\n",
       "      <td>NaN</td>\n",
       "      <td>NaN</td>\n",
       "      <td>NaN</td>\n",
       "      <td>NaN</td>\n",
       "      <td>NaN</td>\n",
       "      <td>NaN</td>\n",
       "      <td>NaN</td>\n",
       "      <td>NaN</td>\n",
       "      <td>NaN</td>\n",
       "      <td>NaN</td>\n",
       "      <td>alternative is? As long as A Republican Party...</td>\n",
       "    </tr>\n",
       "    <tr>\n",
       "      <th>96</th>\n",
       "      <td>ds3culw</td>\n",
       "      <td>NaN</td>\n",
       "      <td>NaN</td>\n",
       "      <td>NaN</td>\n",
       "      <td>NaN</td>\n",
       "      <td>NaN</td>\n",
       "      <td>NaN</td>\n",
       "      <td>NaN</td>\n",
       "      <td>NaN</td>\n",
       "      <td>NaN</td>\n",
       "      <td>NaN</td>\n",
       "      <td>NaN</td>\n",
       "      <td>NaN</td>\n",
       "      <td>NaN</td>\n",
       "      <td>65 million votes were cast for democrats in th...</td>\n",
       "    </tr>\n",
       "    <tr>\n",
       "      <th>97</th>\n",
       "      <td>ds3f12i</td>\n",
       "      <td>NaN</td>\n",
       "      <td>NaN</td>\n",
       "      <td>NaN</td>\n",
       "      <td>NaN</td>\n",
       "      <td>NaN</td>\n",
       "      <td>NaN</td>\n",
       "      <td>NaN</td>\n",
       "      <td>NaN</td>\n",
       "      <td>NaN</td>\n",
       "      <td>NaN</td>\n",
       "      <td>NaN</td>\n",
       "      <td>NaN</td>\n",
       "      <td>NaN</td>\n",
       "      <td>My favorite King idiocy.URL\\n\\nDid you know th...</td>\n",
       "    </tr>\n",
       "    <tr>\n",
       "      <th>98</th>\n",
       "      <td>ds35own</td>\n",
       "      <td>NaN</td>\n",
       "      <td>NaN</td>\n",
       "      <td>NaN</td>\n",
       "      <td>NaN</td>\n",
       "      <td>NaN</td>\n",
       "      <td>NaN</td>\n",
       "      <td>NaN</td>\n",
       "      <td>NaN</td>\n",
       "      <td>NaN</td>\n",
       "      <td>NaN</td>\n",
       "      <td>NaN</td>\n",
       "      <td>NaN</td>\n",
       "      <td>NaN</td>\n",
       "      <td>Gotta be careful. Liberals are the most danger...</td>\n",
       "    </tr>\n",
       "    <tr>\n",
       "      <th>99</th>\n",
       "      <td>ds2zhz0</td>\n",
       "      <td>NaN</td>\n",
       "      <td>NaN</td>\n",
       "      <td>NaN</td>\n",
       "      <td>NaN</td>\n",
       "      <td>NaN</td>\n",
       "      <td>NaN</td>\n",
       "      <td>NaN</td>\n",
       "      <td>NaN</td>\n",
       "      <td>NaN</td>\n",
       "      <td>NaN</td>\n",
       "      <td>NaN</td>\n",
       "      <td>NaN</td>\n",
       "      <td>NaN</td>\n",
       "      <td>The guys has no shoulders. Trump definitely we...</td>\n",
       "    </tr>\n",
       "  </tbody>\n",
       "</table>\n",
       "<p>26294 rows × 15 columns</p>\n",
       "</div>"
      ],
      "text/plain": [
       "         id                                               body    created_at  \\\n",
       "0   eczayo1  Yeah man, you obviously didn’t pay attention. ...  1.546301e+09   \n",
       "1   eczayo1  Yeah man, you obviously didn’t pay attention. ...  1.546301e+09   \n",
       "2   eczayvh  Agreed. Trump’s a weak candidate and not marke...  1.546301e+09   \n",
       "3   eczazf1  So vote for Trump again. See how that works ou...  1.546301e+09   \n",
       "4   eczazgl  Karl Rove, the Koch Bros, the National Review,...  1.546301e+09   \n",
       "..      ...                                                ...           ...   \n",
       "95  ds303wg                                                NaN           NaN   \n",
       "96  ds3culw                                                NaN           NaN   \n",
       "97  ds3f12i                                                NaN           NaN   \n",
       "98  ds35own                                                NaN           NaN   \n",
       "99  ds2zhz0                                                NaN           NaN   \n",
       "\n",
       "   link_id subreddit to_type    to_id post_named cmt_named named      NEL  \\\n",
       "0   ab7fzp  politics      t1  ecyrok6       True      True  True  Q434706   \n",
       "1   ab7fzp  politics      t1  ecyrok6       True      True  True   Q22686   \n",
       "2   ab76aj  politics      t1  ecy3xgr       True     False  True   Q22686   \n",
       "3   ab74v2  politics      t1  ecyge2i       True     False  True   Q22686   \n",
       "4   aba6aq  politics      t1  ecyp4um       True      True  True   Q22686   \n",
       "..     ...       ...     ...      ...        ...       ...   ...      ...   \n",
       "95     NaN       NaN     NaN      NaN        NaN       NaN   NaN      NaN   \n",
       "96     NaN       NaN     NaN      NaN        NaN       NaN   NaN      NaN   \n",
       "97     NaN       NaN     NaN      NaN        NaN       NaN   NaN      NaN   \n",
       "98     NaN       NaN     NaN      NaN        NaN       NaN   NaN      NaN   \n",
       "99     NaN       NaN     NaN      NaN        NaN       NaN   NaN      NaN   \n",
       "\n",
       "    created_utc  created context  \\\n",
       "0           NaN      NaN     NaN   \n",
       "1           NaN      NaN     NaN   \n",
       "2           NaN      NaN     NaN   \n",
       "3           NaN      NaN     NaN   \n",
       "4           NaN      NaN     NaN   \n",
       "..          ...      ...     ...   \n",
       "95          NaN      NaN     NaN   \n",
       "96          NaN      NaN     NaN   \n",
       "97          NaN      NaN     NaN   \n",
       "98          NaN      NaN     NaN   \n",
       "99          NaN      NaN     NaN   \n",
       "\n",
       "                                                test1  \n",
       "0                                                 NaN  \n",
       "1                                                 NaN  \n",
       "2                                                 NaN  \n",
       "3                                                 NaN  \n",
       "4                                                 NaN  \n",
       "..                                                ...  \n",
       "95   alternative is? As long as A Republican Party...  \n",
       "96  65 million votes were cast for democrats in th...  \n",
       "97  My favorite King idiocy.URL\\n\\nDid you know th...  \n",
       "98  Gotta be careful. Liberals are the most danger...  \n",
       "99  The guys has no shoulders. Trump definitely we...  \n",
       "\n",
       "[26294 rows x 15 columns]"
      ]
     },
     "execution_count": 66,
     "metadata": {},
     "output_type": "execute_result"
    }
   ],
   "source": [
    "import glob\n",
    "dfs = []\n",
    "for file in glob.glob('*.csv'):\n",
    "    dfs.append(pd.read_csv(file))\n",
    "pd.concat(dfs)"
   ]
  },
  {
   "cell_type": "code",
   "execution_count": null,
   "metadata": {},
   "outputs": [],
   "source": [
    "# Assess name used\n",
    "df['given_name_used'] = df['Names'] == df['NEL'].map(first_names)\n",
    "df['family_name_used'] = df['Names'] == df['NEL'].map(last_names)\n",
    "df['full_name_used'] = (df['given_name_used']) & (df['family_name_used'])\n",
    "df['nickname_used'] = ~(df['given_name_used'] | df['family_name_used'])"
   ]
  },
  {
   "cell_type": "code",
   "execution_count": 55,
   "metadata": {},
   "outputs": [
    {
     "data": {
      "text/plain": [
       "0       Bulgarians\n",
       "1              NaN\n",
       "2    Yoruba people\n",
       "Name: 0, dtype: object"
      ]
     },
     "execution_count": 55,
     "metadata": {},
     "output_type": "execute_result"
    }
   ],
   "source": [
    "import pandas as pd\n",
    "df = pd.DataFrame(['Q12278548', 'Q5', 'Q226122'])\n",
    "df[0].map(ethnicities)"
   ]
  },
  {
   "cell_type": "code",
   "execution_count": 59,
   "metadata": {},
   "outputs": [
    {
     "data": {
      "text/html": [
       "<div>\n",
       "<style scoped>\n",
       "    .dataframe tbody tr th:only-of-type {\n",
       "        vertical-align: middle;\n",
       "    }\n",
       "\n",
       "    .dataframe tbody tr th {\n",
       "        vertical-align: top;\n",
       "    }\n",
       "\n",
       "    .dataframe thead th {\n",
       "        text-align: right;\n",
       "    }\n",
       "</style>\n",
       "<table border=\"1\" class=\"dataframe\">\n",
       "  <thead>\n",
       "    <tr style=\"text-align: right;\">\n",
       "      <th></th>\n",
       "      <th>0</th>\n",
       "      <th>1</th>\n",
       "    </tr>\n",
       "  </thead>\n",
       "  <tbody>\n",
       "    <tr>\n",
       "      <th>0</th>\n",
       "      <td>Q12278548</td>\n",
       "      <td>Q1</td>\n",
       "    </tr>\n",
       "    <tr>\n",
       "      <th>1</th>\n",
       "      <td>Q5</td>\n",
       "      <td>Q5</td>\n",
       "    </tr>\n",
       "    <tr>\n",
       "      <th>2</th>\n",
       "      <td>Q226122</td>\n",
       "      <td>Q6</td>\n",
       "    </tr>\n",
       "  </tbody>\n",
       "</table>\n",
       "</div>"
      ],
      "text/plain": [
       "           0   1\n",
       "0  Q12278548  Q1\n",
       "1         Q5  Q5\n",
       "2    Q226122  Q6"
      ]
     },
     "execution_count": 59,
     "metadata": {},
     "output_type": "execute_result"
    }
   ],
   "source": [
    "df2 = pd.concat([df,pd.DataFrame(['Q1','Q5','Q6'])], axis=1)\n",
    "df2.columns = [0,1]\n",
    "df2"
   ]
  },
  {
   "cell_type": "code",
   "execution_count": 62,
   "metadata": {},
   "outputs": [],
   "source": [
    "df2[3] = df2[0] == df2[1]"
   ]
  },
  {
   "cell_type": "code",
   "execution_count": 63,
   "metadata": {},
   "outputs": [
    {
     "data": {
      "text/html": [
       "<div>\n",
       "<style scoped>\n",
       "    .dataframe tbody tr th:only-of-type {\n",
       "        vertical-align: middle;\n",
       "    }\n",
       "\n",
       "    .dataframe tbody tr th {\n",
       "        vertical-align: top;\n",
       "    }\n",
       "\n",
       "    .dataframe thead th {\n",
       "        text-align: right;\n",
       "    }\n",
       "</style>\n",
       "<table border=\"1\" class=\"dataframe\">\n",
       "  <thead>\n",
       "    <tr style=\"text-align: right;\">\n",
       "      <th></th>\n",
       "      <th>0</th>\n",
       "      <th>1</th>\n",
       "      <th>3</th>\n",
       "    </tr>\n",
       "  </thead>\n",
       "  <tbody>\n",
       "    <tr>\n",
       "      <th>0</th>\n",
       "      <td>Q12278548</td>\n",
       "      <td>Q1</td>\n",
       "      <td>False</td>\n",
       "    </tr>\n",
       "    <tr>\n",
       "      <th>1</th>\n",
       "      <td>Q5</td>\n",
       "      <td>Q5</td>\n",
       "      <td>True</td>\n",
       "    </tr>\n",
       "    <tr>\n",
       "      <th>2</th>\n",
       "      <td>Q226122</td>\n",
       "      <td>Q6</td>\n",
       "      <td>False</td>\n",
       "    </tr>\n",
       "  </tbody>\n",
       "</table>\n",
       "</div>"
      ],
      "text/plain": [
       "           0   1      3\n",
       "0  Q12278548  Q1  False\n",
       "1         Q5  Q5   True\n",
       "2    Q226122  Q6  False"
      ]
     },
     "execution_count": 63,
     "metadata": {},
     "output_type": "execute_result"
    }
   ],
   "source": [
    "df2"
   ]
  },
  {
   "cell_type": "code",
   "execution_count": null,
   "metadata": {},
   "outputs": [],
   "source": []
  }
 ],
 "metadata": {
  "kernelspec": {
   "display_name": "Python 3",
   "language": "python",
   "name": "python3"
  },
  "language_info": {
   "codemirror_mode": {
    "name": "ipython",
    "version": 3
   },
   "file_extension": ".py",
   "mimetype": "text/x-python",
   "name": "python",
   "nbconvert_exporter": "python",
   "pygments_lexer": "ipython3",
   "version": "3.8.5"
  }
 },
 "nbformat": 4,
 "nbformat_minor": 4
}
