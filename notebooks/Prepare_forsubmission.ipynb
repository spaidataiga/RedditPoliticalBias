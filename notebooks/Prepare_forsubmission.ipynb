{
 "cells": [
  {
   "cell_type": "code",
   "execution_count": 1,
   "metadata": {},
   "outputs": [],
   "source": [
    "import pandas as pd"
   ]
  },
  {
   "cell_type": "code",
   "execution_count": 9,
   "metadata": {},
   "outputs": [],
   "source": [
    "most_fem = pd.read_csv(\"results/PMI/most_female_d.csv\", index_col=0)\n",
    "most_mal = pd.read_csv(\"results/PMI/most_male_d.csv\", index_col=0)"
   ]
  },
  {
   "cell_type": "code",
   "execution_count": 10,
   "metadata": {},
   "outputs": [],
   "source": [
    "annot1 = pd.read_excel(\"Downloads/to_annotates.xlsx\", index_col=0)\n",
    "annot1['Handcoded_Senses'] = annot1['Handcoded_Senses'].str.replace(\"Euphemism\",\"Label\")\n",
    "annot2 = pd.read_excel(\"Downloads/AnnotationsForThesis-VB-20210725.xlsx\", index_col=0)\n",
    "annot1['Handcoded_Senses'] = annot1['Handcoded_Senses'].str.replace(\"Euphemism\",\"Label\")\n",
    "annot1['Handcoded_Senses'] = annot1['Handcoded_Senses'].str.replace(\"Ideal\",\"Belief\")\n",
    "annot2['Handcoded_Senses'] = annot2['Handcoded_Senses'].str.replace(\"/Position\",\"\")\n",
    "annot2['Handcoded_Senses'] = annot2['Handcoded_Senses'].str.replace(\"/Adverb\",\"\")\n",
    "senses = annot1['Handcoded_Senses'].to_dict()\n",
    "senti = annot2['Handcoded_Sentiment'].to_dict()"
   ]
  },
  {
   "cell_type": "code",
   "execution_count": 12,
   "metadata": {},
   "outputs": [],
   "source": [
    "most_fem['Senses'] = most_fem.index.map(senses)\n",
    "most_mal['Senses'] = most_mal.index.map(senses)\n",
    "most_fem['Sentis'] = most_fem.index.map(senti)\n",
    "most_mal['Sentis'] = most_mal.index.map(senti)"
   ]
  },
  {
   "cell_type": "code",
   "execution_count": 14,
   "metadata": {},
   "outputs": [
    {
     "data": {
      "text/plain": [
       "Index(['female', 'male', 'PMI_female', 'PMI_male', 'cPMId_female',\n",
       "       'cPMId_male', 'PMId_female', 'PMId_male', 'Senses', 'Sentis'],\n",
       "      dtype='object')"
      ]
     },
     "execution_count": 14,
     "metadata": {},
     "output_type": "execute_result"
    }
   ],
   "source": [
    "most_fem.columns"
   ]
  },
  {
   "cell_type": "code",
   "execution_count": 15,
   "metadata": {},
   "outputs": [
    {
     "data": {
      "text/html": [
       "<div>\n",
       "<style scoped>\n",
       "    .dataframe tbody tr th:only-of-type {\n",
       "        vertical-align: middle;\n",
       "    }\n",
       "\n",
       "    .dataframe tbody tr th {\n",
       "        vertical-align: top;\n",
       "    }\n",
       "\n",
       "    .dataframe thead th {\n",
       "        text-align: right;\n",
       "    }\n",
       "</style>\n",
       "<table border=\"1\" class=\"dataframe\">\n",
       "  <thead>\n",
       "    <tr style=\"text-align: right;\">\n",
       "      <th></th>\n",
       "      <th>PMI_female</th>\n",
       "      <th>Senses</th>\n",
       "      <th>Sentis</th>\n",
       "    </tr>\n",
       "  </thead>\n",
       "  <tbody>\n",
       "    <tr>\n",
       "      <th>chairwoman</th>\n",
       "      <td>1.793791</td>\n",
       "      <td>Profession</td>\n",
       "      <td>0.0</td>\n",
       "    </tr>\n",
       "    <tr>\n",
       "      <th>pantsuit</th>\n",
       "      <td>1.779888</td>\n",
       "      <td>Clothing</td>\n",
       "      <td>0.0</td>\n",
       "    </tr>\n",
       "    <tr>\n",
       "      <th>matriarch</th>\n",
       "      <td>1.723799</td>\n",
       "      <td>Family</td>\n",
       "      <td>0.0</td>\n",
       "    </tr>\n",
       "    <tr>\n",
       "      <th>facelift</th>\n",
       "      <td>1.685578</td>\n",
       "      <td>Body</td>\n",
       "      <td>0.0</td>\n",
       "    </tr>\n",
       "    <tr>\n",
       "      <th>menopausal</th>\n",
       "      <td>1.685578</td>\n",
       "      <td>Attribute</td>\n",
       "      <td>-1.0</td>\n",
       "    </tr>\n",
       "    <tr>\n",
       "      <th>...</th>\n",
       "      <td>...</td>\n",
       "      <td>...</td>\n",
       "      <td>...</td>\n",
       "    </tr>\n",
       "    <tr>\n",
       "      <th>hom</th>\n",
       "      <td>1.349105</td>\n",
       "      <td>NaN</td>\n",
       "      <td>NaN</td>\n",
       "    </tr>\n",
       "    <tr>\n",
       "      <th>authortarian</th>\n",
       "      <td>1.349105</td>\n",
       "      <td>NaN</td>\n",
       "      <td>NaN</td>\n",
       "    </tr>\n",
       "    <tr>\n",
       "      <th>fairweather</th>\n",
       "      <td>1.349105</td>\n",
       "      <td>NaN</td>\n",
       "      <td>NaN</td>\n",
       "    </tr>\n",
       "    <tr>\n",
       "      <th>peen</th>\n",
       "      <td>1.349105</td>\n",
       "      <td>Body</td>\n",
       "      <td>-1.0</td>\n",
       "    </tr>\n",
       "    <tr>\n",
       "      <th>sourpuss</th>\n",
       "      <td>1.349105</td>\n",
       "      <td>NaN</td>\n",
       "      <td>NaN</td>\n",
       "    </tr>\n",
       "  </tbody>\n",
       "</table>\n",
       "<p>100 rows × 3 columns</p>\n",
       "</div>"
      ],
      "text/plain": [
       "              PMI_female      Senses  Sentis\n",
       "chairwoman      1.793791  Profession     0.0\n",
       "pantsuit        1.779888    Clothing     0.0\n",
       "matriarch       1.723799      Family     0.0\n",
       "facelift        1.685578        Body     0.0\n",
       "menopausal      1.685578   Attribute    -1.0\n",
       "...                  ...         ...     ...\n",
       "hom             1.349105         NaN     NaN\n",
       "authortarian    1.349105         NaN     NaN\n",
       "fairweather     1.349105         NaN     NaN\n",
       "peen            1.349105        Body    -1.0\n",
       "sourpuss        1.349105         NaN     NaN\n",
       "\n",
       "[100 rows x 3 columns]"
      ]
     },
     "execution_count": 15,
     "metadata": {},
     "output_type": "execute_result"
    }
   ],
   "source": [
    "most_fem[['PMI_female','Senses','Sentis']]"
   ]
  },
  {
   "cell_type": "code",
   "execution_count": 18,
   "metadata": {},
   "outputs": [],
   "source": [
    "#most_fem[['PMI_female','Senses','Sentis']].to_csv(\"female_PMI.csv\")\n",
    "most_mal[['PMI_male','Senses','Sentis']].to_csv(\"male_PMI.csv\")"
   ]
  },
  {
   "cell_type": "code",
   "execution_count": 19,
   "metadata": {},
   "outputs": [],
   "source": [
    "df = pd.read_csv(\"partisan.csv\")"
   ]
  },
  {
   "cell_type": "code",
   "execution_count": null,
   "metadata": {},
   "outputs": [],
   "source": []
  },
  {
   "cell_type": "code",
   "execution_count": null,
   "metadata": {},
   "outputs": [],
   "source": [
    "df[(df.sex == 'female') & (df.group=='left')][['family_name_used', 'given_name_used', 'nickname_used', 'full_name_used']].sum(axis=0)"
   ]
  },
  {
   "cell_type": "code",
   "execution_count": null,
   "metadata": {},
   "outputs": [],
   "source": []
  }
 ],
 "metadata": {
  "kernelspec": {
   "display_name": "Python 3",
   "language": "python",
   "name": "python3"
  },
  "language_info": {
   "codemirror_mode": {
    "name": "ipython",
    "version": 3
   },
   "file_extension": ".py",
   "mimetype": "text/x-python",
   "name": "python",
   "nbconvert_exporter": "python",
   "pygments_lexer": "ipython3",
   "version": "3.8.5"
  }
 },
 "nbformat": 4,
 "nbformat_minor": 4
}
