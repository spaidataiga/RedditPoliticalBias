{
 "cells": [
  {
   "cell_type": "code",
   "execution_count": 1,
   "metadata": {},
   "outputs": [],
   "source": [
    "import pandas as pd\n",
    "from ast import literal_eval\n",
    "import glob\n",
    "import numpy as np\n",
    "from scipy.stats import ttest_ind\n",
    "from scipy.stats import norm"
   ]
  },
  {
   "cell_type": "code",
   "execution_count": 2,
   "metadata": {},
   "outputs": [
    {
     "name": "stderr",
     "output_type": "stream",
     "text": [
      "C:\\Users\\vanki\\AppData\\Roaming\\Python\\Python37\\site-packages\\IPython\\core\\interactiveshell.py:3156: DtypeWarning: Columns (7,18,19) have mixed types.Specify dtype option on import or set low_memory=False.\n",
      "  interactivity=interactivity, compiler=compiler, result=result)\n",
      "C:\\Users\\vanki\\AppData\\Roaming\\Python\\Python37\\site-packages\\IPython\\core\\interactiveshell.py:3156: DtypeWarning: Columns (7,17,18,19) have mixed types.Specify dtype option on import or set low_memory=False.\n",
      "  interactivity=interactivity, compiler=compiler, result=result)\n",
      "C:\\Users\\vanki\\AppData\\Roaming\\Python\\Python37\\site-packages\\IPython\\core\\interactiveshell.py:3156: DtypeWarning: Columns (7,16,17,18,19) have mixed types.Specify dtype option on import or set low_memory=False.\n",
      "  interactivity=interactivity, compiler=compiler, result=result)\n"
     ]
    }
   ],
   "source": [
    "dfs = []\n",
    "for file in glob.glob(\"201*.csv\"):\n",
    "    dfs.append(pd.read_csv(file).drop(columns=[\"Unnamed: 0\"]))\n",
    "df = pd.concat(dfs)\n",
    "df.dropna(subset=['Adjectives'], inplace=True) # somekind of mistake"
   ]
  },
  {
   "cell_type": "code",
   "execution_count": 6,
   "metadata": {},
   "outputs": [],
   "source": [
    "df['Relation'] = df['Relation'].map(literal_eval)"
   ]
  },
  {
   "cell_type": "code",
   "execution_count": 7,
   "metadata": {},
   "outputs": [],
   "source": [
    "males = {}\n",
    "for lst in df[df['sex'] == 'male'].Relation:\n",
    "    for r in lst:\n",
    "        if r in males.keys():\n",
    "            males[r] += 1\n",
    "        else:\n",
    "            males[r] = 1\n",
    "females = {}\n",
    "for lst in df[df['sex'] == 'female'].Relation:\n",
    "    for r in lst:\n",
    "        if r in females.keys():\n",
    "            females[r] += 1\n",
    "        else:\n",
    "            females[r] = 1"
   ]
  },
  {
   "cell_type": "code",
   "execution_count": 8,
   "metadata": {},
   "outputs": [
    {
     "data": {
      "text/plain": [
       "{'pobj': 1630053,\n",
       " 'dep': 2880800,\n",
       " 'nsubjpass': 106263,\n",
       " 'appos': 729123,\n",
       " 'nmod': 972634,\n",
       " 'dobj': 762698,\n",
       " 'nsubj': 766344,\n",
       " 'conj': 258459,\n",
       " 'npadvmod': 128772,\n",
       " 'auxpass': 1098,\n",
       " 'parataxis': 73614,\n",
       " 'relcl': 2811,\n",
       " 'ROOT': 112641,\n",
       " 'attr': 109317,\n",
       " 'ccomp': 24738,\n",
       " 'advcl': 14688,\n",
       " 'oprd': 17414,\n",
       " 'compound': 835,\n",
       " 'pcomp': 7659,\n",
       " 'intj': 1836,\n",
       " 'acl': 736,\n",
       " 'neg': 2506,\n",
       " 'advmod': 798,\n",
       " 'poss': 2001,\n",
       " 'agent': 1543,\n",
       " 'punct': 452,\n",
       " 'dative': 1147,\n",
       " 'meta': 4625,\n",
       " 'xcomp': 766,\n",
       " 'cc': 349,\n",
       " 'preconj': 220,\n",
       " 'aux': 224,\n",
       " 'case': 4,\n",
       " 'quantmod': 31,\n",
       " 'csubj': 94,\n",
       " 'csubjpass': 5,\n",
       " 'det': 8,\n",
       " 'mark': 1,\n",
       " 'nummod': 1,\n",
       " 'prep': 2}"
      ]
     },
     "execution_count": 8,
     "metadata": {},
     "output_type": "execute_result"
    }
   ],
   "source": [
    "males"
   ]
  },
  {
   "cell_type": "code",
   "execution_count": 9,
   "metadata": {},
   "outputs": [
    {
     "data": {
      "text/plain": [
       "{'dep': 406362,\n",
       " 'advcl': 2395,\n",
       " 'appos': 93591,\n",
       " 'dobj': 99775,\n",
       " 'nsubj': 105899,\n",
       " 'pobj': 218294,\n",
       " 'ROOT': 20731,\n",
       " 'nmod': 102471,\n",
       " 'conj': 51253,\n",
       " 'attr': 16797,\n",
       " 'npadvmod': 18337,\n",
       " 'nsubjpass': 12031,\n",
       " 'parataxis': 11143,\n",
       " 'oprd': 2547,\n",
       " 'ccomp': 3710,\n",
       " 'meta': 784,\n",
       " 'agent': 231,\n",
       " 'pcomp': 984,\n",
       " 'intj': 421,\n",
       " 'xcomp': 96,\n",
       " 'acl': 113,\n",
       " 'auxpass': 157,\n",
       " 'compound': 56,\n",
       " 'neg': 362,\n",
       " 'relcl': 398,\n",
       " 'punct': 43,\n",
       " 'poss': 146,\n",
       " 'advmod': 108,\n",
       " 'dative': 153,\n",
       " 'preconj': 24,\n",
       " 'csubj': 10,\n",
       " 'cc': 49,\n",
       " 'aux': 30,\n",
       " 'quantmod': 7,\n",
       " 'mark': 1,\n",
       " 'nummod': 1}"
      ]
     },
     "execution_count": 9,
     "metadata": {},
     "output_type": "execute_result"
    }
   ],
   "source": [
    "females"
   ]
  },
  {
   "cell_type": "code",
   "execution_count": 14,
   "metadata": {},
   "outputs": [
    {
     "data": {
      "image/png": "[encoded data removed]",
      "text/plain": [
       "<Figure size 432x288 with 1 Axes>"
      ]
     },
     "metadata": {
      "needs_background": "light"
     },
     "output_type": "display_data"
    }
   ],
   "source": [
    "import matplotlib.pyplot as plt\n",
    "plt.hist(males)\n",
    "plt.xticks(rotation=90)\n",
    "plt.show()"
   ]
  },
  {
   "cell_type": "code",
   "execution_count": 17,
   "metadata": {},
   "outputs": [],
   "source": [
    "males_ct = 0\n",
    "for key in males.keys():\n",
    "    males_ct += males[key]\n",
    "    \n",
    "females_ct = 0\n",
    "for key in females.keys():\n",
    "    females_ct += females[key]"
   ]
  },
  {
   "cell_type": "code",
   "execution_count": 18,
   "metadata": {},
   "outputs": [],
   "source": [
    "for key in males.keys():\n",
    "     males[key] /= males_ct\n",
    "    \n",
    "for key in females.keys():\n",
    "     females[key] /= females_ct"
   ]
  },
  {
   "cell_type": "code",
   "execution_count": 29,
   "metadata": {},
   "outputs": [],
   "source": [
    "fem_df = pd.Series(females, index=females.keys())\n",
    "mal_df = pd.Series(males, index=males.keys())"
   ]
  },
  {
   "cell_type": "code",
   "execution_count": 98,
   "metadata": {},
   "outputs": [
    {
     "data": {
      "text/plain": [
       "0                                                    [pobj]\n",
       "1         [dep, dep, dep, nsubjpass, appos, nmod, pobj, ...\n",
       "2                                                [dep, dep]\n",
       "3                                              [pobj, pobj]\n",
       "4                                          [dep, dep, dobj]\n",
       "                                ...                        \n",
       "820229                                        [ROOT, appos]\n",
       "820230                                        [nmod, appos]\n",
       "820231                                         [dep, nsubj]\n",
       "820232                                                [dep]\n",
       "820233                                               [conj]\n",
       "Name: Relation, Length: 5188578, dtype: object"
      ]
     },
     "execution_count": 98,
     "metadata": {},
     "output_type": "execute_result"
    }
   ],
   "source": [
    "df['Relation'].iloc[4]"
   ]
  },
  {
   "cell_type": "code",
   "execution_count": 103,
   "metadata": {},
   "outputs": [
    {
     "data": {
      "text/plain": [
       "\"Thank you for your posts. I want to pull my hair out when I see liberals stating that [NAME] wasn't that bad. Yes, [NAME] was that bad! [NAME] did a lot of horrible things purely for the benefit of the 1%, it's just that they managed to maintain a pretense of decency and caring that Trump doesn't bother with, but that doesn't make it any better. I was 20 when [NAME] was elected, and paid attention the entire time. The economy was good for awhile because of Clinton, just like Trump inherited a great stock market from Obama and tried to take credit. Bad policies take time to show consequences. The war based on lies, direct messages from god, and Islamophobia was a pretty big deal, but was hardly the only bad thing [NAME] and [NAME] band of Neocons (NOT traditional conservatives) did. Does anyone remember when healthcare was better and affordable before [NAME] deregulated the industry? I sure do. The current situation started with that. [NAME] deregulated many industries which caused all kinds of trouble, including the inevitable economic collapse as a direct result of [NAME] policies. Anyone who doesn't think [NAME] was a clear and present danger to America as we knew it was either not old enough, not paying close enough attention/digging, or has amnesia. Remember, American Idiot was originally written about [NAME]. \""
      ]
     },
     "execution_count": 103,
     "metadata": {},
     "output_type": "execute_result"
    }
   ],
   "source": [
    "df.body.iloc[1]"
   ]
  },
  {
   "cell_type": "code",
   "execution_count": 32,
   "metadata": {},
   "outputs": [
    {
     "data": {
      "text/plain": [
       "dep         0.347463\n",
       "pobj        0.186654\n",
       "nsubj       0.090550\n",
       "nmod        0.087619\n",
       "dobj        0.085314\n",
       "appos       0.080026\n",
       "conj        0.043824\n",
       "ROOT        0.017726\n",
       "npadvmod    0.015679\n",
       "attr        0.014362\n",
       "dtype: float64"
      ]
     },
     "execution_count": 32,
     "metadata": {},
     "output_type": "execute_result"
    }
   ],
   "source": [
    "fem_df.sort_values(ascending=False)[:10]"
   ]
  },
  {
   "cell_type": "code",
   "execution_count": 42,
   "metadata": {},
   "outputs": [
    {
     "data": {
      "image/png": "[encoded data removed]",
      "text/plain": [
       "<Figure size 432x288 with 1 Axes>"
      ]
     },
     "metadata": {
      "needs_background": "light"
     },
     "output_type": "display_data"
    }
   ],
   "source": [
    "plt.title(\"Distribution of Dependency Relations\")\n",
    "plt.bar(fem_df.sort_values(ascending=False)[:10].index,fem_df.sort_values(ascending=False)[:10], color='pink', alpha=0.5, label=\"Women\")\n",
    "plt.bar(mal_df.sort_values(ascending=False)[:10].index,mal_df.sort_values(ascending=False)[:10], alpha=0.3, label=\"Men\")\n",
    "plt.legend()\n",
    "#plt.bar(mal_df.sort_values(ascending=False)[:10])\n",
    "plt.xticks(rotation=90)\n",
    "plt.show()"
   ]
  },
  {
   "cell_type": "code",
   "execution_count": 95,
   "metadata": {},
   "outputs": [
    {
     "data": {
      "text/plain": [
       "pobj         1.891603e-01\n",
       "dep          3.343039e-01\n",
       "nsubjpass    1.233134e-02\n",
       "appos        8.461144e-02\n",
       "nmod         1.128698e-01\n",
       "dobj         8.850767e-02\n",
       "nsubj        8.893077e-02\n",
       "conj         2.999300e-02\n",
       "npadvmod     1.494341e-02\n",
       "auxpass      1.274180e-04\n",
       "parataxis    8.542573e-03\n",
       "relcl        3.262039e-04\n",
       "ROOT         1.307148e-02\n",
       "attr         1.268575e-02\n",
       "ccomp        2.870733e-03\n",
       "advcl        1.704476e-03\n",
       "oprd         2.020816e-03\n",
       "compound     9.689799e-05\n",
       "pcomp        8.887924e-04\n",
       "intj         2.130595e-04\n",
       "acl          8.540948e-05\n",
       "neg          2.908100e-04\n",
       "advmod       9.260430e-05\n",
       "poss         2.322070e-04\n",
       "agent        1.790582e-04\n",
       "punct        5.245256e-05\n",
       "dative       1.331042e-04\n",
       "meta         5.367104e-04\n",
       "xcomp        8.889085e-05\n",
       "cc           4.049988e-05\n",
       "preconj      2.553001e-05\n",
       "aux          2.599419e-05\n",
       "case         4.641820e-07\n",
       "quantmod     3.597410e-06\n",
       "csubj        1.090828e-05\n",
       "csubjpass    5.802275e-07\n",
       "det          9.283640e-07\n",
       "mark         1.160455e-07\n",
       "nummod       1.160455e-07\n",
       "prep         2.320910e-07\n",
       "dtype: float64"
      ]
     },
     "execution_count": 95,
     "metadata": {},
     "output_type": "execute_result"
    }
   ],
   "source": [
    "# find examples of what can't be parsed\n",
    "# examples of nmod and conj"
   ]
  },
  {
   "cell_type": "code",
   "execution_count": 58,
   "metadata": {},
   "outputs": [],
   "source": [
    "def test_sig(POS):\n",
    "    f= round(females[POS]*females_ct)*[1] + [0]*round(females_ct*(1-females[POS]))\n",
    "    m = round(males[POS]*males_ct)*[1] + [0]*round(males_ct*(1-males[POS]))\n",
    "    return ttest_ind(f, m)"
   ]
  },
  {
   "cell_type": "code",
   "execution_count": 73,
   "metadata": {},
   "outputs": [],
   "source": [
    "f = {}\n",
    "for key in females.keys():\n",
    "    f[key] = round(females[key]*females_ct)\n",
    "    \n",
    "m = {}\n",
    "for key in males.keys():\n",
    "    m[key] = round(males[key]*males_ct)"
   ]
  },
  {
   "cell_type": "code",
   "execution_count": 88,
   "metadata": {},
   "outputs": [
    {
     "data": {
      "text/plain": [
       "Power_divergenceResult(statistic=array([1.86265338e+06, 8.84609548e+03, 4.90937219e+05, 5.09542796e+05,\n",
       "       5.00075779e+05, 1.07829508e+06, 6.33374929e+04, 7.04288090e+05,\n",
       "       1.38626616e+05, 6.78747038e+04, 8.29037600e+04, 7.50644143e+04,\n",
       "       4.60448794e+04, 1.10729768e+04, 1.55433346e+04, 2.72754317e+03,\n",
       "       9.70317926e+02, 5.15511107e+03, 8.87117856e+02, 5.20765661e+02,\n",
       "       4.57160188e+02, 7.05562550e+02, 6.81078563e+02, 1.60276709e+03,\n",
       "       1.81444967e+03, 3.37941414e+02, 1.60271309e+03, 5.25496689e+02,\n",
       "       7.60027692e+02, 1.57442623e+02, 6.78461538e+01, 2.26130653e+02,\n",
       "       1.48173228e+02, 1.51578947e+01]), pvalue=array([0.00000000e+000, 0.00000000e+000, 0.00000000e+000, 0.00000000e+000,\n",
       "       0.00000000e+000, 0.00000000e+000, 0.00000000e+000, 0.00000000e+000,\n",
       "       0.00000000e+000, 0.00000000e+000, 0.00000000e+000, 0.00000000e+000,\n",
       "       0.00000000e+000, 0.00000000e+000, 0.00000000e+000, 0.00000000e+000,\n",
       "       5.08365669e-213, 0.00000000e+000, 6.19821280e-195, 2.88378169e-115,\n",
       "       1.99474516e-101, 1.84543150e-155, 3.89381404e-150, 0.00000000e+000,\n",
       "       0.00000000e+000, 1.79142208e-075, 0.00000000e+000, 2.69573024e-116,\n",
       "       2.64874024e-167, 4.09667752e-036, 1.76763047e-016, 4.16114767e-051,\n",
       "       4.34774797e-034, 9.88839817e-005]))"
      ]
     },
     "execution_count": 88,
     "metadata": {},
     "output_type": "execute_result"
    }
   ],
   "source": [
    "from scipy.stats import chisquare\n",
    "fm = pd.DataFrame([f,m], index=['females','males']).fillna(0)\n",
    "chisquare(fm[fm > 5].dropna(axis=1))"
   ]
  },
  {
   "cell_type": "code",
   "execution_count": 94,
   "metadata": {},
   "outputs": [
    {
     "data": {
      "text/plain": [
       "Power_divergenceResult(statistic=6439482.995561551, pvalue=0.0)"
      ]
     },
     "execution_count": 94,
     "metadata": {},
     "output_type": "execute_result"
    }
   ],
   "source": [
    "chisquare(fm[fm > 5].dropna(axis=1).loc['females'], fm[fm > 5].dropna(axis=1).loc['males'])"
   ]
  },
  {
   "cell_type": "code",
   "execution_count": 70,
   "metadata": {},
   "outputs": [
    {
     "data": {
      "text/plain": [
       "Ttest_indResult(statistic=28.275704858394878, pvalue=6.990563922498237e-176)"
      ]
     },
     "execution_count": 70,
     "metadata": {},
     "output_type": "execute_result"
    }
   ],
   "source": [
    "test_sig('dep')"
   ]
  },
  {
   "cell_type": "code",
   "execution_count": 54,
   "metadata": {},
   "outputs": [
    {
     "data": {
      "text/plain": [
       "Ttest_indResult(statistic=-81.9709068995619, pvalue=0.0)"
      ]
     },
     "execution_count": 54,
     "metadata": {},
     "output_type": "execute_result"
    }
   ],
   "source": [
    "from random import shuffle\n",
    "ttest_ind(f_nmods, m_nmods)"
   ]
  },
  {
   "cell_type": "code",
   "execution_count": 56,
   "metadata": {},
   "outputs": [
    {
     "data": {
      "text/plain": [
       "0.08761874631255825"
      ]
     },
     "execution_count": 56,
     "metadata": {},
     "output_type": "execute_result"
    }
   ],
   "source": [
    "females['nmod']"
   ]
  },
  {
   "cell_type": "code",
   "execution_count": 57,
   "metadata": {},
   "outputs": [
    {
     "data": {
      "text/plain": [
       "0.11286979347383348"
      ]
     },
     "execution_count": 57,
     "metadata": {},
     "output_type": "execute_result"
    }
   ],
   "source": [
    "males['nmod']"
   ]
  },
  {
   "cell_type": "code",
   "execution_count": null,
   "metadata": {},
   "outputs": [],
   "source": []
  }
 ],
 "metadata": {
  "kernelspec": {
   "display_name": "NLP",
   "language": "python",
   "name": "nlp"
  },
  "language_info": {
   "codemirror_mode": {
    "name": "ipython",
    "version": 3
   },
   "file_extension": ".py",
   "mimetype": "text/x-python",
   "name": "python",
   "nbconvert_exporter": "python",
   "pygments_lexer": "ipython3",
   "version": "3.7.9"
  }
 },
 "nbformat": 4,
 "nbformat_minor": 4
}
